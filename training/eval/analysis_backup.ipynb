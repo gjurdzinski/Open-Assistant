{
 "cells": [
  {
   "cell_type": "code",
   "execution_count": 1,
   "metadata": {},
   "outputs": [],
   "source": [
    "import pandas as pd\n",
    "import numpy as np\n",
    "from utils import (\n",
    "    load_labelers_predictions,\n",
    "    load_models_predictions,\n",
    "    Split,\n",
    "    METRIC_2_MODEL_INCREMENTAL,\n",
    "    METRIC_2_MODEL_INCREMENTAL_PARTIAL,\n",
    ")\n",
    "from evaluation import evaluate_labelers\n",
    "from typing import Dict, Tuple, List, get_args\n",
    "from pathlib import Path\n",
    "\n",
    "# plotting\n",
    "import plotly.graph_objects as go\n",
    "import plotly.express as px\n",
    "import plotly.io as pio\n",
    "from plotly.subplots import make_subplots\n",
    "\n",
    "pio.templates.default = 'plotly_white'"
   ]
  },
  {
   "attachments": {},
   "cell_type": "markdown",
   "metadata": {},
   "source": [
    "## Define variables"
   ]
  },
  {
   "cell_type": "code",
   "execution_count": 10,
   "metadata": {},
   "outputs": [],
   "source": [
    "METRICS = (\"InformativenessRating\",)  # \"RelevanceRating\")\n",
    "HOME_DIR = \"/mnt/ml-team/homes/grzegorz.jurdzinski\"\n",
    "NEWSROOM_DIR = f\"{HOME_DIR}/datasets/newsroom\"\n",
    "PREDS_DIR = \"/mnt/ml-team/homes/grzegorz.jurdzinski/runs/newsroom-incremental\"\n",
    "MODELS = (\n",
    "    \"deberta-small\",\n",
    "    \"deberta-base\",\n",
    "    \"deberta-large\",\n",
    "    \"reward-deberta-base\",\n",
    "    \"reward-deberta-large\",\n",
    ")"
   ]
  },
  {
   "cell_type": "code",
   "execution_count": 11,
   "metadata": {},
   "outputs": [],
   "source": [
    "file_names = {\n",
    "    \"original\": \"newsroom-aggregated-original-order.csv\",\n",
    "    \"random\": \"newsroom-aggregated-random-order.csv\",\n",
    "    \"sorted\": \"newsroom-aggregated-sorted-order.csv\",\n",
    "}"
   ]
  },
  {
   "attachments": {},
   "cell_type": "markdown",
   "metadata": {},
   "source": [
    "If the models' predictions were not bucketised yet, run `bucketise_predictions.py` to do so."
   ]
  },
  {
   "attachments": {},
   "cell_type": "markdown",
   "metadata": {},
   "source": [
    "## Load labelers predictions"
   ]
  },
  {
   "cell_type": "code",
   "execution_count": 12,
   "metadata": {},
   "outputs": [],
   "source": [
    "def get_labelers_preds(dir: str, metric: str, split: str) -> pd.DataFrame:\n",
    "    labelers_preds = load_labelers_predictions(\n",
    "        NEWSROOM_DIR,\n",
    "        \"newsroom-aggregated-original-order.csv\",\n",
    "        metric=metric,\n",
    "        split=split\n",
    "    )\n",
    "    \n",
    "    # Add one random labeler.\n",
    "    temp_labelers_preds = load_labelers_predictions(\n",
    "        NEWSROOM_DIR,\n",
    "        \"newsroom-aggregated-random-order.csv\",\n",
    "        metric=metric,\n",
    "        split=split\n",
    "    )\n",
    "    temp_labelers_preds.rename(columns={\"labeler_1\": \"random_labeler\"}, inplace=True)\n",
    "    labelers_preds = labelers_preds.merge(\n",
    "        temp_labelers_preds[[\"ArticleID\", \"System\", \"random_labeler\"]],\n",
    "        how=\"inner\",\n",
    "        on=[\"ArticleID\", \"System\"])\n",
    "    \n",
    "    # Add median labeler.\n",
    "    temp_labelers_preds = load_labelers_predictions(\n",
    "        NEWSROOM_DIR,\n",
    "        \"newsroom-aggregated-sorted-order.csv\",\n",
    "        metric=metric,\n",
    "        split=split\n",
    "    )\n",
    "    temp_labelers_preds.rename(columns={\"labeler_2\": \"median_labeler\"}, inplace=True)\n",
    "    labelers_preds = labelers_preds.merge(\n",
    "        temp_labelers_preds[[\"ArticleID\", \"System\", \"median_labeler\"]],\n",
    "        how=\"inner\",\n",
    "        on=[\"ArticleID\", \"System\"])\n",
    "    \n",
    "    return labelers_preds"
   ]
  },
  {
   "cell_type": "code",
   "execution_count": 13,
   "metadata": {},
   "outputs": [],
   "source": [
    "labelers_preds_dict = {}\n",
    "\n",
    "for metric in METRICS:\n",
    "    labelers_preds_dict[metric] = {}\n",
    "    for split in get_args(Split):\n",
    "        labelers_preds_dict[metric][split] = get_labelers_preds(\n",
    "            NEWSROOM_DIR, metric, split\n",
    "        )"
   ]
  },
  {
   "attachments": {},
   "cell_type": "markdown",
   "metadata": {},
   "source": [
    "## Define evaluation helper functions"
   ]
  },
  {
   "cell_type": "code",
   "execution_count": 14,
   "metadata": {},
   "outputs": [],
   "source": [
    "def evaluate_and_compare_models(\n",
    "    models_preds: Dict[str, Dict[str, pd.DataFrame]],\n",
    "    labelers_preds_dict: Dict[str, Dict[str, pd.DataFrame]],\n",
    "    metric: str,\n",
    "    split: Split,\n",
    "    k: int = 1,\n",
    ") -> Tuple[pd.Series, go.Figure]:\n",
    "    \"\"\"\n",
    "    Merges labelers and models predictions and evaluates them.\n",
    "    Args:\n",
    "        models_preds: Dict of dicts of DataFrames with models predictions.\n",
    "        labelers_preds_dict: Dict of dicts of DataFrames with labelers predictions.\n",
    "        metric: Metric to evaluate.\n",
    "        split: Split to evaluate.\n",
    "        k: k from our evaluation formula.\n",
    "    Returns:\n",
    "        Tuple of:\n",
    "            - Series with evaluation results.\n",
    "            - Plotly figure with predictions.\n",
    "    \"\"\"\n",
    "    labelers_preds = labelers_preds_dict[metric][split]\n",
    "    labelers_preds = _merge_labelers_and_models_preds(labelers_preds, models_preds, metric)\n",
    "\n",
    "    labelers_preds = _add_fixed_columns(\n",
    "        labelers_preds, [3, 3.25, 3.5, 3.75, 4]\n",
    "    )\n",
    "    labelers_preds[\"mean_jittered\"] = (\n",
    "        labelers_preds[\"labeler_mean\"]\n",
    "        + np.random.normal(loc=0.0, scale=0.15, size=(len(labelers_preds)))\n",
    "    ).clip(lower=0, upper=5)\n",
    "\n",
    "    anot_cols = labelers_preds.columns.to_list()\n",
    "    anot_cols.remove(\"ArticleID\")\n",
    "    anot_cols.remove(\"System\")\n",
    "    anot_cols.remove(\"summary_id\")\n",
    "\n",
    "    labelers_preds[anot_cols] = (labelers_preds[anot_cols] - 1) / 4\n",
    "\n",
    "    annotator_scores = evaluate_labelers(\n",
    "        labelers_preds[anot_cols],\n",
    "        normalization=None,\n",
    "        human_prefix=\"labeler_\",\n",
    "        k=k,\n",
    "    ).sort_values(ascending=False)\n",
    "    # display(evaluation_results)\n",
    "\n",
    "    temp_melt_df = pd.melt(\n",
    "        labelers_preds, id_vars=[\"summary_id\"], value_vars=anot_cols\n",
    "    )\n",
    "    # print(temp_melt_df)\n",
    "    fig = px.scatter(\n",
    "        temp_melt_df,\n",
    "        x=\"summary_id\",\n",
    "        y=\"value\",\n",
    "        color=\"variable\",\n",
    "    )\n",
    "    return annotator_scores, fig\n",
    "    # fig.show()\n",
    "\n",
    "\n",
    "def _add_fixed_columns(df: pd.DataFrame, values: List[float]) -> pd.DataFrame:\n",
    "    for v in values:\n",
    "        df[f\"fixed_{v}\"] = v\n",
    "    return df\n",
    "\n",
    "\n",
    "def _merge_labelers_and_models_preds(\n",
    "    labelers_preds: pd.DataFrame,\n",
    "    models_preds: Dict[str, Dict[str, pd.DataFrame]],\n",
    "    metric: str,\n",
    ") -> pd.DataFrame:\n",
    "    if metric in models_preds:  # METRIC_2_MODEL_INCREMENTAL:\n",
    "        for model_name, model_predictions in models_preds[metric].items():\n",
    "            labelers_preds = labelers_preds.merge(\n",
    "                model_predictions[[\"ArticleID\", \"System\", \"labels\"]],\n",
    "                how=\"inner\",\n",
    "                on=[\"ArticleID\", \"System\"],\n",
    "            ).rename(columns={\"labels\": model_name})\n",
    "    return labelers_preds"
   ]
  },
  {
   "cell_type": "code",
   "execution_count": 15,
   "metadata": {},
   "outputs": [],
   "source": [
    "# models_preds = load_models_predictions(\n",
    "#     metric2model=METRIC_2_MODEL_INCREMENTAL,\n",
    "#     preds_path=Path(PREDS_DIR) / \"deberta-small\",\n",
    "#     load_from_buckets_dir=True,\n",
    "#     split_prefixes=[\"val_\"],\n",
    "# )\n",
    "# evaluate_and_compare_models(\n",
    "#     models_preds, labelers_preds_dict, \"RelevanceRating\", \"valid\"\n",
    "# )"
   ]
  },
  {
   "attachments": {},
   "cell_type": "markdown",
   "metadata": {},
   "source": [
    "## Load and evaluate models predictions"
   ]
  },
  {
   "cell_type": "code",
   "execution_count": 17,
   "metadata": {},
   "outputs": [
    {
     "name": "stdout",
     "output_type": "stream",
     "text": [
      "Evaluating metric InformativenessRating...\n",
      "  Evaluating split train...\n",
      "    Evaluating model deberta-small...\n",
      "    Evaluating model deberta-base...\n",
      "    Evaluating model deberta-large...\n",
      "    Evaluating model reward-deberta-base...\n",
      "    Evaluating model reward-deberta-large...\n",
      "  Evaluating split valid...\n",
      "    Evaluating model deberta-small...\n",
      "    Evaluating model deberta-base...\n",
      "    Evaluating model deberta-large...\n",
      "    Evaluating model reward-deberta-base...\n",
      "    Evaluating model reward-deberta-large...\n",
      "DONE\n"
     ]
    }
   ],
   "source": [
    "scores_dict: Dict[str, Dict[str, Dict[str, pd.Series]]] = {}\n",
    "figures_dict: Dict[str, Dict[str, Dict[str, go.Figure]]] = {}\n",
    "\n",
    "for metric in METRICS:\n",
    "    print(f\"Evaluating metric {metric}...\")\n",
    "    scores_dict[metric] = {}\n",
    "    figures_dict[metric] = {}\n",
    "    for split in get_args(Split):\n",
    "        print(f\"  Evaluating split {split}...\")\n",
    "        scores_dict[metric][split] = {}\n",
    "        figures_dict[metric][split] = {}\n",
    "        for model in MODELS:\n",
    "            print(f\"    Evaluating model {model}...\")\n",
    "            models_preds = load_models_predictions(\n",
    "                metric2model=METRIC_2_MODEL_INCREMENTAL\n",
    "                if model == \"deberta-small\"\n",
    "                else METRIC_2_MODEL_INCREMENTAL_PARTIAL,\n",
    "                preds_path=Path(PREDS_DIR) / model,\n",
    "                load_from_buckets_dir=True,\n",
    "                split_prefixes=[\"val_\" if split == \"valid\" else \"tr_\"],\n",
    "            )\n",
    "            score, fig = evaluate_and_compare_models(\n",
    "                models_preds,\n",
    "                labelers_preds_dict,\n",
    "                metric,\n",
    "                split,\n",
    "            )\n",
    "            scores_dict[metric][split][model] = score\n",
    "            figures_dict[metric][split][model] = fig\n",
    "print(\"DONE\")"
   ]
  },
  {
   "attachments": {},
   "cell_type": "markdown",
   "metadata": {},
   "source": [
    "## Visualise"
   ]
  },
  {
   "cell_type": "code",
   "execution_count": 9,
   "metadata": {},
   "outputs": [],
   "source": [
    "# for metric in METRICS:\n",
    "#     for split in get_args(Split):\n",
    "#         for model in MODELS:\n",
    "#             print(f\"Metric: {metric}, Split: {split}, Model: {model}\")\n",
    "#             display(scores_dict[metric][split][model])\n",
    "#             print(f\"{30 * '#'}\\n\")"
   ]
  },
  {
   "cell_type": "code",
   "execution_count": 18,
   "metadata": {},
   "outputs": [],
   "source": [
    "def bar_plot_rewards(split: Split, metric: str, model: str):\n",
    "    split_prefix = \"tr\" if split == \"train\" else \"val\"\n",
    "    temp = scores_dict[metric][split][model][\n",
    "        [f\"{split_prefix}_rewards_{i}\" for i in range(10)]\n",
    "        + [\"median_labeler\", \"random_labeler\", \"fixed_3.5\"]\n",
    "    ]\n",
    "    fig = px.bar(\n",
    "        temp, x=temp.index, y=temp.values, title=f\"{split}, {metric}, {model}\"\n",
    "    )\n",
    "    fig.update_layout(yaxis_range=[temp.min() * 0.99, temp.max() * 1.01])\n",
    "    return fig"
   ]
  },
  {
   "cell_type": "code",
   "execution_count": 11,
   "metadata": {},
   "outputs": [],
   "source": [
    "# figs = {\n",
    "#     model: {\n",
    "#         split: bar_plot_rewards(split, \"RelevanceRating\", model)\n",
    "#         for split in (\"train\", \"valid\")\n",
    "#     }\n",
    "#     for model in MODELS\n",
    "# }\n",
    "\n",
    "# fig = make_subplots(\n",
    "#     rows=3,\n",
    "#     cols=2,\n",
    "#     subplot_titles=[\n",
    "#         f\"{model} {split}\" for model in MODELS for split in (\"train\", \"valid\")\n",
    "#     ],\n",
    "# )\n",
    "\n",
    "# for row, model in enumerate(MODELS):\n",
    "#     for col, split in enumerate((\"train\", \"valid\")):\n",
    "#         fig.add_trace(figs[model][split][\"data\"][0], row=row + 1, col=col + 1)\n",
    "#         fig.update_yaxes(range=[0.76, 0.91], row=row + 1, col=col + 1)\n",
    "\n",
    "\n",
    "# fig.update_layout(height=1500, width=800)\n",
    "# fig.show()"
   ]
  },
  {
   "cell_type": "code",
   "execution_count": 12,
   "metadata": {},
   "outputs": [],
   "source": [
    "# figs = {\n",
    "#     model: {\n",
    "#         split: bar_plot_rewards(split, \"InformativenessRating\", model)\n",
    "#         for split in (\"train\", \"valid\")\n",
    "#     }\n",
    "#     for model in MODELS\n",
    "# }\n",
    "\n",
    "# fig = make_subplots(\n",
    "#     rows=3,\n",
    "#     cols=2,\n",
    "#     subplot_titles=[\n",
    "#         f\"{model} {split}\" for model in MODELS for split in (\"train\", \"valid\")\n",
    "#     ],\n",
    "# )\n",
    "\n",
    "# for row, model in enumerate(MODELS):\n",
    "#     for col, split in enumerate((\"train\", \"valid\")):\n",
    "#         fig.add_trace(figs[model][split][\"data\"][0], row=row + 1, col=col + 1)\n",
    "#         fig.update_yaxes(range=[0.8, 0.9], row=row + 1, col=col + 1)\n",
    "\n",
    "\n",
    "# fig.update_layout(height=1500, width=800)\n",
    "# fig.show()"
   ]
  },
  {
   "cell_type": "code",
   "execution_count": 20,
   "metadata": {},
   "outputs": [
    {
     "data": {
      "text/plain": [
       "labeler_mean      1.000000\n",
       "mean_jittered     0.968103\n",
       "median_labeler    0.921759\n",
       "val_rewards_2     0.870833\n",
       "labeler_2         0.869444\n",
       "val_rewards_8     0.866667\n",
       "val_rewards_9     0.864815\n",
       "val_rewards_1     0.862500\n",
       "labeler_3         0.860648\n",
       "val_rewards_3     0.860648\n",
       "val_rewards_4     0.858796\n",
       "val_rewards_6     0.858796\n",
       "val_rewards_10    0.856944\n",
       "val_rewards_5     0.856481\n",
       "fixed_3.5         0.856019\n",
       "val_rewards_7     0.855556\n",
       "random_labeler    0.855093\n",
       "labeler_1         0.854167\n",
       "fixed_3.75        0.852778\n",
       "fixed_3.25        0.843981\n",
       "val_rewards_0     0.837037\n",
       "fixed_4           0.831944\n",
       "fixed_3           0.818981\n",
       "dtype: float64"
      ]
     },
     "execution_count": 20,
     "metadata": {},
     "output_type": "execute_result"
    }
   ],
   "source": [
    "scores_dict[\"InformativenessRating\"][\"valid\"][\"deberta-small\"]"
   ]
  },
  {
   "cell_type": "code",
   "execution_count": 21,
   "metadata": {},
   "outputs": [
    {
     "data": {
      "text/plain": [
       "0.8555555555555556"
      ]
     },
     "execution_count": 21,
     "metadata": {},
     "output_type": "execute_result"
    }
   ],
   "source": [
    "scores_dict[\"InformativenessRating\"][\"valid\"][\"deberta-small\"][\"val_rewards_7\"]"
   ]
  },
  {
   "cell_type": "code",
   "execution_count": 22,
   "metadata": {},
   "outputs": [
    {
     "data": {
      "text/plain": [
       "0       0\n",
       "1      10\n",
       "2      20\n",
       "3      30\n",
       "4      40\n",
       "5      50\n",
       "6      60\n",
       "7      70\n",
       "8      80\n",
       "9      90\n",
       "10    100\n",
       "dtype: int64"
      ]
     },
     "execution_count": 22,
     "metadata": {},
     "output_type": "execute_result"
    }
   ],
   "source": [
    "pd.Series(range(11)) * 10"
   ]
  },
  {
   "cell_type": "code",
   "execution_count": 23,
   "metadata": {},
   "outputs": [],
   "source": [
    "def generate_dfs_for_plot():\n",
    "    dfs = {}\n",
    "    for metric in METRICS:\n",
    "        dfs[metric] = {}\n",
    "        for split in get_args(Split):\n",
    "            dfs[metric][split] = pd.DataFrame(\n",
    "                {\"percentage\": pd.Series(range(11)) * 10}\n",
    "            )\n",
    "            for model in MODELS:\n",
    "                dfs[metric][split][model] = get_model_column(\n",
    "                    scores_dict,\n",
    "                    metric,\n",
    "                    model,\n",
    "                    split,\n",
    "                ).values\n",
    "            dfs[metric][split][\"median_labeler\"] = scores_dict[metric][split][\n",
    "                model\n",
    "            ][\"median_labeler\"]\n",
    "            dfs[metric][split][\"random_labeler\"] = scores_dict[metric][split][\n",
    "                model\n",
    "            ][\"random_labeler\"]\n",
    "            dfs[metric][split][\"fixed_4\"] = scores_dict[metric][split][model][\n",
    "                \"fixed_4\"\n",
    "            ]\n",
    "            dfs[metric][split][\"fixed_3.5\"] = scores_dict[metric][split][\n",
    "                model\n",
    "            ][\"fixed_3.5\"]\n",
    "    return dfs\n",
    "\n",
    "\n",
    "def get_model_column(\n",
    "    scores_dict: Dict[str, Dict[str, Dict[str, pd.Series]]],\n",
    "    metric: str,\n",
    "    model_name: str,\n",
    "    split: Split,\n",
    ") -> pd.DataFrame:\n",
    "    split_prefix = \"tr_\" if split == \"train\" else \"val_\"\n",
    "    temp = scores_dict[metric][split][model_name]\n",
    "    # Adding 0 to the beginning of the series because we didn't\n",
    "    # evaluate untrained model.\n",
    "    new_col = pd.concat(\n",
    "        [\n",
    "            pd.Series([0.0]),\n",
    "            temp[temp.index.str.startswith(split_prefix)].sort_index(),\n",
    "        ]\n",
    "    )\n",
    "    return new_col"
   ]
  },
  {
   "cell_type": "code",
   "execution_count": 24,
   "metadata": {},
   "outputs": [
    {
     "ename": "ValueError",
     "evalue": "Length of values (12) does not match length of index (11)",
     "output_type": "error",
     "traceback": [
      "\u001b[0;31m---------------------------------------------------------------------------\u001b[0m",
      "\u001b[0;31mValueError\u001b[0m                                Traceback (most recent call last)",
      "Cell \u001b[0;32mIn[24], line 1\u001b[0m\n\u001b[0;32m----> 1\u001b[0m dfs \u001b[39m=\u001b[39m generate_dfs_for_plot()\n",
      "Cell \u001b[0;32mIn[23], line 10\u001b[0m, in \u001b[0;36mgenerate_dfs_for_plot\u001b[0;34m()\u001b[0m\n\u001b[1;32m      6\u001b[0m dfs[metric][split] \u001b[39m=\u001b[39m pd\u001b[39m.\u001b[39mDataFrame(\n\u001b[1;32m      7\u001b[0m     {\u001b[39m\"\u001b[39m\u001b[39mpercentage\u001b[39m\u001b[39m\"\u001b[39m: pd\u001b[39m.\u001b[39mSeries(\u001b[39mrange\u001b[39m(\u001b[39m11\u001b[39m)) \u001b[39m*\u001b[39m \u001b[39m10\u001b[39m}\n\u001b[1;32m      8\u001b[0m )\n\u001b[1;32m      9\u001b[0m \u001b[39mfor\u001b[39;00m model \u001b[39min\u001b[39;00m MODELS:\n\u001b[0;32m---> 10\u001b[0m     dfs[metric][split][model] \u001b[39m=\u001b[39m get_model_column(\n\u001b[1;32m     11\u001b[0m         scores_dict,\n\u001b[1;32m     12\u001b[0m         metric,\n\u001b[1;32m     13\u001b[0m         model,\n\u001b[1;32m     14\u001b[0m         split,\n\u001b[1;32m     15\u001b[0m     )\u001b[39m.\u001b[39mvalues\n\u001b[1;32m     16\u001b[0m dfs[metric][split][\u001b[39m\"\u001b[39m\u001b[39mmedian_labeler\u001b[39m\u001b[39m\"\u001b[39m] \u001b[39m=\u001b[39m scores_dict[metric][split][\n\u001b[1;32m     17\u001b[0m     model\n\u001b[1;32m     18\u001b[0m ][\u001b[39m\"\u001b[39m\u001b[39mmedian_labeler\u001b[39m\u001b[39m\"\u001b[39m]\n\u001b[1;32m     19\u001b[0m dfs[metric][split][\u001b[39m\"\u001b[39m\u001b[39mrandom_labeler\u001b[39m\u001b[39m\"\u001b[39m] \u001b[39m=\u001b[39m scores_dict[metric][split][\n\u001b[1;32m     20\u001b[0m     model\n\u001b[1;32m     21\u001b[0m ][\u001b[39m\"\u001b[39m\u001b[39mrandom_labeler\u001b[39m\u001b[39m\"\u001b[39m]\n",
      "File \u001b[0;32m/mnt/ml-team/homes/grzegorz.jurdzinski/.base/lib/python3.8/site-packages/pandas/core/frame.py:3980\u001b[0m, in \u001b[0;36mDataFrame.__setitem__\u001b[0;34m(self, key, value)\u001b[0m\n\u001b[1;32m   3977\u001b[0m     \u001b[39mself\u001b[39m\u001b[39m.\u001b[39m_setitem_array([key], value)\n\u001b[1;32m   3978\u001b[0m \u001b[39melse\u001b[39;00m:\n\u001b[1;32m   3979\u001b[0m     \u001b[39m# set column\u001b[39;00m\n\u001b[0;32m-> 3980\u001b[0m     \u001b[39mself\u001b[39;49m\u001b[39m.\u001b[39;49m_set_item(key, value)\n",
      "File \u001b[0;32m/mnt/ml-team/homes/grzegorz.jurdzinski/.base/lib/python3.8/site-packages/pandas/core/frame.py:4174\u001b[0m, in \u001b[0;36mDataFrame._set_item\u001b[0;34m(self, key, value)\u001b[0m\n\u001b[1;32m   4164\u001b[0m \u001b[39mdef\u001b[39;00m \u001b[39m_set_item\u001b[39m(\u001b[39mself\u001b[39m, key, value) \u001b[39m-\u001b[39m\u001b[39m>\u001b[39m \u001b[39mNone\u001b[39;00m:\n\u001b[1;32m   4165\u001b[0m \u001b[39m    \u001b[39m\u001b[39m\"\"\"\u001b[39;00m\n\u001b[1;32m   4166\u001b[0m \u001b[39m    Add series to DataFrame in specified column.\u001b[39;00m\n\u001b[1;32m   4167\u001b[0m \n\u001b[0;32m   (...)\u001b[0m\n\u001b[1;32m   4172\u001b[0m \u001b[39m    ensure homogeneity.\u001b[39;00m\n\u001b[1;32m   4173\u001b[0m \u001b[39m    \"\"\"\u001b[39;00m\n\u001b[0;32m-> 4174\u001b[0m     value \u001b[39m=\u001b[39m \u001b[39mself\u001b[39;49m\u001b[39m.\u001b[39;49m_sanitize_column(value)\n\u001b[1;32m   4176\u001b[0m     \u001b[39mif\u001b[39;00m (\n\u001b[1;32m   4177\u001b[0m         key \u001b[39min\u001b[39;00m \u001b[39mself\u001b[39m\u001b[39m.\u001b[39mcolumns\n\u001b[1;32m   4178\u001b[0m         \u001b[39mand\u001b[39;00m value\u001b[39m.\u001b[39mndim \u001b[39m==\u001b[39m \u001b[39m1\u001b[39m\n\u001b[1;32m   4179\u001b[0m         \u001b[39mand\u001b[39;00m \u001b[39mnot\u001b[39;00m is_extension_array_dtype(value)\n\u001b[1;32m   4180\u001b[0m     ):\n\u001b[1;32m   4181\u001b[0m         \u001b[39m# broadcast across multiple columns if necessary\u001b[39;00m\n\u001b[1;32m   4182\u001b[0m         \u001b[39mif\u001b[39;00m \u001b[39mnot\u001b[39;00m \u001b[39mself\u001b[39m\u001b[39m.\u001b[39mcolumns\u001b[39m.\u001b[39mis_unique \u001b[39mor\u001b[39;00m \u001b[39misinstance\u001b[39m(\u001b[39mself\u001b[39m\u001b[39m.\u001b[39mcolumns, MultiIndex):\n",
      "File \u001b[0;32m/mnt/ml-team/homes/grzegorz.jurdzinski/.base/lib/python3.8/site-packages/pandas/core/frame.py:4915\u001b[0m, in \u001b[0;36mDataFrame._sanitize_column\u001b[0;34m(self, value)\u001b[0m\n\u001b[1;32m   4912\u001b[0m     \u001b[39mreturn\u001b[39;00m _reindex_for_setitem(Series(value), \u001b[39mself\u001b[39m\u001b[39m.\u001b[39mindex)\n\u001b[1;32m   4914\u001b[0m \u001b[39mif\u001b[39;00m is_list_like(value):\n\u001b[0;32m-> 4915\u001b[0m     com\u001b[39m.\u001b[39;49mrequire_length_match(value, \u001b[39mself\u001b[39;49m\u001b[39m.\u001b[39;49mindex)\n\u001b[1;32m   4916\u001b[0m \u001b[39mreturn\u001b[39;00m sanitize_array(value, \u001b[39mself\u001b[39m\u001b[39m.\u001b[39mindex, copy\u001b[39m=\u001b[39m\u001b[39mTrue\u001b[39;00m, allow_2d\u001b[39m=\u001b[39m\u001b[39mTrue\u001b[39;00m)\n",
      "File \u001b[0;32m/mnt/ml-team/homes/grzegorz.jurdzinski/.base/lib/python3.8/site-packages/pandas/core/common.py:571\u001b[0m, in \u001b[0;36mrequire_length_match\u001b[0;34m(data, index)\u001b[0m\n\u001b[1;32m    567\u001b[0m \u001b[39m\u001b[39m\u001b[39m\"\"\"\u001b[39;00m\n\u001b[1;32m    568\u001b[0m \u001b[39mCheck the length of data matches the length of the index.\u001b[39;00m\n\u001b[1;32m    569\u001b[0m \u001b[39m\"\"\"\u001b[39;00m\n\u001b[1;32m    570\u001b[0m \u001b[39mif\u001b[39;00m \u001b[39mlen\u001b[39m(data) \u001b[39m!=\u001b[39m \u001b[39mlen\u001b[39m(index):\n\u001b[0;32m--> 571\u001b[0m     \u001b[39mraise\u001b[39;00m \u001b[39mValueError\u001b[39;00m(\n\u001b[1;32m    572\u001b[0m         \u001b[39m\"\u001b[39m\u001b[39mLength of values \u001b[39m\u001b[39m\"\u001b[39m\n\u001b[1;32m    573\u001b[0m         \u001b[39mf\u001b[39m\u001b[39m\"\u001b[39m\u001b[39m(\u001b[39m\u001b[39m{\u001b[39;00m\u001b[39mlen\u001b[39m(data)\u001b[39m}\u001b[39;00m\u001b[39m) \u001b[39m\u001b[39m\"\u001b[39m\n\u001b[1;32m    574\u001b[0m         \u001b[39m\"\u001b[39m\u001b[39mdoes not match length of index \u001b[39m\u001b[39m\"\u001b[39m\n\u001b[1;32m    575\u001b[0m         \u001b[39mf\u001b[39m\u001b[39m\"\u001b[39m\u001b[39m(\u001b[39m\u001b[39m{\u001b[39;00m\u001b[39mlen\u001b[39m(index)\u001b[39m}\u001b[39;00m\u001b[39m)\u001b[39m\u001b[39m\"\u001b[39m\n\u001b[1;32m    576\u001b[0m     )\n",
      "\u001b[0;31mValueError\u001b[0m: Length of values (12) does not match length of index (11)"
     ]
    }
   ],
   "source": [
    "dfs = generate_dfs_for_plot()"
   ]
  },
  {
   "cell_type": "code",
   "execution_count": 48,
   "metadata": {},
   "outputs": [
    {
     "name": "stdout",
     "output_type": "stream",
     "text": [
      "    percentage       variable     value\n",
      "0            0  deberta-small  0.000000\n",
      "1           10  deberta-small  0.826852\n",
      "2           20  deberta-small  0.850463\n",
      "3           30  deberta-small  0.839352\n",
      "4           40  deberta-small  0.856944\n",
      "..         ...            ...       ...\n",
      "72          60      fixed_3.5  0.845370\n",
      "73          70      fixed_3.5  0.845370\n",
      "74          80      fixed_3.5  0.845370\n",
      "75          90      fixed_3.5  0.845370\n",
      "76         100      fixed_3.5  0.845370\n",
      "\n",
      "[77 rows x 3 columns]\n"
     ]
    },
    {
     "data": {
      "application/vnd.plotly.v1+json": {
       "config": {
        "plotlyServerURL": "https://plot.ly"
       },
       "data": [
        {
         "hovertemplate": "variable=deberta-small<br>percentage=%{x}<br>value=%{y}<extra></extra>",
         "legendgroup": "deberta-small",
         "marker": {
          "color": "#636efa",
          "symbol": "circle"
         },
         "mode": "markers",
         "name": "deberta-small",
         "orientation": "v",
         "showlegend": true,
         "type": "scatter",
         "x": [
          0,
          10,
          20,
          30,
          40,
          50,
          60,
          70,
          80,
          90,
          100
         ],
         "xaxis": "x",
         "y": [
          0,
          0.8268518518518518,
          0.850462962962963,
          0.8393518518518519,
          0.8569444444444445,
          0.837962962962963,
          0.8430555555555556,
          0.8773148148148148,
          0.8606481481481482,
          0.8574074074074074,
          0.8439814814814814
         ],
         "yaxis": "y"
        },
        {
         "hovertemplate": "variable=reward-deberta-base<br>percentage=%{x}<br>value=%{y}<extra></extra>",
         "legendgroup": "reward-deberta-base",
         "marker": {
          "color": "#EF553B",
          "symbol": "diamond"
         },
         "mode": "markers",
         "name": "reward-deberta-base",
         "orientation": "v",
         "showlegend": true,
         "type": "scatter",
         "x": [
          0,
          10,
          20,
          30,
          40,
          50,
          60,
          70,
          80,
          90,
          100
         ],
         "xaxis": "x",
         "y": [
          0,
          0.8555555555555556,
          0.8587962962962963,
          0.8694444444444445,
          0.8648148148148148,
          0.8430555555555556,
          0.8791666666666667,
          0.8814814814814815,
          0.8837962962962963,
          0.8550925925925925,
          0.8717592592592592
         ],
         "yaxis": "y"
        },
        {
         "hovertemplate": "variable=reward-deberta-large<br>percentage=%{x}<br>value=%{y}<extra></extra>",
         "legendgroup": "reward-deberta-large",
         "marker": {
          "color": "#00cc96",
          "symbol": "square"
         },
         "mode": "markers",
         "name": "reward-deberta-large",
         "orientation": "v",
         "showlegend": true,
         "type": "scatter",
         "x": [
          0,
          10,
          20,
          30,
          40,
          50,
          60,
          70,
          80,
          90,
          100
         ],
         "xaxis": "x",
         "y": [
          0,
          0.8842592592592593,
          0.8652777777777778,
          0.8939814814814815,
          0.8703703703703703,
          0.8763888888888889,
          0.8986111111111111,
          0.8717592592592592,
          0.8805555555555555,
          0.7699074074074074,
          0.8861111111111111
         ],
         "yaxis": "y"
        },
        {
         "hovertemplate": "variable=median_labeler<br>percentage=%{x}<br>value=%{y}<extra></extra>",
         "legendgroup": "median_labeler",
         "marker": {
          "color": "#ab63fa",
          "symbol": "x"
         },
         "mode": "markers",
         "name": "median_labeler",
         "orientation": "v",
         "showlegend": true,
         "type": "scatter",
         "x": [
          0,
          10,
          20,
          30,
          40,
          50,
          60,
          70,
          80,
          90,
          100
         ],
         "xaxis": "x",
         "y": [
          0.9199074074074074,
          0.9199074074074074,
          0.9199074074074074,
          0.9199074074074074,
          0.9199074074074074,
          0.9199074074074074,
          0.9199074074074074,
          0.9199074074074074,
          0.9199074074074074,
          0.9199074074074074,
          0.9199074074074074
         ],
         "yaxis": "y"
        },
        {
         "hovertemplate": "variable=random_labeler<br>percentage=%{x}<br>value=%{y}<extra></extra>",
         "legendgroup": "random_labeler",
         "marker": {
          "color": "#FFA15A",
          "symbol": "cross"
         },
         "mode": "markers",
         "name": "random_labeler",
         "orientation": "v",
         "showlegend": true,
         "type": "scatter",
         "x": [
          0,
          10,
          20,
          30,
          40,
          50,
          60,
          70,
          80,
          90,
          100
         ],
         "xaxis": "x",
         "y": [
          0.8402777777777778,
          0.8402777777777778,
          0.8402777777777778,
          0.8402777777777778,
          0.8402777777777778,
          0.8402777777777778,
          0.8402777777777778,
          0.8402777777777778,
          0.8402777777777778,
          0.8402777777777778,
          0.8402777777777778
         ],
         "yaxis": "y"
        },
        {
         "hovertemplate": "variable=fixed_4<br>percentage=%{x}<br>value=%{y}<extra></extra>",
         "legendgroup": "fixed_4",
         "marker": {
          "color": "#19d3f3",
          "symbol": "circle"
         },
         "mode": "markers",
         "name": "fixed_4",
         "orientation": "v",
         "showlegend": true,
         "type": "scatter",
         "x": [
          0,
          10,
          20,
          30,
          40,
          50,
          60,
          70,
          80,
          90,
          100
         ],
         "xaxis": "x",
         "y": [
          0.8717592592592593,
          0.8717592592592593,
          0.8717592592592593,
          0.8717592592592593,
          0.8717592592592593,
          0.8717592592592593,
          0.8717592592592593,
          0.8717592592592593,
          0.8717592592592593,
          0.8717592592592593,
          0.8717592592592593
         ],
         "yaxis": "y"
        },
        {
         "hovertemplate": "variable=fixed_3.5<br>percentage=%{x}<br>value=%{y}<extra></extra>",
         "legendgroup": "fixed_3.5",
         "marker": {
          "color": "#FF6692",
          "symbol": "diamond"
         },
         "mode": "markers",
         "name": "fixed_3.5",
         "orientation": "v",
         "showlegend": true,
         "type": "scatter",
         "x": [
          0,
          10,
          20,
          30,
          40,
          50,
          60,
          70,
          80,
          90,
          100
         ],
         "xaxis": "x",
         "y": [
          0.8453703703703703,
          0.8453703703703703,
          0.8453703703703703,
          0.8453703703703703,
          0.8453703703703703,
          0.8453703703703703,
          0.8453703703703703,
          0.8453703703703703,
          0.8453703703703703,
          0.8453703703703703,
          0.8453703703703703
         ],
         "yaxis": "y"
        }
       ],
       "layout": {
        "legend": {
         "title": {
          "text": "variable"
         },
         "tracegroupgap": 0
        },
        "margin": {
         "t": 60
        },
        "template": {
         "data": {
          "bar": [
           {
            "error_x": {
             "color": "#2a3f5f"
            },
            "error_y": {
             "color": "#2a3f5f"
            },
            "marker": {
             "line": {
              "color": "white",
              "width": 0.5
             },
             "pattern": {
              "fillmode": "overlay",
              "size": 10,
              "solidity": 0.2
             }
            },
            "type": "bar"
           }
          ],
          "barpolar": [
           {
            "marker": {
             "line": {
              "color": "white",
              "width": 0.5
             },
             "pattern": {
              "fillmode": "overlay",
              "size": 10,
              "solidity": 0.2
             }
            },
            "type": "barpolar"
           }
          ],
          "carpet": [
           {
            "aaxis": {
             "endlinecolor": "#2a3f5f",
             "gridcolor": "#C8D4E3",
             "linecolor": "#C8D4E3",
             "minorgridcolor": "#C8D4E3",
             "startlinecolor": "#2a3f5f"
            },
            "baxis": {
             "endlinecolor": "#2a3f5f",
             "gridcolor": "#C8D4E3",
             "linecolor": "#C8D4E3",
             "minorgridcolor": "#C8D4E3",
             "startlinecolor": "#2a3f5f"
            },
            "type": "carpet"
           }
          ],
          "choropleth": [
           {
            "colorbar": {
             "outlinewidth": 0,
             "ticks": ""
            },
            "type": "choropleth"
           }
          ],
          "contour": [
           {
            "colorbar": {
             "outlinewidth": 0,
             "ticks": ""
            },
            "colorscale": [
             [
              0,
              "#0d0887"
             ],
             [
              0.1111111111111111,
              "#46039f"
             ],
             [
              0.2222222222222222,
              "#7201a8"
             ],
             [
              0.3333333333333333,
              "#9c179e"
             ],
             [
              0.4444444444444444,
              "#bd3786"
             ],
             [
              0.5555555555555556,
              "#d8576b"
             ],
             [
              0.6666666666666666,
              "#ed7953"
             ],
             [
              0.7777777777777778,
              "#fb9f3a"
             ],
             [
              0.8888888888888888,
              "#fdca26"
             ],
             [
              1,
              "#f0f921"
             ]
            ],
            "type": "contour"
           }
          ],
          "contourcarpet": [
           {
            "colorbar": {
             "outlinewidth": 0,
             "ticks": ""
            },
            "type": "contourcarpet"
           }
          ],
          "heatmap": [
           {
            "colorbar": {
             "outlinewidth": 0,
             "ticks": ""
            },
            "colorscale": [
             [
              0,
              "#0d0887"
             ],
             [
              0.1111111111111111,
              "#46039f"
             ],
             [
              0.2222222222222222,
              "#7201a8"
             ],
             [
              0.3333333333333333,
              "#9c179e"
             ],
             [
              0.4444444444444444,
              "#bd3786"
             ],
             [
              0.5555555555555556,
              "#d8576b"
             ],
             [
              0.6666666666666666,
              "#ed7953"
             ],
             [
              0.7777777777777778,
              "#fb9f3a"
             ],
             [
              0.8888888888888888,
              "#fdca26"
             ],
             [
              1,
              "#f0f921"
             ]
            ],
            "type": "heatmap"
           }
          ],
          "heatmapgl": [
           {
            "colorbar": {
             "outlinewidth": 0,
             "ticks": ""
            },
            "colorscale": [
             [
              0,
              "#0d0887"
             ],
             [
              0.1111111111111111,
              "#46039f"
             ],
             [
              0.2222222222222222,
              "#7201a8"
             ],
             [
              0.3333333333333333,
              "#9c179e"
             ],
             [
              0.4444444444444444,
              "#bd3786"
             ],
             [
              0.5555555555555556,
              "#d8576b"
             ],
             [
              0.6666666666666666,
              "#ed7953"
             ],
             [
              0.7777777777777778,
              "#fb9f3a"
             ],
             [
              0.8888888888888888,
              "#fdca26"
             ],
             [
              1,
              "#f0f921"
             ]
            ],
            "type": "heatmapgl"
           }
          ],
          "histogram": [
           {
            "marker": {
             "pattern": {
              "fillmode": "overlay",
              "size": 10,
              "solidity": 0.2
             }
            },
            "type": "histogram"
           }
          ],
          "histogram2d": [
           {
            "colorbar": {
             "outlinewidth": 0,
             "ticks": ""
            },
            "colorscale": [
             [
              0,
              "#0d0887"
             ],
             [
              0.1111111111111111,
              "#46039f"
             ],
             [
              0.2222222222222222,
              "#7201a8"
             ],
             [
              0.3333333333333333,
              "#9c179e"
             ],
             [
              0.4444444444444444,
              "#bd3786"
             ],
             [
              0.5555555555555556,
              "#d8576b"
             ],
             [
              0.6666666666666666,
              "#ed7953"
             ],
             [
              0.7777777777777778,
              "#fb9f3a"
             ],
             [
              0.8888888888888888,
              "#fdca26"
             ],
             [
              1,
              "#f0f921"
             ]
            ],
            "type": "histogram2d"
           }
          ],
          "histogram2dcontour": [
           {
            "colorbar": {
             "outlinewidth": 0,
             "ticks": ""
            },
            "colorscale": [
             [
              0,
              "#0d0887"
             ],
             [
              0.1111111111111111,
              "#46039f"
             ],
             [
              0.2222222222222222,
              "#7201a8"
             ],
             [
              0.3333333333333333,
              "#9c179e"
             ],
             [
              0.4444444444444444,
              "#bd3786"
             ],
             [
              0.5555555555555556,
              "#d8576b"
             ],
             [
              0.6666666666666666,
              "#ed7953"
             ],
             [
              0.7777777777777778,
              "#fb9f3a"
             ],
             [
              0.8888888888888888,
              "#fdca26"
             ],
             [
              1,
              "#f0f921"
             ]
            ],
            "type": "histogram2dcontour"
           }
          ],
          "mesh3d": [
           {
            "colorbar": {
             "outlinewidth": 0,
             "ticks": ""
            },
            "type": "mesh3d"
           }
          ],
          "parcoords": [
           {
            "line": {
             "colorbar": {
              "outlinewidth": 0,
              "ticks": ""
             }
            },
            "type": "parcoords"
           }
          ],
          "pie": [
           {
            "automargin": true,
            "type": "pie"
           }
          ],
          "scatter": [
           {
            "fillpattern": {
             "fillmode": "overlay",
             "size": 10,
             "solidity": 0.2
            },
            "type": "scatter"
           }
          ],
          "scatter3d": [
           {
            "line": {
             "colorbar": {
              "outlinewidth": 0,
              "ticks": ""
             }
            },
            "marker": {
             "colorbar": {
              "outlinewidth": 0,
              "ticks": ""
             }
            },
            "type": "scatter3d"
           }
          ],
          "scattercarpet": [
           {
            "marker": {
             "colorbar": {
              "outlinewidth": 0,
              "ticks": ""
             }
            },
            "type": "scattercarpet"
           }
          ],
          "scattergeo": [
           {
            "marker": {
             "colorbar": {
              "outlinewidth": 0,
              "ticks": ""
             }
            },
            "type": "scattergeo"
           }
          ],
          "scattergl": [
           {
            "marker": {
             "colorbar": {
              "outlinewidth": 0,
              "ticks": ""
             }
            },
            "type": "scattergl"
           }
          ],
          "scattermapbox": [
           {
            "marker": {
             "colorbar": {
              "outlinewidth": 0,
              "ticks": ""
             }
            },
            "type": "scattermapbox"
           }
          ],
          "scatterpolar": [
           {
            "marker": {
             "colorbar": {
              "outlinewidth": 0,
              "ticks": ""
             }
            },
            "type": "scatterpolar"
           }
          ],
          "scatterpolargl": [
           {
            "marker": {
             "colorbar": {
              "outlinewidth": 0,
              "ticks": ""
             }
            },
            "type": "scatterpolargl"
           }
          ],
          "scatterternary": [
           {
            "marker": {
             "colorbar": {
              "outlinewidth": 0,
              "ticks": ""
             }
            },
            "type": "scatterternary"
           }
          ],
          "surface": [
           {
            "colorbar": {
             "outlinewidth": 0,
             "ticks": ""
            },
            "colorscale": [
             [
              0,
              "#0d0887"
             ],
             [
              0.1111111111111111,
              "#46039f"
             ],
             [
              0.2222222222222222,
              "#7201a8"
             ],
             [
              0.3333333333333333,
              "#9c179e"
             ],
             [
              0.4444444444444444,
              "#bd3786"
             ],
             [
              0.5555555555555556,
              "#d8576b"
             ],
             [
              0.6666666666666666,
              "#ed7953"
             ],
             [
              0.7777777777777778,
              "#fb9f3a"
             ],
             [
              0.8888888888888888,
              "#fdca26"
             ],
             [
              1,
              "#f0f921"
             ]
            ],
            "type": "surface"
           }
          ],
          "table": [
           {
            "cells": {
             "fill": {
              "color": "#EBF0F8"
             },
             "line": {
              "color": "white"
             }
            },
            "header": {
             "fill": {
              "color": "#C8D4E3"
             },
             "line": {
              "color": "white"
             }
            },
            "type": "table"
           }
          ]
         },
         "layout": {
          "annotationdefaults": {
           "arrowcolor": "#2a3f5f",
           "arrowhead": 0,
           "arrowwidth": 1
          },
          "autotypenumbers": "strict",
          "coloraxis": {
           "colorbar": {
            "outlinewidth": 0,
            "ticks": ""
           }
          },
          "colorscale": {
           "diverging": [
            [
             0,
             "#8e0152"
            ],
            [
             0.1,
             "#c51b7d"
            ],
            [
             0.2,
             "#de77ae"
            ],
            [
             0.3,
             "#f1b6da"
            ],
            [
             0.4,
             "#fde0ef"
            ],
            [
             0.5,
             "#f7f7f7"
            ],
            [
             0.6,
             "#e6f5d0"
            ],
            [
             0.7,
             "#b8e186"
            ],
            [
             0.8,
             "#7fbc41"
            ],
            [
             0.9,
             "#4d9221"
            ],
            [
             1,
             "#276419"
            ]
           ],
           "sequential": [
            [
             0,
             "#0d0887"
            ],
            [
             0.1111111111111111,
             "#46039f"
            ],
            [
             0.2222222222222222,
             "#7201a8"
            ],
            [
             0.3333333333333333,
             "#9c179e"
            ],
            [
             0.4444444444444444,
             "#bd3786"
            ],
            [
             0.5555555555555556,
             "#d8576b"
            ],
            [
             0.6666666666666666,
             "#ed7953"
            ],
            [
             0.7777777777777778,
             "#fb9f3a"
            ],
            [
             0.8888888888888888,
             "#fdca26"
            ],
            [
             1,
             "#f0f921"
            ]
           ],
           "sequentialminus": [
            [
             0,
             "#0d0887"
            ],
            [
             0.1111111111111111,
             "#46039f"
            ],
            [
             0.2222222222222222,
             "#7201a8"
            ],
            [
             0.3333333333333333,
             "#9c179e"
            ],
            [
             0.4444444444444444,
             "#bd3786"
            ],
            [
             0.5555555555555556,
             "#d8576b"
            ],
            [
             0.6666666666666666,
             "#ed7953"
            ],
            [
             0.7777777777777778,
             "#fb9f3a"
            ],
            [
             0.8888888888888888,
             "#fdca26"
            ],
            [
             1,
             "#f0f921"
            ]
           ]
          },
          "colorway": [
           "#636efa",
           "#EF553B",
           "#00cc96",
           "#ab63fa",
           "#FFA15A",
           "#19d3f3",
           "#FF6692",
           "#B6E880",
           "#FF97FF",
           "#FECB52"
          ],
          "font": {
           "color": "#2a3f5f"
          },
          "geo": {
           "bgcolor": "white",
           "lakecolor": "white",
           "landcolor": "white",
           "showlakes": true,
           "showland": true,
           "subunitcolor": "#C8D4E3"
          },
          "hoverlabel": {
           "align": "left"
          },
          "hovermode": "closest",
          "mapbox": {
           "style": "light"
          },
          "paper_bgcolor": "white",
          "plot_bgcolor": "white",
          "polar": {
           "angularaxis": {
            "gridcolor": "#EBF0F8",
            "linecolor": "#EBF0F8",
            "ticks": ""
           },
           "bgcolor": "white",
           "radialaxis": {
            "gridcolor": "#EBF0F8",
            "linecolor": "#EBF0F8",
            "ticks": ""
           }
          },
          "scene": {
           "xaxis": {
            "backgroundcolor": "white",
            "gridcolor": "#DFE8F3",
            "gridwidth": 2,
            "linecolor": "#EBF0F8",
            "showbackground": true,
            "ticks": "",
            "zerolinecolor": "#EBF0F8"
           },
           "yaxis": {
            "backgroundcolor": "white",
            "gridcolor": "#DFE8F3",
            "gridwidth": 2,
            "linecolor": "#EBF0F8",
            "showbackground": true,
            "ticks": "",
            "zerolinecolor": "#EBF0F8"
           },
           "zaxis": {
            "backgroundcolor": "white",
            "gridcolor": "#DFE8F3",
            "gridwidth": 2,
            "linecolor": "#EBF0F8",
            "showbackground": true,
            "ticks": "",
            "zerolinecolor": "#EBF0F8"
           }
          },
          "shapedefaults": {
           "line": {
            "color": "#2a3f5f"
           }
          },
          "ternary": {
           "aaxis": {
            "gridcolor": "#DFE8F3",
            "linecolor": "#A2B1C6",
            "ticks": ""
           },
           "baxis": {
            "gridcolor": "#DFE8F3",
            "linecolor": "#A2B1C6",
            "ticks": ""
           },
           "bgcolor": "white",
           "caxis": {
            "gridcolor": "#DFE8F3",
            "linecolor": "#A2B1C6",
            "ticks": ""
           }
          },
          "title": {
           "x": 0.05
          },
          "xaxis": {
           "automargin": true,
           "gridcolor": "#EBF0F8",
           "linecolor": "#EBF0F8",
           "ticks": "",
           "title": {
            "standoff": 15
           },
           "zerolinecolor": "#EBF0F8",
           "zerolinewidth": 2
          },
          "yaxis": {
           "automargin": true,
           "gridcolor": "#EBF0F8",
           "linecolor": "#EBF0F8",
           "ticks": "",
           "title": {
            "standoff": 15
           },
           "zerolinecolor": "#EBF0F8",
           "zerolinewidth": 2
          }
         }
        },
        "xaxis": {
         "anchor": "y",
         "domain": [
          0,
          1
         ],
         "title": {
          "text": "percentage"
         }
        },
        "yaxis": {
         "anchor": "x",
         "domain": [
          0,
          1
         ],
         "range": [
          0.75,
          0.95
         ],
         "title": {
          "text": "value"
         }
        }
       }
      },
      "text/html": [
       "<div>                            <div id=\"0ca712fa-b102-4148-8f05-104b70af2bb4\" class=\"plotly-graph-div\" style=\"height:525px; width:100%;\"></div>            <script type=\"text/javascript\">                require([\"plotly\"], function(Plotly) {                    window.PLOTLYENV=window.PLOTLYENV || {};                                    if (document.getElementById(\"0ca712fa-b102-4148-8f05-104b70af2bb4\")) {                    Plotly.newPlot(                        \"0ca712fa-b102-4148-8f05-104b70af2bb4\",                        [{\"hovertemplate\":\"variable=deberta-small<br>percentage=%{x}<br>value=%{y}<extra></extra>\",\"legendgroup\":\"deberta-small\",\"marker\":{\"color\":\"#636efa\",\"symbol\":\"circle\"},\"mode\":\"markers\",\"name\":\"deberta-small\",\"orientation\":\"v\",\"showlegend\":true,\"x\":[0,10,20,30,40,50,60,70,80,90,100],\"xaxis\":\"x\",\"y\":[0.0,0.8268518518518518,0.850462962962963,0.8393518518518519,0.8569444444444445,0.837962962962963,0.8430555555555556,0.8773148148148148,0.8606481481481482,0.8574074074074074,0.8439814814814814],\"yaxis\":\"y\",\"type\":\"scatter\"},{\"hovertemplate\":\"variable=reward-deberta-base<br>percentage=%{x}<br>value=%{y}<extra></extra>\",\"legendgroup\":\"reward-deberta-base\",\"marker\":{\"color\":\"#EF553B\",\"symbol\":\"diamond\"},\"mode\":\"markers\",\"name\":\"reward-deberta-base\",\"orientation\":\"v\",\"showlegend\":true,\"x\":[0,10,20,30,40,50,60,70,80,90,100],\"xaxis\":\"x\",\"y\":[0.0,0.8555555555555556,0.8587962962962963,0.8694444444444445,0.8648148148148148,0.8430555555555556,0.8791666666666667,0.8814814814814815,0.8837962962962963,0.8550925925925925,0.8717592592592592],\"yaxis\":\"y\",\"type\":\"scatter\"},{\"hovertemplate\":\"variable=reward-deberta-large<br>percentage=%{x}<br>value=%{y}<extra></extra>\",\"legendgroup\":\"reward-deberta-large\",\"marker\":{\"color\":\"#00cc96\",\"symbol\":\"square\"},\"mode\":\"markers\",\"name\":\"reward-deberta-large\",\"orientation\":\"v\",\"showlegend\":true,\"x\":[0,10,20,30,40,50,60,70,80,90,100],\"xaxis\":\"x\",\"y\":[0.0,0.8842592592592593,0.8652777777777778,0.8939814814814815,0.8703703703703703,0.8763888888888889,0.8986111111111111,0.8717592592592592,0.8805555555555555,0.7699074074074074,0.8861111111111111],\"yaxis\":\"y\",\"type\":\"scatter\"},{\"hovertemplate\":\"variable=median_labeler<br>percentage=%{x}<br>value=%{y}<extra></extra>\",\"legendgroup\":\"median_labeler\",\"marker\":{\"color\":\"#ab63fa\",\"symbol\":\"x\"},\"mode\":\"markers\",\"name\":\"median_labeler\",\"orientation\":\"v\",\"showlegend\":true,\"x\":[0,10,20,30,40,50,60,70,80,90,100],\"xaxis\":\"x\",\"y\":[0.9199074074074074,0.9199074074074074,0.9199074074074074,0.9199074074074074,0.9199074074074074,0.9199074074074074,0.9199074074074074,0.9199074074074074,0.9199074074074074,0.9199074074074074,0.9199074074074074],\"yaxis\":\"y\",\"type\":\"scatter\"},{\"hovertemplate\":\"variable=random_labeler<br>percentage=%{x}<br>value=%{y}<extra></extra>\",\"legendgroup\":\"random_labeler\",\"marker\":{\"color\":\"#FFA15A\",\"symbol\":\"cross\"},\"mode\":\"markers\",\"name\":\"random_labeler\",\"orientation\":\"v\",\"showlegend\":true,\"x\":[0,10,20,30,40,50,60,70,80,90,100],\"xaxis\":\"x\",\"y\":[0.8402777777777778,0.8402777777777778,0.8402777777777778,0.8402777777777778,0.8402777777777778,0.8402777777777778,0.8402777777777778,0.8402777777777778,0.8402777777777778,0.8402777777777778,0.8402777777777778],\"yaxis\":\"y\",\"type\":\"scatter\"},{\"hovertemplate\":\"variable=fixed_4<br>percentage=%{x}<br>value=%{y}<extra></extra>\",\"legendgroup\":\"fixed_4\",\"marker\":{\"color\":\"#19d3f3\",\"symbol\":\"circle\"},\"mode\":\"markers\",\"name\":\"fixed_4\",\"orientation\":\"v\",\"showlegend\":true,\"x\":[0,10,20,30,40,50,60,70,80,90,100],\"xaxis\":\"x\",\"y\":[0.8717592592592593,0.8717592592592593,0.8717592592592593,0.8717592592592593,0.8717592592592593,0.8717592592592593,0.8717592592592593,0.8717592592592593,0.8717592592592593,0.8717592592592593,0.8717592592592593],\"yaxis\":\"y\",\"type\":\"scatter\"},{\"hovertemplate\":\"variable=fixed_3.5<br>percentage=%{x}<br>value=%{y}<extra></extra>\",\"legendgroup\":\"fixed_3.5\",\"marker\":{\"color\":\"#FF6692\",\"symbol\":\"diamond\"},\"mode\":\"markers\",\"name\":\"fixed_3.5\",\"orientation\":\"v\",\"showlegend\":true,\"x\":[0,10,20,30,40,50,60,70,80,90,100],\"xaxis\":\"x\",\"y\":[0.8453703703703703,0.8453703703703703,0.8453703703703703,0.8453703703703703,0.8453703703703703,0.8453703703703703,0.8453703703703703,0.8453703703703703,0.8453703703703703,0.8453703703703703,0.8453703703703703],\"yaxis\":\"y\",\"type\":\"scatter\"}],                        {\"template\":{\"data\":{\"histogram2dcontour\":[{\"type\":\"histogram2dcontour\",\"colorbar\":{\"outlinewidth\":0,\"ticks\":\"\"},\"colorscale\":[[0.0,\"#0d0887\"],[0.1111111111111111,\"#46039f\"],[0.2222222222222222,\"#7201a8\"],[0.3333333333333333,\"#9c179e\"],[0.4444444444444444,\"#bd3786\"],[0.5555555555555556,\"#d8576b\"],[0.6666666666666666,\"#ed7953\"],[0.7777777777777778,\"#fb9f3a\"],[0.8888888888888888,\"#fdca26\"],[1.0,\"#f0f921\"]]}],\"choropleth\":[{\"type\":\"choropleth\",\"colorbar\":{\"outlinewidth\":0,\"ticks\":\"\"}}],\"histogram2d\":[{\"type\":\"histogram2d\",\"colorbar\":{\"outlinewidth\":0,\"ticks\":\"\"},\"colorscale\":[[0.0,\"#0d0887\"],[0.1111111111111111,\"#46039f\"],[0.2222222222222222,\"#7201a8\"],[0.3333333333333333,\"#9c179e\"],[0.4444444444444444,\"#bd3786\"],[0.5555555555555556,\"#d8576b\"],[0.6666666666666666,\"#ed7953\"],[0.7777777777777778,\"#fb9f3a\"],[0.8888888888888888,\"#fdca26\"],[1.0,\"#f0f921\"]]}],\"heatmap\":[{\"type\":\"heatmap\",\"colorbar\":{\"outlinewidth\":0,\"ticks\":\"\"},\"colorscale\":[[0.0,\"#0d0887\"],[0.1111111111111111,\"#46039f\"],[0.2222222222222222,\"#7201a8\"],[0.3333333333333333,\"#9c179e\"],[0.4444444444444444,\"#bd3786\"],[0.5555555555555556,\"#d8576b\"],[0.6666666666666666,\"#ed7953\"],[0.7777777777777778,\"#fb9f3a\"],[0.8888888888888888,\"#fdca26\"],[1.0,\"#f0f921\"]]}],\"heatmapgl\":[{\"type\":\"heatmapgl\",\"colorbar\":{\"outlinewidth\":0,\"ticks\":\"\"},\"colorscale\":[[0.0,\"#0d0887\"],[0.1111111111111111,\"#46039f\"],[0.2222222222222222,\"#7201a8\"],[0.3333333333333333,\"#9c179e\"],[0.4444444444444444,\"#bd3786\"],[0.5555555555555556,\"#d8576b\"],[0.6666666666666666,\"#ed7953\"],[0.7777777777777778,\"#fb9f3a\"],[0.8888888888888888,\"#fdca26\"],[1.0,\"#f0f921\"]]}],\"contourcarpet\":[{\"type\":\"contourcarpet\",\"colorbar\":{\"outlinewidth\":0,\"ticks\":\"\"}}],\"contour\":[{\"type\":\"contour\",\"colorbar\":{\"outlinewidth\":0,\"ticks\":\"\"},\"colorscale\":[[0.0,\"#0d0887\"],[0.1111111111111111,\"#46039f\"],[0.2222222222222222,\"#7201a8\"],[0.3333333333333333,\"#9c179e\"],[0.4444444444444444,\"#bd3786\"],[0.5555555555555556,\"#d8576b\"],[0.6666666666666666,\"#ed7953\"],[0.7777777777777778,\"#fb9f3a\"],[0.8888888888888888,\"#fdca26\"],[1.0,\"#f0f921\"]]}],\"surface\":[{\"type\":\"surface\",\"colorbar\":{\"outlinewidth\":0,\"ticks\":\"\"},\"colorscale\":[[0.0,\"#0d0887\"],[0.1111111111111111,\"#46039f\"],[0.2222222222222222,\"#7201a8\"],[0.3333333333333333,\"#9c179e\"],[0.4444444444444444,\"#bd3786\"],[0.5555555555555556,\"#d8576b\"],[0.6666666666666666,\"#ed7953\"],[0.7777777777777778,\"#fb9f3a\"],[0.8888888888888888,\"#fdca26\"],[1.0,\"#f0f921\"]]}],\"mesh3d\":[{\"type\":\"mesh3d\",\"colorbar\":{\"outlinewidth\":0,\"ticks\":\"\"}}],\"scatter\":[{\"fillpattern\":{\"fillmode\":\"overlay\",\"size\":10,\"solidity\":0.2},\"type\":\"scatter\"}],\"parcoords\":[{\"type\":\"parcoords\",\"line\":{\"colorbar\":{\"outlinewidth\":0,\"ticks\":\"\"}}}],\"scatterpolargl\":[{\"type\":\"scatterpolargl\",\"marker\":{\"colorbar\":{\"outlinewidth\":0,\"ticks\":\"\"}}}],\"bar\":[{\"error_x\":{\"color\":\"#2a3f5f\"},\"error_y\":{\"color\":\"#2a3f5f\"},\"marker\":{\"line\":{\"color\":\"white\",\"width\":0.5},\"pattern\":{\"fillmode\":\"overlay\",\"size\":10,\"solidity\":0.2}},\"type\":\"bar\"}],\"scattergeo\":[{\"type\":\"scattergeo\",\"marker\":{\"colorbar\":{\"outlinewidth\":0,\"ticks\":\"\"}}}],\"scatterpolar\":[{\"type\":\"scatterpolar\",\"marker\":{\"colorbar\":{\"outlinewidth\":0,\"ticks\":\"\"}}}],\"histogram\":[{\"marker\":{\"pattern\":{\"fillmode\":\"overlay\",\"size\":10,\"solidity\":0.2}},\"type\":\"histogram\"}],\"scattergl\":[{\"type\":\"scattergl\",\"marker\":{\"colorbar\":{\"outlinewidth\":0,\"ticks\":\"\"}}}],\"scatter3d\":[{\"type\":\"scatter3d\",\"line\":{\"colorbar\":{\"outlinewidth\":0,\"ticks\":\"\"}},\"marker\":{\"colorbar\":{\"outlinewidth\":0,\"ticks\":\"\"}}}],\"scattermapbox\":[{\"type\":\"scattermapbox\",\"marker\":{\"colorbar\":{\"outlinewidth\":0,\"ticks\":\"\"}}}],\"scatterternary\":[{\"type\":\"scatterternary\",\"marker\":{\"colorbar\":{\"outlinewidth\":0,\"ticks\":\"\"}}}],\"scattercarpet\":[{\"type\":\"scattercarpet\",\"marker\":{\"colorbar\":{\"outlinewidth\":0,\"ticks\":\"\"}}}],\"carpet\":[{\"aaxis\":{\"endlinecolor\":\"#2a3f5f\",\"gridcolor\":\"#C8D4E3\",\"linecolor\":\"#C8D4E3\",\"minorgridcolor\":\"#C8D4E3\",\"startlinecolor\":\"#2a3f5f\"},\"baxis\":{\"endlinecolor\":\"#2a3f5f\",\"gridcolor\":\"#C8D4E3\",\"linecolor\":\"#C8D4E3\",\"minorgridcolor\":\"#C8D4E3\",\"startlinecolor\":\"#2a3f5f\"},\"type\":\"carpet\"}],\"table\":[{\"cells\":{\"fill\":{\"color\":\"#EBF0F8\"},\"line\":{\"color\":\"white\"}},\"header\":{\"fill\":{\"color\":\"#C8D4E3\"},\"line\":{\"color\":\"white\"}},\"type\":\"table\"}],\"barpolar\":[{\"marker\":{\"line\":{\"color\":\"white\",\"width\":0.5},\"pattern\":{\"fillmode\":\"overlay\",\"size\":10,\"solidity\":0.2}},\"type\":\"barpolar\"}],\"pie\":[{\"automargin\":true,\"type\":\"pie\"}]},\"layout\":{\"autotypenumbers\":\"strict\",\"colorway\":[\"#636efa\",\"#EF553B\",\"#00cc96\",\"#ab63fa\",\"#FFA15A\",\"#19d3f3\",\"#FF6692\",\"#B6E880\",\"#FF97FF\",\"#FECB52\"],\"font\":{\"color\":\"#2a3f5f\"},\"hovermode\":\"closest\",\"hoverlabel\":{\"align\":\"left\"},\"paper_bgcolor\":\"white\",\"plot_bgcolor\":\"white\",\"polar\":{\"bgcolor\":\"white\",\"angularaxis\":{\"gridcolor\":\"#EBF0F8\",\"linecolor\":\"#EBF0F8\",\"ticks\":\"\"},\"radialaxis\":{\"gridcolor\":\"#EBF0F8\",\"linecolor\":\"#EBF0F8\",\"ticks\":\"\"}},\"ternary\":{\"bgcolor\":\"white\",\"aaxis\":{\"gridcolor\":\"#DFE8F3\",\"linecolor\":\"#A2B1C6\",\"ticks\":\"\"},\"baxis\":{\"gridcolor\":\"#DFE8F3\",\"linecolor\":\"#A2B1C6\",\"ticks\":\"\"},\"caxis\":{\"gridcolor\":\"#DFE8F3\",\"linecolor\":\"#A2B1C6\",\"ticks\":\"\"}},\"coloraxis\":{\"colorbar\":{\"outlinewidth\":0,\"ticks\":\"\"}},\"colorscale\":{\"sequential\":[[0.0,\"#0d0887\"],[0.1111111111111111,\"#46039f\"],[0.2222222222222222,\"#7201a8\"],[0.3333333333333333,\"#9c179e\"],[0.4444444444444444,\"#bd3786\"],[0.5555555555555556,\"#d8576b\"],[0.6666666666666666,\"#ed7953\"],[0.7777777777777778,\"#fb9f3a\"],[0.8888888888888888,\"#fdca26\"],[1.0,\"#f0f921\"]],\"sequentialminus\":[[0.0,\"#0d0887\"],[0.1111111111111111,\"#46039f\"],[0.2222222222222222,\"#7201a8\"],[0.3333333333333333,\"#9c179e\"],[0.4444444444444444,\"#bd3786\"],[0.5555555555555556,\"#d8576b\"],[0.6666666666666666,\"#ed7953\"],[0.7777777777777778,\"#fb9f3a\"],[0.8888888888888888,\"#fdca26\"],[1.0,\"#f0f921\"]],\"diverging\":[[0,\"#8e0152\"],[0.1,\"#c51b7d\"],[0.2,\"#de77ae\"],[0.3,\"#f1b6da\"],[0.4,\"#fde0ef\"],[0.5,\"#f7f7f7\"],[0.6,\"#e6f5d0\"],[0.7,\"#b8e186\"],[0.8,\"#7fbc41\"],[0.9,\"#4d9221\"],[1,\"#276419\"]]},\"xaxis\":{\"gridcolor\":\"#EBF0F8\",\"linecolor\":\"#EBF0F8\",\"ticks\":\"\",\"title\":{\"standoff\":15},\"zerolinecolor\":\"#EBF0F8\",\"automargin\":true,\"zerolinewidth\":2},\"yaxis\":{\"gridcolor\":\"#EBF0F8\",\"linecolor\":\"#EBF0F8\",\"ticks\":\"\",\"title\":{\"standoff\":15},\"zerolinecolor\":\"#EBF0F8\",\"automargin\":true,\"zerolinewidth\":2},\"scene\":{\"xaxis\":{\"backgroundcolor\":\"white\",\"gridcolor\":\"#DFE8F3\",\"linecolor\":\"#EBF0F8\",\"showbackground\":true,\"ticks\":\"\",\"zerolinecolor\":\"#EBF0F8\",\"gridwidth\":2},\"yaxis\":{\"backgroundcolor\":\"white\",\"gridcolor\":\"#DFE8F3\",\"linecolor\":\"#EBF0F8\",\"showbackground\":true,\"ticks\":\"\",\"zerolinecolor\":\"#EBF0F8\",\"gridwidth\":2},\"zaxis\":{\"backgroundcolor\":\"white\",\"gridcolor\":\"#DFE8F3\",\"linecolor\":\"#EBF0F8\",\"showbackground\":true,\"ticks\":\"\",\"zerolinecolor\":\"#EBF0F8\",\"gridwidth\":2}},\"shapedefaults\":{\"line\":{\"color\":\"#2a3f5f\"}},\"annotationdefaults\":{\"arrowcolor\":\"#2a3f5f\",\"arrowhead\":0,\"arrowwidth\":1},\"geo\":{\"bgcolor\":\"white\",\"landcolor\":\"white\",\"subunitcolor\":\"#C8D4E3\",\"showland\":true,\"showlakes\":true,\"lakecolor\":\"white\"},\"title\":{\"x\":0.05},\"mapbox\":{\"style\":\"light\"}}},\"xaxis\":{\"anchor\":\"y\",\"domain\":[0.0,1.0],\"title\":{\"text\":\"percentage\"}},\"yaxis\":{\"anchor\":\"x\",\"domain\":[0.0,1.0],\"title\":{\"text\":\"value\"},\"range\":[0.75,0.95]},\"legend\":{\"title\":{\"text\":\"variable\"},\"tracegroupgap\":0},\"margin\":{\"t\":60}},                        {\"responsive\": true}                    ).then(function(){\n",
       "                            \n",
       "var gd = document.getElementById('0ca712fa-b102-4148-8f05-104b70af2bb4');\n",
       "var x = new MutationObserver(function (mutations, observer) {{\n",
       "        var display = window.getComputedStyle(gd).display;\n",
       "        if (!display || display === 'none') {{\n",
       "            console.log([gd, 'removed!']);\n",
       "            Plotly.purge(gd);\n",
       "            observer.disconnect();\n",
       "        }}\n",
       "}});\n",
       "\n",
       "// Listen for the removal of the full notebook cells\n",
       "var notebookContainer = gd.closest('#notebook-container');\n",
       "if (notebookContainer) {{\n",
       "    x.observe(notebookContainer, {childList: true});\n",
       "}}\n",
       "\n",
       "// Listen for the clearing of the current output cell\n",
       "var outputEl = gd.closest('.output');\n",
       "if (outputEl) {{\n",
       "    x.observe(outputEl, {childList: true});\n",
       "}}\n",
       "\n",
       "                        })                };                });            </script>        </div>"
      ]
     },
     "metadata": {},
     "output_type": "display_data"
    }
   ],
   "source": [
    "anot_cols = dfs[\"RelevanceRating\"][\"train\"].columns.to_list()\n",
    "anot_cols = anot_cols.remove(\"percentage\")\n",
    "temp_melt_df = pd.melt(\n",
    "    dfs[\"RelevanceRating\"][\"train\"], id_vars=[\"percentage\"], value_vars=anot_cols\n",
    ")\n",
    "print(temp_melt_df)\n",
    "fig = px.scatter(\n",
    "    temp_melt_df,\n",
    "    x=\"percentage\",\n",
    "    y=\"value\",\n",
    "    color=\"variable\",\n",
    "    symbol=\"variable\",\n",
    ")\n",
    "fig.update_layout(yaxis_range=[0.75, 0.95])\n",
    "fig.show()"
   ]
  },
  {
   "cell_type": "code",
   "execution_count": null,
   "metadata": {},
   "outputs": [],
   "source": []
  },
  {
   "cell_type": "code",
   "execution_count": 25,
   "metadata": {},
   "outputs": [
    {
     "data": {
      "text/plain": [
       "val_rewards_0    0.842130\n",
       "val_rewards_1    0.847685\n",
       "val_rewards_2    0.860648\n",
       "val_rewards_3    0.875463\n",
       "val_rewards_4    0.858333\n",
       "val_rewards_5    0.849074\n",
       "val_rewards_6    0.887500\n",
       "val_rewards_7    0.879167\n",
       "val_rewards_8    0.876852\n",
       "val_rewards_9    0.843056\n",
       "dtype: float64"
      ]
     },
     "execution_count": 25,
     "metadata": {},
     "output_type": "execute_result"
    }
   ],
   "source": [
    "deb_small = scores_dict[\"RelevanceRating\"][\"valid\"][\"deberta-small\"]\n",
    "deb_small[deb_small.index.str.startswith(\"val_\")].sort_index()"
   ]
  },
  {
   "cell_type": "code",
   "execution_count": null,
   "metadata": {},
   "outputs": [],
   "source": [
    "\n",
    "df = pd.DataFrame({\"deberta-small-valid\": scores_dict[\"RelevanceRating\"][\"valid\"][\"deberta-small\"]})"
   ]
  }
 ],
 "metadata": {
  "kernelspec": {
   "display_name": ".env",
   "language": "python",
   "name": "python3"
  },
  "language_info": {
   "codemirror_mode": {
    "name": "ipython",
    "version": 3
   },
   "file_extension": ".py",
   "mimetype": "text/x-python",
   "name": "python",
   "nbconvert_exporter": "python",
   "pygments_lexer": "ipython3",
   "version": "3.8.10"
  },
  "orig_nbformat": 4
 },
 "nbformat": 4,
 "nbformat_minor": 2
}
