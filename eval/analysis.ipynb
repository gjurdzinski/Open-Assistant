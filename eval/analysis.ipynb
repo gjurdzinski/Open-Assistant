{
 "cells": [
  {
   "cell_type": "code",
   "execution_count": 1,
   "metadata": {},
   "outputs": [],
   "source": [
    "import pandas as pd\n",
    "import numpy as np\n",
    "from utils import (\n",
    "    load_labelers_predictions,\n",
    "    load_models_predictions,\n",
    "    Split,\n",
    "    METRIC_2_MODEL_INCREMENTAL,\n",
    "    METRIC_2_MODEL_INCREMENTAL_PARTIAL,\n",
    ")\n",
    "from evaluation import evaluate_labelers\n",
    "from typing import Dict, Tuple, List, get_args\n",
    "from pathlib import Path\n",
    "import pickle as pkl\n",
    "\n",
    "# plotting\n",
    "import plotly.graph_objects as go\n",
    "import plotly.express as px\n",
    "import plotly.io as pio\n",
    "from plotly.subplots import make_subplots\n",
    "\n",
    "pio.templates.default = 'plotly_white'"
   ]
  },
  {
   "attachments": {},
   "cell_type": "markdown",
   "metadata": {},
   "source": [
    "## Define variables"
   ]
  },
  {
   "cell_type": "code",
   "execution_count": 2,
   "metadata": {},
   "outputs": [],
   "source": [
    "METRICS = (\"InformativenessRating\",)  # \"RelevanceRating\")\n",
    "HOME_DIR = \"/mnt/ml-team/homes/grzegorz.jurdzinski\"\n",
    "# HOME_DIR = \"~\"\n",
    "NEWSROOM_DIR = f\"{HOME_DIR}/datasets/newsroom\"\n",
    "# NEWSROOM_DIR = f\"{HOME_DIR}/Repositories/newsroom\"\n",
    "PREDS_DIR = \"/mnt/ml-team/homes/grzegorz.jurdzinski/runs/newsroom-incremental\"\n",
    "# PREDS_DIR = f\"{HOME_DIR}/Repositories/rewards/incremental\"\n",
    "MODELS = (\n",
    "    \"deberta-small\",\n",
    "    \"deberta-base\",\n",
    "    \"deberta-large\",\n",
    "    \"reward-deberta-base\",\n",
    "    \"reward-deberta-large\",\n",
    ")"
   ]
  },
  {
   "cell_type": "code",
   "execution_count": 3,
   "metadata": {},
   "outputs": [],
   "source": [
    "file_names = {\n",
    "    \"original\": \"newsroom-aggregated-original-order.csv\",\n",
    "    \"random\": \"newsroom-aggregated-random-order.csv\",\n",
    "    \"sorted\": \"newsroom-aggregated-sorted-order.csv\",\n",
    "}"
   ]
  },
  {
   "attachments": {},
   "cell_type": "markdown",
   "metadata": {},
   "source": [
    "If the models' predictions were not bucketised yet, run `bucketise_predictions.py` to do so."
   ]
  },
  {
   "attachments": {},
   "cell_type": "markdown",
   "metadata": {},
   "source": [
    "## Load labelers predictions"
   ]
  },
  {
   "cell_type": "code",
   "execution_count": 4,
   "metadata": {},
   "outputs": [],
   "source": [
    "def get_labelers_preds(dir: str, metric: str, split: str) -> pd.DataFrame:\n",
    "    labelers_preds = load_labelers_predictions(\n",
    "        NEWSROOM_DIR,\n",
    "        \"newsroom-aggregated-original-order.csv\",\n",
    "        metric=metric,\n",
    "        split=split\n",
    "    )\n",
    "    \n",
    "    # Add one random labeler.\n",
    "    temp_labelers_preds = load_labelers_predictions(\n",
    "        NEWSROOM_DIR,\n",
    "        \"newsroom-aggregated-random-order.csv\",\n",
    "        metric=metric,\n",
    "        split=split\n",
    "    )\n",
    "    temp_labelers_preds.rename(columns={\"labeler_1\": \"random_labeler\"}, inplace=True)\n",
    "    labelers_preds = labelers_preds.merge(\n",
    "        temp_labelers_preds[[\"ArticleID\", \"System\", \"random_labeler\"]],\n",
    "        how=\"inner\",\n",
    "        on=[\"ArticleID\", \"System\"])\n",
    "    \n",
    "    # Add median labeler.\n",
    "    temp_labelers_preds = load_labelers_predictions(\n",
    "        NEWSROOM_DIR,\n",
    "        \"newsroom-aggregated-sorted-order.csv\",\n",
    "        metric=metric,\n",
    "        split=split\n",
    "    )\n",
    "    temp_labelers_preds.rename(columns={\"labeler_2\": \"median_labeler\"}, inplace=True)\n",
    "    labelers_preds = labelers_preds.merge(\n",
    "        temp_labelers_preds[[\"ArticleID\", \"System\", \"median_labeler\"]],\n",
    "        how=\"inner\",\n",
    "        on=[\"ArticleID\", \"System\"])\n",
    "    \n",
    "    return labelers_preds"
   ]
  },
  {
   "cell_type": "code",
   "execution_count": 5,
   "metadata": {},
   "outputs": [
    {
     "name": "stdout",
     "output_type": "stream",
     "text": [
      "Processing metric InformativenessRating...\n",
      "\tProcessing split train...\n",
      "\tProcessing split valid...\n",
      "Done.\n"
     ]
    }
   ],
   "source": [
    "# labelers_preds_dict = {}\n",
    "\n",
    "# for metric in METRICS:\n",
    "#     print(f\"Processing metric {metric}...\")\n",
    "#     labelers_preds_dict[metric] = {}\n",
    "#     for split in get_args(Split):\n",
    "#         print(f\"\\tProcessing split {split}...\")\n",
    "#         labelers_preds_dict[metric][split] = get_labelers_preds(\n",
    "#             NEWSROOM_DIR, metric, split\n",
    "#         )\n",
    "# print(\"Done.\")"
   ]
  },
  {
   "attachments": {},
   "cell_type": "markdown",
   "metadata": {},
   "source": [
    "## Define evaluation helper functions"
   ]
  },
  {
   "cell_type": "code",
   "execution_count": 6,
   "metadata": {},
   "outputs": [],
   "source": [
    "def evaluate_and_compare_models(\n",
    "    models_preds: Dict[str, Dict[str, pd.DataFrame]],\n",
    "    labelers_preds_dict: Dict[str, Dict[str, pd.DataFrame]],\n",
    "    metric: str,\n",
    "    split: Split,\n",
    "    k: int = 1,\n",
    ") -> Tuple[pd.Series, go.Figure]:\n",
    "    \"\"\"\n",
    "    Merges labelers and models predictions and evaluates them.\n",
    "    Args:\n",
    "        models_preds: Dict of dicts of DataFrames with models predictions.\n",
    "        labelers_preds_dict: Dict of dicts of DataFrames with labelers predictions.\n",
    "        metric: Metric to evaluate.\n",
    "        split: Split to evaluate.\n",
    "        k: k from our evaluation formula.\n",
    "    Returns:\n",
    "        Tuple of:\n",
    "            - Series with evaluation results.\n",
    "            - Plotly figure with predictions.\n",
    "    \"\"\"\n",
    "    labelers_preds = labelers_preds_dict[metric][split]\n",
    "    labelers_preds = _merge_labelers_and_models_preds(labelers_preds, models_preds, metric)\n",
    "\n",
    "    labelers_preds = _add_fixed_columns(\n",
    "        labelers_preds, [3, 3.25, 3.5, 3.75, 4]\n",
    "    )\n",
    "    labelers_preds[\"mean_jittered\"] = (\n",
    "        labelers_preds[\"labeler_mean\"]\n",
    "        + np.random.normal(loc=0.0, scale=0.15, size=(len(labelers_preds)))\n",
    "    ).clip(lower=0, upper=5)\n",
    "\n",
    "    anot_cols = labelers_preds.columns.to_list()\n",
    "    anot_cols.remove(\"ArticleID\")\n",
    "    anot_cols.remove(\"System\")\n",
    "    anot_cols.remove(\"summary_id\")\n",
    "\n",
    "    labelers_preds[anot_cols] = (labelers_preds[anot_cols] - 1) / 4\n",
    "\n",
    "    annotator_scores = evaluate_labelers(\n",
    "        labelers_preds[anot_cols],\n",
    "        normalization=None,\n",
    "        human_prefix=\"labeler_\",\n",
    "        k=k,\n",
    "    ).sort_values(ascending=False)\n",
    "    # display(evaluation_results)\n",
    "\n",
    "    temp_melt_df = pd.melt(\n",
    "        labelers_preds, id_vars=[\"summary_id\"], value_vars=anot_cols\n",
    "    )\n",
    "    fig = px.scatter(\n",
    "        temp_melt_df,\n",
    "        x=\"summary_id\",\n",
    "        y=\"value\",\n",
    "        color=\"variable\",\n",
    "    )\n",
    "    return annotator_scores, fig\n",
    "    # fig.show()\n",
    "\n",
    "\n",
    "def _add_fixed_columns(df: pd.DataFrame, values: List[float]) -> pd.DataFrame:\n",
    "    for v in values:\n",
    "        df[f\"fixed_{v}\"] = v\n",
    "    return df\n",
    "\n",
    "\n",
    "def _merge_labelers_and_models_preds(\n",
    "    labelers_preds: pd.DataFrame,\n",
    "    models_preds: Dict[str, Dict[str, pd.DataFrame]],\n",
    "    metric: str,\n",
    ") -> pd.DataFrame:\n",
    "    if metric in models_preds:  # METRIC_2_MODEL_INCREMENTAL:\n",
    "        for model_name, model_predictions in models_preds[metric].items():\n",
    "            labelers_preds = labelers_preds.merge(\n",
    "                model_predictions[[\"ArticleID\", \"System\", \"labels\"]],\n",
    "                how=\"inner\",\n",
    "                on=[\"ArticleID\", \"System\"],\n",
    "            ).rename(columns={\"labels\": model_name})\n",
    "    return labelers_preds"
   ]
  },
  {
   "cell_type": "code",
   "execution_count": 7,
   "metadata": {},
   "outputs": [],
   "source": [
    "# models_preds = load_models_predictions(\n",
    "#     metric2model=METRIC_2_MODEL_INCREMENTAL,\n",
    "#     preds_path=Path(PREDS_DIR) / \"deberta-small\",\n",
    "#     load_from_buckets_dir=True,\n",
    "#     split_prefixes=[\"val_\"],\n",
    "# )\n",
    "# evaluate_and_compare_models(\n",
    "#     models_preds, labelers_preds_dict, \"RelevanceRating\", \"valid\"\n",
    "# )"
   ]
  },
  {
   "attachments": {},
   "cell_type": "markdown",
   "metadata": {},
   "source": [
    "## Load and evaluate models predictions"
   ]
  },
  {
   "cell_type": "code",
   "execution_count": 8,
   "metadata": {},
   "outputs": [
    {
     "name": "stdout",
     "output_type": "stream",
     "text": [
      "Evaluating metric InformativenessRating...\n",
      "  Evaluating split train...\n",
      "    Evaluating model deberta-small...\n",
      "    Evaluating model deberta-base...\n",
      "    Evaluating model deberta-large...\n",
      "    Evaluating model reward-deberta-base...\n",
      "    Evaluating model reward-deberta-large...\n",
      "  Evaluating split valid...\n",
      "    Evaluating model deberta-small...\n",
      "    Evaluating model deberta-base...\n",
      "    Evaluating model deberta-large...\n",
      "    Evaluating model reward-deberta-base...\n",
      "    Evaluating model reward-deberta-large...\n",
      "Done.\n"
     ]
    }
   ],
   "source": [
    "# scores_dict: Dict[str, Dict[str, Dict[str, pd.Series]]] = {}\n",
    "# figures_dict: Dict[str, Dict[str, Dict[str, go.Figure]]] = {}\n",
    "\n",
    "# for metric in METRICS:\n",
    "#     print(f\"Evaluating metric {metric}...\")\n",
    "#     scores_dict[metric] = {}\n",
    "#     figures_dict[metric] = {}\n",
    "#     for split in get_args(Split):\n",
    "#         print(f\"  Evaluating split {split}...\")\n",
    "#         scores_dict[metric][split] = {}\n",
    "#         figures_dict[metric][split] = {}\n",
    "#         for model in MODELS:\n",
    "#             print(f\"    Evaluating model {model}...\")\n",
    "#             models_preds = load_models_predictions(\n",
    "#                 metric2model=METRIC_2_MODEL_INCREMENTAL\n",
    "#                 if model == \"deberta-small\"\n",
    "#                 else METRIC_2_MODEL_INCREMENTAL_PARTIAL,\n",
    "#                 preds_path=Path(PREDS_DIR) / model,\n",
    "#                 load_from_buckets_dir=True,\n",
    "#                 split_prefixes=[\"val_\" if split == \"valid\" else \"tr_\"],\n",
    "#             )\n",
    "#             score, fig = evaluate_and_compare_models(\n",
    "#                 models_preds,\n",
    "#                 labelers_preds_dict,\n",
    "#                 metric,\n",
    "#                 split,\n",
    "#             )\n",
    "#             scores_dict[metric][split][model] = score\n",
    "#             figures_dict[metric][split][model] = fig\n",
    "# print(\"Done.\")"
   ]
  },
  {
   "cell_type": "code",
   "execution_count": 18,
   "metadata": {},
   "outputs": [],
   "source": [
    "# with open(\"scores_dict.pkl\", \"wb\") as f:\n",
    "#     pkl.dump(scores_dict, f)\n",
    "# with open(\"figures_dict.pkl\", \"wb\") as f:\n",
    "#     pkl.dump(figures_dict, f)"
   ]
  },
  {
   "cell_type": "code",
   "execution_count": null,
   "metadata": {},
   "outputs": [],
   "source": [
    "scores_dict = pkl.load(open(\"scores_dict.pkl\", \"rb\"))\n",
    "figures_dict = pkl.load(open(\"figures_dict.pkl\", \"rb\"))"
   ]
  },
  {
   "cell_type": "code",
   "execution_count": null,
   "metadata": {},
   "outputs": [],
   "source": []
  },
  {
   "attachments": {},
   "cell_type": "markdown",
   "metadata": {},
   "source": [
    "## Visualise"
   ]
  },
  {
   "attachments": {},
   "cell_type": "markdown",
   "metadata": {},
   "source": [
    "### Display scores"
   ]
  },
  {
   "cell_type": "code",
   "execution_count": 10,
   "metadata": {},
   "outputs": [],
   "source": [
    "# for metric in METRICS:\n",
    "#     for split in get_args(Split):\n",
    "#         for model in MODELS:\n",
    "#             print(f\"Metric: {metric}, Split: {split}, Model: {model}\")\n",
    "#             display(scores_dict[metric][split][model])\n",
    "#             print(f\"{30 * '#'}\\n\")"
   ]
  },
  {
   "attachments": {},
   "cell_type": "markdown",
   "metadata": {},
   "source": [
    "### Bar plots"
   ]
  },
  {
   "cell_type": "code",
   "execution_count": 11,
   "metadata": {},
   "outputs": [],
   "source": [
    "def bar_plot_rewards(split: Split, metric: str, model: str):\n",
    "    split_prefix = \"tr\" if split == \"train\" else \"val\"\n",
    "    temp = scores_dict[metric][split][model][\n",
    "        [f\"{split_prefix}_rewards_{i}\" for i in range(10)]\n",
    "        + [\"median_labeler\", \"random_labeler\", \"fixed_3.5\"]\n",
    "    ]\n",
    "    fig = px.bar(\n",
    "        temp, x=temp.index, y=temp.values, title=f\"{split}, {metric}, {model}\"\n",
    "    )\n",
    "    fig.update_layout(yaxis_range=[temp.min() * 0.99, temp.max() * 1.01])\n",
    "    return fig"
   ]
  },
  {
   "cell_type": "code",
   "execution_count": 12,
   "metadata": {},
   "outputs": [],
   "source": [
    "# figs = {\n",
    "#     model: {\n",
    "#         split: bar_plot_rewards(split, \"RelevanceRating\", model)\n",
    "#         for split in (\"train\", \"valid\")\n",
    "#     }\n",
    "#     for model in MODELS\n",
    "# }\n",
    "\n",
    "# fig = make_subplots(\n",
    "#     rows=3,\n",
    "#     cols=2,\n",
    "#     subplot_titles=[\n",
    "#         f\"{model} {split}\" for model in MODELS for split in (\"train\", \"valid\")\n",
    "#     ],\n",
    "# )\n",
    "\n",
    "# for row, model in enumerate(MODELS):\n",
    "#     for col, split in enumerate((\"train\", \"valid\")):\n",
    "#         fig.add_trace(figs[model][split][\"data\"][0], row=row + 1, col=col + 1)\n",
    "#         fig.update_yaxes(range=[0.76, 0.91], row=row + 1, col=col + 1)\n",
    "\n",
    "\n",
    "# fig.update_layout(height=1500, width=800)\n",
    "# fig.show()"
   ]
  },
  {
   "cell_type": "code",
   "execution_count": 13,
   "metadata": {},
   "outputs": [],
   "source": [
    "# figs = {\n",
    "#     model: {\n",
    "#         split: bar_plot_rewards(split, \"InformativenessRating\", model)\n",
    "#         for split in (\"train\", \"valid\")\n",
    "#     }\n",
    "#     for model in MODELS\n",
    "# }\n",
    "\n",
    "# fig = make_subplots(\n",
    "#     rows=3,\n",
    "#     cols=2,\n",
    "#     subplot_titles=[\n",
    "#         f\"{model} {split}\" for model in MODELS for split in (\"train\", \"valid\")\n",
    "#     ],\n",
    "# )\n",
    "\n",
    "# for row, model in enumerate(MODELS):\n",
    "#     for col, split in enumerate((\"train\", \"valid\")):\n",
    "#         fig.add_trace(figs[model][split][\"data\"][0], row=row + 1, col=col + 1)\n",
    "#         fig.update_yaxes(range=[0.8, 0.9], row=row + 1, col=col + 1)\n",
    "\n",
    "\n",
    "# fig.update_layout(height=1500, width=800)\n",
    "# fig.show()"
   ]
  },
  {
   "attachments": {},
   "cell_type": "markdown",
   "metadata": {},
   "source": [
    "### Scatter plots"
   ]
  },
  {
   "attachments": {},
   "cell_type": "markdown",
   "metadata": {},
   "source": [
    "#### Define helper functions"
   ]
  },
  {
   "cell_type": "code",
   "execution_count": 14,
   "metadata": {},
   "outputs": [],
   "source": [
    "def generate_dfs_for_plot():\n",
    "    dfs = {}\n",
    "    for metric in METRICS:\n",
    "        dfs[metric] = {}\n",
    "        for split in get_args(Split):\n",
    "            dfs[metric][split] = pd.DataFrame(\n",
    "                {\"percentage\": pd.Series(range(11)) * 10}\n",
    "            )\n",
    "            for model in MODELS:\n",
    "                dfs[metric][split][model] = get_model_column(\n",
    "                    scores_dict,\n",
    "                    metric,\n",
    "                    model,\n",
    "                    split,\n",
    "                ).values\n",
    "            dfs[metric][split][\"median_labeler\"] = scores_dict[metric][split][\n",
    "                model\n",
    "            ][\"median_labeler\"]\n",
    "            dfs[metric][split][\"random_labeler\"] = scores_dict[metric][split][\n",
    "                model\n",
    "            ][\"random_labeler\"]\n",
    "            dfs[metric][split][\"fixed_4\"] = scores_dict[metric][split][model][\n",
    "                \"fixed_4\"\n",
    "            ]\n",
    "            dfs[metric][split][\"fixed_3.5\"] = scores_dict[metric][split][\n",
    "                model\n",
    "            ][\"fixed_3.5\"]\n",
    "    return dfs\n",
    "\n",
    "\n",
    "def get_model_column(\n",
    "    scores_dict: Dict[str, Dict[str, Dict[str, pd.Series]]],\n",
    "    metric: str,\n",
    "    model_name: str,\n",
    "    split: Split,\n",
    ") -> pd.DataFrame:\n",
    "    split_prefix = \"tr_\" if split == \"train\" else \"val_\"\n",
    "    temp = scores_dict[metric][split][model_name]\n",
    "    temp = temp[temp.index.str.startswith(split_prefix)].sort_index()\n",
    "    # Adding 0 to the beginning or middle of the series because we didn't\n",
    "    # evaluate all cases.\n",
    "    if len(temp) == 10:\n",
    "        new_col = pd.concat(\n",
    "            [\n",
    "                pd.Series([0.0] * (11 - len(temp))),\n",
    "                temp,\n",
    "            ]\n",
    "        )\n",
    "    elif len(temp) == 1:\n",
    "        new_col = pd.concat(\n",
    "            [\n",
    "                pd.Series([0.0] * 10),\n",
    "                pd.Series([temp.iloc[1]]),\n",
    "            ]\n",
    "        )\n",
    "    elif len(temp) == 2:\n",
    "        new_col = pd.concat(\n",
    "            [\n",
    "                pd.Series([temp.iloc[0]]),\n",
    "                pd.Series([0.0] * 9),\n",
    "                pd.Series([temp.iloc[1]]),\n",
    "            ]\n",
    "        )\n",
    "    else:\n",
    "        new_col = temp\n",
    "    return new_col"
   ]
  },
  {
   "cell_type": "code",
   "execution_count": 15,
   "metadata": {},
   "outputs": [],
   "source": [
    "# dfs = generate_dfs_for_plot()"
   ]
  },
  {
   "cell_type": "code",
   "execution_count": 19,
   "metadata": {},
   "outputs": [],
   "source": [
    "# with open(\"dfs.pkl\", \"wb\") as f:\n",
    "#     pkl.dump(dfs, f)"
   ]
  },
  {
   "cell_type": "code",
   "execution_count": 20,
   "metadata": {},
   "outputs": [],
   "source": [
    "# dfs = pkl.load(open(\"dfs.pkl\", \"rb\"))"
   ]
  },
  {
   "cell_type": "code",
   "execution_count": 37,
   "metadata": {},
   "outputs": [
    {
     "name": "stdout",
     "output_type": "stream",
     "text": [
      "InformativenessRating\n"
     ]
    },
    {
     "data": {
      "text/html": [
       "<div>\n",
       "<style scoped>\n",
       "    .dataframe tbody tr th:only-of-type {\n",
       "        vertical-align: middle;\n",
       "    }\n",
       "\n",
       "    .dataframe tbody tr th {\n",
       "        vertical-align: top;\n",
       "    }\n",
       "\n",
       "    .dataframe thead th {\n",
       "        text-align: right;\n",
       "    }\n",
       "</style>\n",
       "<table border=\"1\" class=\"dataframe\">\n",
       "  <thead>\n",
       "    <tr style=\"text-align: right;\">\n",
       "      <th></th>\n",
       "      <th>percentage</th>\n",
       "      <th>deberta-small</th>\n",
       "      <th>deberta-base</th>\n",
       "      <th>deberta-large</th>\n",
       "      <th>reward-deberta-base</th>\n",
       "      <th>reward-deberta-large</th>\n",
       "      <th>median_labeler</th>\n",
       "      <th>random_labeler</th>\n",
       "      <th>fixed_4</th>\n",
       "      <th>fixed_3.5</th>\n",
       "      <th>split</th>\n",
       "      <th>metric</th>\n",
       "    </tr>\n",
       "  </thead>\n",
       "  <tbody>\n",
       "    <tr>\n",
       "      <th>0</th>\n",
       "      <td>0</td>\n",
       "      <td>0.831944</td>\n",
       "      <td>0.817593</td>\n",
       "      <td>0.804167</td>\n",
       "      <td>0.835185</td>\n",
       "      <td>0.806481</td>\n",
       "      <td>0.933333</td>\n",
       "      <td>0.857407</td>\n",
       "      <td>0.849074</td>\n",
       "      <td>0.853704</td>\n",
       "      <td>train</td>\n",
       "      <td>InformativenessRating</td>\n",
       "    </tr>\n",
       "    <tr>\n",
       "      <th>1</th>\n",
       "      <td>10</td>\n",
       "      <td>0.873148</td>\n",
       "      <td>0.000000</td>\n",
       "      <td>0.000000</td>\n",
       "      <td>0.000000</td>\n",
       "      <td>0.000000</td>\n",
       "      <td>0.933333</td>\n",
       "      <td>0.857407</td>\n",
       "      <td>0.849074</td>\n",
       "      <td>0.853704</td>\n",
       "      <td>train</td>\n",
       "      <td>InformativenessRating</td>\n",
       "    </tr>\n",
       "    <tr>\n",
       "      <th>2</th>\n",
       "      <td>20</td>\n",
       "      <td>0.873148</td>\n",
       "      <td>0.000000</td>\n",
       "      <td>0.000000</td>\n",
       "      <td>0.000000</td>\n",
       "      <td>0.000000</td>\n",
       "      <td>0.933333</td>\n",
       "      <td>0.857407</td>\n",
       "      <td>0.849074</td>\n",
       "      <td>0.853704</td>\n",
       "      <td>train</td>\n",
       "      <td>InformativenessRating</td>\n",
       "    </tr>\n",
       "    <tr>\n",
       "      <th>3</th>\n",
       "      <td>30</td>\n",
       "      <td>0.885648</td>\n",
       "      <td>0.000000</td>\n",
       "      <td>0.000000</td>\n",
       "      <td>0.000000</td>\n",
       "      <td>0.000000</td>\n",
       "      <td>0.933333</td>\n",
       "      <td>0.857407</td>\n",
       "      <td>0.849074</td>\n",
       "      <td>0.853704</td>\n",
       "      <td>train</td>\n",
       "      <td>InformativenessRating</td>\n",
       "    </tr>\n",
       "    <tr>\n",
       "      <th>4</th>\n",
       "      <td>40</td>\n",
       "      <td>0.851389</td>\n",
       "      <td>0.000000</td>\n",
       "      <td>0.000000</td>\n",
       "      <td>0.000000</td>\n",
       "      <td>0.000000</td>\n",
       "      <td>0.933333</td>\n",
       "      <td>0.857407</td>\n",
       "      <td>0.849074</td>\n",
       "      <td>0.853704</td>\n",
       "      <td>train</td>\n",
       "      <td>InformativenessRating</td>\n",
       "    </tr>\n",
       "    <tr>\n",
       "      <th>5</th>\n",
       "      <td>50</td>\n",
       "      <td>0.881944</td>\n",
       "      <td>0.000000</td>\n",
       "      <td>0.000000</td>\n",
       "      <td>0.000000</td>\n",
       "      <td>0.000000</td>\n",
       "      <td>0.933333</td>\n",
       "      <td>0.857407</td>\n",
       "      <td>0.849074</td>\n",
       "      <td>0.853704</td>\n",
       "      <td>train</td>\n",
       "      <td>InformativenessRating</td>\n",
       "    </tr>\n",
       "    <tr>\n",
       "      <th>6</th>\n",
       "      <td>60</td>\n",
       "      <td>0.884259</td>\n",
       "      <td>0.000000</td>\n",
       "      <td>0.000000</td>\n",
       "      <td>0.000000</td>\n",
       "      <td>0.000000</td>\n",
       "      <td>0.933333</td>\n",
       "      <td>0.857407</td>\n",
       "      <td>0.849074</td>\n",
       "      <td>0.853704</td>\n",
       "      <td>train</td>\n",
       "      <td>InformativenessRating</td>\n",
       "    </tr>\n",
       "    <tr>\n",
       "      <th>7</th>\n",
       "      <td>70</td>\n",
       "      <td>0.885185</td>\n",
       "      <td>0.000000</td>\n",
       "      <td>0.000000</td>\n",
       "      <td>0.000000</td>\n",
       "      <td>0.000000</td>\n",
       "      <td>0.933333</td>\n",
       "      <td>0.857407</td>\n",
       "      <td>0.849074</td>\n",
       "      <td>0.853704</td>\n",
       "      <td>train</td>\n",
       "      <td>InformativenessRating</td>\n",
       "    </tr>\n",
       "    <tr>\n",
       "      <th>8</th>\n",
       "      <td>80</td>\n",
       "      <td>0.895370</td>\n",
       "      <td>0.000000</td>\n",
       "      <td>0.000000</td>\n",
       "      <td>0.000000</td>\n",
       "      <td>0.000000</td>\n",
       "      <td>0.933333</td>\n",
       "      <td>0.857407</td>\n",
       "      <td>0.849074</td>\n",
       "      <td>0.853704</td>\n",
       "      <td>train</td>\n",
       "      <td>InformativenessRating</td>\n",
       "    </tr>\n",
       "    <tr>\n",
       "      <th>9</th>\n",
       "      <td>90</td>\n",
       "      <td>0.874074</td>\n",
       "      <td>0.000000</td>\n",
       "      <td>0.000000</td>\n",
       "      <td>0.000000</td>\n",
       "      <td>0.000000</td>\n",
       "      <td>0.933333</td>\n",
       "      <td>0.857407</td>\n",
       "      <td>0.849074</td>\n",
       "      <td>0.853704</td>\n",
       "      <td>train</td>\n",
       "      <td>InformativenessRating</td>\n",
       "    </tr>\n",
       "    <tr>\n",
       "      <th>10</th>\n",
       "      <td>100</td>\n",
       "      <td>0.876389</td>\n",
       "      <td>0.902315</td>\n",
       "      <td>0.812963</td>\n",
       "      <td>0.877315</td>\n",
       "      <td>0.811574</td>\n",
       "      <td>0.933333</td>\n",
       "      <td>0.857407</td>\n",
       "      <td>0.849074</td>\n",
       "      <td>0.853704</td>\n",
       "      <td>train</td>\n",
       "      <td>InformativenessRating</td>\n",
       "    </tr>\n",
       "    <tr>\n",
       "      <th>0</th>\n",
       "      <td>0</td>\n",
       "      <td>0.837037</td>\n",
       "      <td>0.749074</td>\n",
       "      <td>0.789815</td>\n",
       "      <td>0.825926</td>\n",
       "      <td>0.790741</td>\n",
       "      <td>0.921759</td>\n",
       "      <td>0.855093</td>\n",
       "      <td>0.831944</td>\n",
       "      <td>0.856019</td>\n",
       "      <td>valid</td>\n",
       "      <td>InformativenessRating</td>\n",
       "    </tr>\n",
       "    <tr>\n",
       "      <th>1</th>\n",
       "      <td>10</td>\n",
       "      <td>0.862500</td>\n",
       "      <td>0.000000</td>\n",
       "      <td>0.000000</td>\n",
       "      <td>0.000000</td>\n",
       "      <td>0.000000</td>\n",
       "      <td>0.921759</td>\n",
       "      <td>0.855093</td>\n",
       "      <td>0.831944</td>\n",
       "      <td>0.856019</td>\n",
       "      <td>valid</td>\n",
       "      <td>InformativenessRating</td>\n",
       "    </tr>\n",
       "    <tr>\n",
       "      <th>2</th>\n",
       "      <td>20</td>\n",
       "      <td>0.870833</td>\n",
       "      <td>0.000000</td>\n",
       "      <td>0.000000</td>\n",
       "      <td>0.000000</td>\n",
       "      <td>0.000000</td>\n",
       "      <td>0.921759</td>\n",
       "      <td>0.855093</td>\n",
       "      <td>0.831944</td>\n",
       "      <td>0.856019</td>\n",
       "      <td>valid</td>\n",
       "      <td>InformativenessRating</td>\n",
       "    </tr>\n",
       "    <tr>\n",
       "      <th>3</th>\n",
       "      <td>30</td>\n",
       "      <td>0.860648</td>\n",
       "      <td>0.000000</td>\n",
       "      <td>0.000000</td>\n",
       "      <td>0.000000</td>\n",
       "      <td>0.000000</td>\n",
       "      <td>0.921759</td>\n",
       "      <td>0.855093</td>\n",
       "      <td>0.831944</td>\n",
       "      <td>0.856019</td>\n",
       "      <td>valid</td>\n",
       "      <td>InformativenessRating</td>\n",
       "    </tr>\n",
       "    <tr>\n",
       "      <th>4</th>\n",
       "      <td>40</td>\n",
       "      <td>0.858796</td>\n",
       "      <td>0.000000</td>\n",
       "      <td>0.000000</td>\n",
       "      <td>0.000000</td>\n",
       "      <td>0.000000</td>\n",
       "      <td>0.921759</td>\n",
       "      <td>0.855093</td>\n",
       "      <td>0.831944</td>\n",
       "      <td>0.856019</td>\n",
       "      <td>valid</td>\n",
       "      <td>InformativenessRating</td>\n",
       "    </tr>\n",
       "    <tr>\n",
       "      <th>5</th>\n",
       "      <td>50</td>\n",
       "      <td>0.856481</td>\n",
       "      <td>0.000000</td>\n",
       "      <td>0.000000</td>\n",
       "      <td>0.000000</td>\n",
       "      <td>0.000000</td>\n",
       "      <td>0.921759</td>\n",
       "      <td>0.855093</td>\n",
       "      <td>0.831944</td>\n",
       "      <td>0.856019</td>\n",
       "      <td>valid</td>\n",
       "      <td>InformativenessRating</td>\n",
       "    </tr>\n",
       "    <tr>\n",
       "      <th>6</th>\n",
       "      <td>60</td>\n",
       "      <td>0.858796</td>\n",
       "      <td>0.000000</td>\n",
       "      <td>0.000000</td>\n",
       "      <td>0.000000</td>\n",
       "      <td>0.000000</td>\n",
       "      <td>0.921759</td>\n",
       "      <td>0.855093</td>\n",
       "      <td>0.831944</td>\n",
       "      <td>0.856019</td>\n",
       "      <td>valid</td>\n",
       "      <td>InformativenessRating</td>\n",
       "    </tr>\n",
       "    <tr>\n",
       "      <th>7</th>\n",
       "      <td>70</td>\n",
       "      <td>0.855556</td>\n",
       "      <td>0.000000</td>\n",
       "      <td>0.000000</td>\n",
       "      <td>0.000000</td>\n",
       "      <td>0.000000</td>\n",
       "      <td>0.921759</td>\n",
       "      <td>0.855093</td>\n",
       "      <td>0.831944</td>\n",
       "      <td>0.856019</td>\n",
       "      <td>valid</td>\n",
       "      <td>InformativenessRating</td>\n",
       "    </tr>\n",
       "    <tr>\n",
       "      <th>8</th>\n",
       "      <td>80</td>\n",
       "      <td>0.866667</td>\n",
       "      <td>0.000000</td>\n",
       "      <td>0.000000</td>\n",
       "      <td>0.000000</td>\n",
       "      <td>0.000000</td>\n",
       "      <td>0.921759</td>\n",
       "      <td>0.855093</td>\n",
       "      <td>0.831944</td>\n",
       "      <td>0.856019</td>\n",
       "      <td>valid</td>\n",
       "      <td>InformativenessRating</td>\n",
       "    </tr>\n",
       "    <tr>\n",
       "      <th>9</th>\n",
       "      <td>90</td>\n",
       "      <td>0.864815</td>\n",
       "      <td>0.000000</td>\n",
       "      <td>0.000000</td>\n",
       "      <td>0.000000</td>\n",
       "      <td>0.000000</td>\n",
       "      <td>0.921759</td>\n",
       "      <td>0.855093</td>\n",
       "      <td>0.831944</td>\n",
       "      <td>0.856019</td>\n",
       "      <td>valid</td>\n",
       "      <td>InformativenessRating</td>\n",
       "    </tr>\n",
       "    <tr>\n",
       "      <th>10</th>\n",
       "      <td>100</td>\n",
       "      <td>0.856944</td>\n",
       "      <td>0.877778</td>\n",
       "      <td>0.820833</td>\n",
       "      <td>0.875926</td>\n",
       "      <td>0.816667</td>\n",
       "      <td>0.921759</td>\n",
       "      <td>0.855093</td>\n",
       "      <td>0.831944</td>\n",
       "      <td>0.856019</td>\n",
       "      <td>valid</td>\n",
       "      <td>InformativenessRating</td>\n",
       "    </tr>\n",
       "  </tbody>\n",
       "</table>\n",
       "</div>"
      ],
      "text/plain": [
       "    percentage  deberta-small  deberta-base  deberta-large  \\\n",
       "0            0       0.831944      0.817593       0.804167   \n",
       "1           10       0.873148      0.000000       0.000000   \n",
       "2           20       0.873148      0.000000       0.000000   \n",
       "3           30       0.885648      0.000000       0.000000   \n",
       "4           40       0.851389      0.000000       0.000000   \n",
       "5           50       0.881944      0.000000       0.000000   \n",
       "6           60       0.884259      0.000000       0.000000   \n",
       "7           70       0.885185      0.000000       0.000000   \n",
       "8           80       0.895370      0.000000       0.000000   \n",
       "9           90       0.874074      0.000000       0.000000   \n",
       "10         100       0.876389      0.902315       0.812963   \n",
       "0            0       0.837037      0.749074       0.789815   \n",
       "1           10       0.862500      0.000000       0.000000   \n",
       "2           20       0.870833      0.000000       0.000000   \n",
       "3           30       0.860648      0.000000       0.000000   \n",
       "4           40       0.858796      0.000000       0.000000   \n",
       "5           50       0.856481      0.000000       0.000000   \n",
       "6           60       0.858796      0.000000       0.000000   \n",
       "7           70       0.855556      0.000000       0.000000   \n",
       "8           80       0.866667      0.000000       0.000000   \n",
       "9           90       0.864815      0.000000       0.000000   \n",
       "10         100       0.856944      0.877778       0.820833   \n",
       "\n",
       "    reward-deberta-base  reward-deberta-large  median_labeler  random_labeler  \\\n",
       "0              0.835185              0.806481        0.933333        0.857407   \n",
       "1              0.000000              0.000000        0.933333        0.857407   \n",
       "2              0.000000              0.000000        0.933333        0.857407   \n",
       "3              0.000000              0.000000        0.933333        0.857407   \n",
       "4              0.000000              0.000000        0.933333        0.857407   \n",
       "5              0.000000              0.000000        0.933333        0.857407   \n",
       "6              0.000000              0.000000        0.933333        0.857407   \n",
       "7              0.000000              0.000000        0.933333        0.857407   \n",
       "8              0.000000              0.000000        0.933333        0.857407   \n",
       "9              0.000000              0.000000        0.933333        0.857407   \n",
       "10             0.877315              0.811574        0.933333        0.857407   \n",
       "0              0.825926              0.790741        0.921759        0.855093   \n",
       "1              0.000000              0.000000        0.921759        0.855093   \n",
       "2              0.000000              0.000000        0.921759        0.855093   \n",
       "3              0.000000              0.000000        0.921759        0.855093   \n",
       "4              0.000000              0.000000        0.921759        0.855093   \n",
       "5              0.000000              0.000000        0.921759        0.855093   \n",
       "6              0.000000              0.000000        0.921759        0.855093   \n",
       "7              0.000000              0.000000        0.921759        0.855093   \n",
       "8              0.000000              0.000000        0.921759        0.855093   \n",
       "9              0.000000              0.000000        0.921759        0.855093   \n",
       "10             0.875926              0.816667        0.921759        0.855093   \n",
       "\n",
       "     fixed_4  fixed_3.5  split                 metric  \n",
       "0   0.849074   0.853704  train  InformativenessRating  \n",
       "1   0.849074   0.853704  train  InformativenessRating  \n",
       "2   0.849074   0.853704  train  InformativenessRating  \n",
       "3   0.849074   0.853704  train  InformativenessRating  \n",
       "4   0.849074   0.853704  train  InformativenessRating  \n",
       "5   0.849074   0.853704  train  InformativenessRating  \n",
       "6   0.849074   0.853704  train  InformativenessRating  \n",
       "7   0.849074   0.853704  train  InformativenessRating  \n",
       "8   0.849074   0.853704  train  InformativenessRating  \n",
       "9   0.849074   0.853704  train  InformativenessRating  \n",
       "10  0.849074   0.853704  train  InformativenessRating  \n",
       "0   0.831944   0.856019  valid  InformativenessRating  \n",
       "1   0.831944   0.856019  valid  InformativenessRating  \n",
       "2   0.831944   0.856019  valid  InformativenessRating  \n",
       "3   0.831944   0.856019  valid  InformativenessRating  \n",
       "4   0.831944   0.856019  valid  InformativenessRating  \n",
       "5   0.831944   0.856019  valid  InformativenessRating  \n",
       "6   0.831944   0.856019  valid  InformativenessRating  \n",
       "7   0.831944   0.856019  valid  InformativenessRating  \n",
       "8   0.831944   0.856019  valid  InformativenessRating  \n",
       "9   0.831944   0.856019  valid  InformativenessRating  \n",
       "10  0.831944   0.856019  valid  InformativenessRating  "
      ]
     },
     "execution_count": 37,
     "metadata": {},
     "output_type": "execute_result"
    }
   ],
   "source": [
    "# df_total = pd.DataFrame()\n",
    "# for metric, d in dfs.items():\n",
    "#     print(metric)\n",
    "#     for split, df in d.items():\n",
    "#         # print(\"\\t\", split)\n",
    "#         df_temp = df.copy()\n",
    "#         df_temp[\"split\"] = split\n",
    "#         df_temp[\"metric\"] = metric\n",
    "#         # print(df_temp)\n",
    "#         if df_total.empty:\n",
    "#             df_total = df_temp.copy()\n",
    "#         else:\n",
    "#             df_total = pd.concat([df_total, df_temp])\n",
    "# df_total\n",
    "# # df_temp"
   ]
  },
  {
   "cell_type": "code",
   "execution_count": 42,
   "metadata": {},
   "outputs": [
    {
     "data": {
      "text/html": [
       "<div>\n",
       "<style scoped>\n",
       "    .dataframe tbody tr th:only-of-type {\n",
       "        vertical-align: middle;\n",
       "    }\n",
       "\n",
       "    .dataframe tbody tr th {\n",
       "        vertical-align: top;\n",
       "    }\n",
       "\n",
       "    .dataframe thead th {\n",
       "        text-align: right;\n",
       "    }\n",
       "</style>\n",
       "<table border=\"1\" class=\"dataframe\">\n",
       "  <thead>\n",
       "    <tr style=\"text-align: right;\">\n",
       "      <th></th>\n",
       "      <th>percentage</th>\n",
       "      <th>split</th>\n",
       "      <th>metric</th>\n",
       "      <th>model</th>\n",
       "      <th>eval_metric_value</th>\n",
       "    </tr>\n",
       "  </thead>\n",
       "  <tbody>\n",
       "    <tr>\n",
       "      <th>0</th>\n",
       "      <td>0</td>\n",
       "      <td>train</td>\n",
       "      <td>InformativenessRating</td>\n",
       "      <td>deberta-small</td>\n",
       "      <td>0.831944</td>\n",
       "    </tr>\n",
       "    <tr>\n",
       "      <th>1</th>\n",
       "      <td>10</td>\n",
       "      <td>train</td>\n",
       "      <td>InformativenessRating</td>\n",
       "      <td>deberta-small</td>\n",
       "      <td>0.873148</td>\n",
       "    </tr>\n",
       "    <tr>\n",
       "      <th>2</th>\n",
       "      <td>20</td>\n",
       "      <td>train</td>\n",
       "      <td>InformativenessRating</td>\n",
       "      <td>deberta-small</td>\n",
       "      <td>0.873148</td>\n",
       "    </tr>\n",
       "    <tr>\n",
       "      <th>3</th>\n",
       "      <td>30</td>\n",
       "      <td>train</td>\n",
       "      <td>InformativenessRating</td>\n",
       "      <td>deberta-small</td>\n",
       "      <td>0.885648</td>\n",
       "    </tr>\n",
       "    <tr>\n",
       "      <th>4</th>\n",
       "      <td>40</td>\n",
       "      <td>train</td>\n",
       "      <td>InformativenessRating</td>\n",
       "      <td>deberta-small</td>\n",
       "      <td>0.851389</td>\n",
       "    </tr>\n",
       "    <tr>\n",
       "      <th>...</th>\n",
       "      <td>...</td>\n",
       "      <td>...</td>\n",
       "      <td>...</td>\n",
       "      <td>...</td>\n",
       "      <td>...</td>\n",
       "    </tr>\n",
       "    <tr>\n",
       "      <th>105</th>\n",
       "      <td>60</td>\n",
       "      <td>valid</td>\n",
       "      <td>InformativenessRating</td>\n",
       "      <td>reward-deberta-large</td>\n",
       "      <td>0.000000</td>\n",
       "    </tr>\n",
       "    <tr>\n",
       "      <th>106</th>\n",
       "      <td>70</td>\n",
       "      <td>valid</td>\n",
       "      <td>InformativenessRating</td>\n",
       "      <td>reward-deberta-large</td>\n",
       "      <td>0.000000</td>\n",
       "    </tr>\n",
       "    <tr>\n",
       "      <th>107</th>\n",
       "      <td>80</td>\n",
       "      <td>valid</td>\n",
       "      <td>InformativenessRating</td>\n",
       "      <td>reward-deberta-large</td>\n",
       "      <td>0.000000</td>\n",
       "    </tr>\n",
       "    <tr>\n",
       "      <th>108</th>\n",
       "      <td>90</td>\n",
       "      <td>valid</td>\n",
       "      <td>InformativenessRating</td>\n",
       "      <td>reward-deberta-large</td>\n",
       "      <td>0.000000</td>\n",
       "    </tr>\n",
       "    <tr>\n",
       "      <th>109</th>\n",
       "      <td>100</td>\n",
       "      <td>valid</td>\n",
       "      <td>InformativenessRating</td>\n",
       "      <td>reward-deberta-large</td>\n",
       "      <td>0.816667</td>\n",
       "    </tr>\n",
       "  </tbody>\n",
       "</table>\n",
       "<p>110 rows × 5 columns</p>\n",
       "</div>"
      ],
      "text/plain": [
       "     percentage  split                 metric                 model  \\\n",
       "0             0  train  InformativenessRating         deberta-small   \n",
       "1            10  train  InformativenessRating         deberta-small   \n",
       "2            20  train  InformativenessRating         deberta-small   \n",
       "3            30  train  InformativenessRating         deberta-small   \n",
       "4            40  train  InformativenessRating         deberta-small   \n",
       "..          ...    ...                    ...                   ...   \n",
       "105          60  valid  InformativenessRating  reward-deberta-large   \n",
       "106          70  valid  InformativenessRating  reward-deberta-large   \n",
       "107          80  valid  InformativenessRating  reward-deberta-large   \n",
       "108          90  valid  InformativenessRating  reward-deberta-large   \n",
       "109         100  valid  InformativenessRating  reward-deberta-large   \n",
       "\n",
       "     eval_metric_value  \n",
       "0             0.831944  \n",
       "1             0.873148  \n",
       "2             0.873148  \n",
       "3             0.885648  \n",
       "4             0.851389  \n",
       "..                 ...  \n",
       "105           0.000000  \n",
       "106           0.000000  \n",
       "107           0.000000  \n",
       "108           0.000000  \n",
       "109           0.816667  \n",
       "\n",
       "[110 rows x 5 columns]"
      ]
     },
     "execution_count": 42,
     "metadata": {},
     "output_type": "execute_result"
    }
   ],
   "source": [
    "# df_total_melt = pd.melt(df_total, id_vars=[\"percentage\", \"split\", \"metric\"], value_vars=MODELS)\n",
    "# df_total_melt.rename(columns={\"variable\": \"model\", \"value\": \"eval_metric_value\"}, inplace=True)\n",
    "# # df_total_melt.loc[df_total_melt[\"eval_metric_value\"] > 0.0]\n",
    "# df_total_melt"
   ]
  },
  {
   "cell_type": "code",
   "execution_count": 47,
   "metadata": {},
   "outputs": [],
   "source": [
    "# with open(\"df_total_melt.pkl\", \"wb\") as f:\n",
    "#     pkl.dump(df_total_melt, f)"
   ]
  },
  {
   "cell_type": "code",
   "execution_count": 48,
   "metadata": {},
   "outputs": [],
   "source": [
    "df_total_melt = pkl.load(open(\"df_total_melt.pkl\", \"rb\"))"
   ]
  },
  {
   "cell_type": "code",
   "execution_count": 73,
   "metadata": {},
   "outputs": [
    {
     "data": {
      "text/plain": [
       "['reward-deberta-base',\n",
       " 'reward-deberta-base',\n",
       " 'reward-deberta-base',\n",
       " 'reward-deberta-base',\n",
       " 'reward-deberta-base',\n",
       " 'reward-deberta-base',\n",
       " 'reward-deberta-base',\n",
       " 'reward-deberta-base',\n",
       " 'reward-deberta-large',\n",
       " 'reward-deberta-large',\n",
       " 'reward-deberta-large',\n",
       " 'reward-deberta-large',\n",
       " 'reward-deberta-large',\n",
       " 'reward-deberta-large',\n",
       " 'reward-deberta-large',\n",
       " 'reward-deberta-large',\n",
       " 'reward-deberta-large',\n",
       " 'reward-deberta-large',\n",
       " 'reward-deberta-large',\n",
       " 'reward-deberta-large',\n",
       " 'reward-deberta-large',\n",
       " 'reward-deberta-large',\n",
       " 'reward-deberta-large',\n",
       " 'reward-deberta-large',\n",
       " 'reward-deberta-large',\n",
       " 'reward-deberta-large',\n",
       " 'reward-deberta-large',\n",
       " 'reward-deberta-large',\n",
       " 'reward-deberta-large',\n",
       " 'reward-deberta-large']"
      ]
     },
     "execution_count": 73,
     "metadata": {},
     "output_type": "execute_result"
    }
   ],
   "source": [
    "list(df_total_melt[\"model\"])"
   ]
  },
  {
   "cell_type": "code",
   "execution_count": null,
   "metadata": {},
   "outputs": [],
   "source": [
    "# def plot_scores(metric: str, split: str, width: int = 900):\n",
    "#     df = dfs[metric][split]\n",
    "\n",
    "#     anot_cols = df.columns.to_list()\n",
    "#     anot_cols = anot_cols.remove(\"percentage\")\n",
    "\n",
    "#     temp_melt_df_models = pd.melt(\n",
    "#         df[df.columns.intersection(MODELS + (\"percentage\",))],\n",
    "#         id_vars=[\"percentage\"],\n",
    "#         value_vars=anot_cols,\n",
    "#     )\n",
    "\n",
    "#     fig = go.Figure()\n",
    "\n",
    "#     fig_scatter = px.scatter(\n",
    "#         temp_melt_df_models,\n",
    "#         x=\"percentage\",\n",
    "#         y=\"value\",\n",
    "#         color=\"variable\",\n",
    "#         symbol=\"variable\",\n",
    "#         width=width,\n",
    "#     )\n",
    "#     for d in fig_scatter.data:\n",
    "#         fig.add_trace(d)\n",
    "\n",
    "#     temp_melt_df_not_models = pd.melt(\n",
    "#         df[df.columns.difference(MODELS)],\n",
    "#         id_vars=[\"percentage\"],\n",
    "#         value_vars=anot_cols,\n",
    "#     )\n",
    "#     fig_line = px.line(\n",
    "#         temp_melt_df_not_models,\n",
    "#         x=\"percentage\",\n",
    "#         y=\"value\",\n",
    "#         color=\"variable\",\n",
    "#         color_discrete_sequence=px.colors.qualitative.Plotly[len(MODELS) :],\n",
    "#         width=width,\n",
    "#     )\n",
    "#     fig_line.update_traces(opacity=0.25)\n",
    "#     for d in fig_line.data:\n",
    "#         fig.add_trace(d)\n",
    "\n",
    "#     fig.update_layout(title=f\"{metric} {split}\", yaxis_range=[0.7, 1])\n",
    "#     fig.show()"
   ]
  },
  {
   "cell_type": "code",
   "execution_count": 61,
   "metadata": {},
   "outputs": [],
   "source": [
    "def plot_scores(df_total_melt, metric: str, split: str, width: int = 900):\n",
    "    # df = dfs[metric][split]\n",
    "\n",
    "    # anot_cols = df.columns.to_list()\n",
    "    # anot_cols = anot_cols.remove(\"percentage\")\n",
    "\n",
    "    # temp_melt_df_models = pd.melt(\n",
    "    #     df[df.columns.intersection(MODELS + (\"percentage\",))],\n",
    "    #     id_vars=[\"percentage\"],\n",
    "    #     value_vars=anot_cols,\n",
    "    # )\n",
    "\n",
    "    fig = go.Figure()\n",
    "\n",
    "    fig_scatter = px.scatter(\n",
    "        df_total_melt[df_total_melt[\"metric\"] == metric][\n",
    "            df_total_melt[\"split\"] == split\n",
    "        ][df_total_melt[\"model\"].isin(MODELS)],\n",
    "        x=\"percentage\",\n",
    "        y=\"eval_metric_value\",\n",
    "        color=\"model\",\n",
    "        symbol=\"model\",\n",
    "        width=width,\n",
    "    )\n",
    "    for d in fig_scatter.data:\n",
    "        fig.add_trace(d)\n",
    "\n",
    "    # temp_melt_df_not_models = pd.melt(\n",
    "    #     df[df.columns.difference(MODELS)],\n",
    "    #     id_vars=[\"percentage\"],\n",
    "    #     value_vars=anot_cols,\n",
    "    # )\n",
    "    print(MODELS)\n",
    "    print(df_total_melt[\"model\"])\n",
    "    print(df_total_melt[df_total_melt[\"metric\"] == metric][\n",
    "            df_total_melt[\"split\"] == split\n",
    "        ][~df_total_melt[\"model\"].isin(MODELS)])\n",
    "    fig_line = px.line(\n",
    "        df_total_melt[df_total_melt[\"metric\"] == metric][\n",
    "            df_total_melt[\"split\"] == split\n",
    "        ][~df_total_melt[\"model\"].isin(MODELS)],\n",
    "        x=\"percentage\",\n",
    "        y=\"eval_metric_value\",\n",
    "        color=\"model\",\n",
    "        color_discrete_sequence=px.colors.qualitative.Plotly[len(MODELS):],\n",
    "        width=width,\n",
    "    )\n",
    "    fig_line.update_traces(opacity=0.25)\n",
    "    for d in fig_line.data:\n",
    "        fig.add_trace(d)\n",
    "\n",
    "    fig.update_layout(title=f\"{metric} {split}\", yaxis_range=[0.7, 1])\n",
    "    fig.show()"
   ]
  },
  {
   "attachments": {},
   "cell_type": "markdown",
   "metadata": {},
   "source": [
    "#### Plots"
   ]
  },
  {
   "cell_type": "code",
   "execution_count": 62,
   "metadata": {},
   "outputs": [
    {
     "name": "stdout",
     "output_type": "stream",
     "text": [
      "('deberta-small', 'deberta-base', 'deberta-large', 'reward-deberta-base', 'reward-deberta-large')\n",
      "0             deberta-small\n",
      "1             deberta-small\n",
      "2             deberta-small\n",
      "3             deberta-small\n",
      "4             deberta-small\n",
      "               ...         \n",
      "105    reward-deberta-large\n",
      "106    reward-deberta-large\n",
      "107    reward-deberta-large\n",
      "108    reward-deberta-large\n",
      "109    reward-deberta-large\n",
      "Name: model, Length: 110, dtype: object\n",
      "Empty DataFrame\n",
      "Columns: [percentage, split, metric, model, eval_metric_value]\n",
      "Index: []\n"
     ]
    },
    {
     "name": "stderr",
     "output_type": "stream",
     "text": [
      "/tmp/ipykernel_2156037/2459406824.py:16: UserWarning:\n",
      "\n",
      "Boolean Series key will be reindexed to match DataFrame index.\n",
      "\n",
      "/tmp/ipykernel_2156037/2459406824.py:35: UserWarning:\n",
      "\n",
      "Boolean Series key will be reindexed to match DataFrame index.\n",
      "\n",
      "/tmp/ipykernel_2156037/2459406824.py:39: UserWarning:\n",
      "\n",
      "Boolean Series key will be reindexed to match DataFrame index.\n",
      "\n"
     ]
    },
    {
     "data": {
      "application/vnd.plotly.v1+json": {
       "config": {
        "plotlyServerURL": "https://plot.ly"
       },
       "data": [
        {
         "hovertemplate": "model=deberta-small<br>percentage=%{x}<br>eval_metric_value=%{y}<extra></extra>",
         "legendgroup": "deberta-small",
         "marker": {
          "color": "#636efa",
          "symbol": "circle"
         },
         "mode": "markers",
         "name": "deberta-small",
         "orientation": "v",
         "showlegend": true,
         "type": "scatter",
         "x": [
          0,
          10,
          20,
          30,
          40,
          50,
          60,
          70,
          80,
          90,
          100
         ],
         "xaxis": "x",
         "y": [
          0.8319444444444444,
          0.8731481481481482,
          0.8731481481481481,
          0.8856481481481482,
          0.851388888888889,
          0.8819444444444444,
          0.8842592592592593,
          0.8851851851851852,
          0.8953703703703704,
          0.874074074074074,
          0.8763888888888889
         ],
         "yaxis": "y"
        },
        {
         "hovertemplate": "model=deberta-base<br>percentage=%{x}<br>eval_metric_value=%{y}<extra></extra>",
         "legendgroup": "deberta-base",
         "marker": {
          "color": "#EF553B",
          "symbol": "diamond"
         },
         "mode": "markers",
         "name": "deberta-base",
         "orientation": "v",
         "showlegend": true,
         "type": "scatter",
         "x": [
          0,
          10,
          20,
          30,
          40,
          50,
          60,
          70,
          80,
          90,
          100
         ],
         "xaxis": "x",
         "y": [
          0.8175925925925926,
          0,
          0,
          0,
          0,
          0,
          0,
          0,
          0,
          0,
          0.9023148148148148
         ],
         "yaxis": "y"
        },
        {
         "hovertemplate": "model=deberta-large<br>percentage=%{x}<br>eval_metric_value=%{y}<extra></extra>",
         "legendgroup": "deberta-large",
         "marker": {
          "color": "#00cc96",
          "symbol": "square"
         },
         "mode": "markers",
         "name": "deberta-large",
         "orientation": "v",
         "showlegend": true,
         "type": "scatter",
         "x": [
          0,
          10,
          20,
          30,
          40,
          50,
          60,
          70,
          80,
          90,
          100
         ],
         "xaxis": "x",
         "y": [
          0.8041666666666667,
          0,
          0,
          0,
          0,
          0,
          0,
          0,
          0,
          0,
          0.8129629629629629
         ],
         "yaxis": "y"
        },
        {
         "hovertemplate": "model=reward-deberta-base<br>percentage=%{x}<br>eval_metric_value=%{y}<extra></extra>",
         "legendgroup": "reward-deberta-base",
         "marker": {
          "color": "#ab63fa",
          "symbol": "x"
         },
         "mode": "markers",
         "name": "reward-deberta-base",
         "orientation": "v",
         "showlegend": true,
         "type": "scatter",
         "x": [
          0,
          10,
          20,
          30,
          40,
          50,
          60,
          70,
          80,
          90,
          100
         ],
         "xaxis": "x",
         "y": [
          0.8351851851851851,
          0,
          0,
          0,
          0,
          0,
          0,
          0,
          0,
          0,
          0.8773148148148149
         ],
         "yaxis": "y"
        },
        {
         "hovertemplate": "model=reward-deberta-large<br>percentage=%{x}<br>eval_metric_value=%{y}<extra></extra>",
         "legendgroup": "reward-deberta-large",
         "marker": {
          "color": "#FFA15A",
          "symbol": "cross"
         },
         "mode": "markers",
         "name": "reward-deberta-large",
         "orientation": "v",
         "showlegend": true,
         "type": "scatter",
         "x": [
          0,
          10,
          20,
          30,
          40,
          50,
          60,
          70,
          80,
          90,
          100
         ],
         "xaxis": "x",
         "y": [
          0.8064814814814815,
          0,
          0,
          0,
          0,
          0,
          0,
          0,
          0,
          0,
          0.811574074074074
         ],
         "yaxis": "y"
        }
       ],
       "layout": {
        "template": {
         "data": {
          "bar": [
           {
            "error_x": {
             "color": "#2a3f5f"
            },
            "error_y": {
             "color": "#2a3f5f"
            },
            "marker": {
             "line": {
              "color": "white",
              "width": 0.5
             },
             "pattern": {
              "fillmode": "overlay",
              "size": 10,
              "solidity": 0.2
             }
            },
            "type": "bar"
           }
          ],
          "barpolar": [
           {
            "marker": {
             "line": {
              "color": "white",
              "width": 0.5
             },
             "pattern": {
              "fillmode": "overlay",
              "size": 10,
              "solidity": 0.2
             }
            },
            "type": "barpolar"
           }
          ],
          "carpet": [
           {
            "aaxis": {
             "endlinecolor": "#2a3f5f",
             "gridcolor": "#C8D4E3",
             "linecolor": "#C8D4E3",
             "minorgridcolor": "#C8D4E3",
             "startlinecolor": "#2a3f5f"
            },
            "baxis": {
             "endlinecolor": "#2a3f5f",
             "gridcolor": "#C8D4E3",
             "linecolor": "#C8D4E3",
             "minorgridcolor": "#C8D4E3",
             "startlinecolor": "#2a3f5f"
            },
            "type": "carpet"
           }
          ],
          "choropleth": [
           {
            "colorbar": {
             "outlinewidth": 0,
             "ticks": ""
            },
            "type": "choropleth"
           }
          ],
          "contour": [
           {
            "colorbar": {
             "outlinewidth": 0,
             "ticks": ""
            },
            "colorscale": [
             [
              0,
              "#0d0887"
             ],
             [
              0.1111111111111111,
              "#46039f"
             ],
             [
              0.2222222222222222,
              "#7201a8"
             ],
             [
              0.3333333333333333,
              "#9c179e"
             ],
             [
              0.4444444444444444,
              "#bd3786"
             ],
             [
              0.5555555555555556,
              "#d8576b"
             ],
             [
              0.6666666666666666,
              "#ed7953"
             ],
             [
              0.7777777777777778,
              "#fb9f3a"
             ],
             [
              0.8888888888888888,
              "#fdca26"
             ],
             [
              1,
              "#f0f921"
             ]
            ],
            "type": "contour"
           }
          ],
          "contourcarpet": [
           {
            "colorbar": {
             "outlinewidth": 0,
             "ticks": ""
            },
            "type": "contourcarpet"
           }
          ],
          "heatmap": [
           {
            "colorbar": {
             "outlinewidth": 0,
             "ticks": ""
            },
            "colorscale": [
             [
              0,
              "#0d0887"
             ],
             [
              0.1111111111111111,
              "#46039f"
             ],
             [
              0.2222222222222222,
              "#7201a8"
             ],
             [
              0.3333333333333333,
              "#9c179e"
             ],
             [
              0.4444444444444444,
              "#bd3786"
             ],
             [
              0.5555555555555556,
              "#d8576b"
             ],
             [
              0.6666666666666666,
              "#ed7953"
             ],
             [
              0.7777777777777778,
              "#fb9f3a"
             ],
             [
              0.8888888888888888,
              "#fdca26"
             ],
             [
              1,
              "#f0f921"
             ]
            ],
            "type": "heatmap"
           }
          ],
          "heatmapgl": [
           {
            "colorbar": {
             "outlinewidth": 0,
             "ticks": ""
            },
            "colorscale": [
             [
              0,
              "#0d0887"
             ],
             [
              0.1111111111111111,
              "#46039f"
             ],
             [
              0.2222222222222222,
              "#7201a8"
             ],
             [
              0.3333333333333333,
              "#9c179e"
             ],
             [
              0.4444444444444444,
              "#bd3786"
             ],
             [
              0.5555555555555556,
              "#d8576b"
             ],
             [
              0.6666666666666666,
              "#ed7953"
             ],
             [
              0.7777777777777778,
              "#fb9f3a"
             ],
             [
              0.8888888888888888,
              "#fdca26"
             ],
             [
              1,
              "#f0f921"
             ]
            ],
            "type": "heatmapgl"
           }
          ],
          "histogram": [
           {
            "marker": {
             "pattern": {
              "fillmode": "overlay",
              "size": 10,
              "solidity": 0.2
             }
            },
            "type": "histogram"
           }
          ],
          "histogram2d": [
           {
            "colorbar": {
             "outlinewidth": 0,
             "ticks": ""
            },
            "colorscale": [
             [
              0,
              "#0d0887"
             ],
             [
              0.1111111111111111,
              "#46039f"
             ],
             [
              0.2222222222222222,
              "#7201a8"
             ],
             [
              0.3333333333333333,
              "#9c179e"
             ],
             [
              0.4444444444444444,
              "#bd3786"
             ],
             [
              0.5555555555555556,
              "#d8576b"
             ],
             [
              0.6666666666666666,
              "#ed7953"
             ],
             [
              0.7777777777777778,
              "#fb9f3a"
             ],
             [
              0.8888888888888888,
              "#fdca26"
             ],
             [
              1,
              "#f0f921"
             ]
            ],
            "type": "histogram2d"
           }
          ],
          "histogram2dcontour": [
           {
            "colorbar": {
             "outlinewidth": 0,
             "ticks": ""
            },
            "colorscale": [
             [
              0,
              "#0d0887"
             ],
             [
              0.1111111111111111,
              "#46039f"
             ],
             [
              0.2222222222222222,
              "#7201a8"
             ],
             [
              0.3333333333333333,
              "#9c179e"
             ],
             [
              0.4444444444444444,
              "#bd3786"
             ],
             [
              0.5555555555555556,
              "#d8576b"
             ],
             [
              0.6666666666666666,
              "#ed7953"
             ],
             [
              0.7777777777777778,
              "#fb9f3a"
             ],
             [
              0.8888888888888888,
              "#fdca26"
             ],
             [
              1,
              "#f0f921"
             ]
            ],
            "type": "histogram2dcontour"
           }
          ],
          "mesh3d": [
           {
            "colorbar": {
             "outlinewidth": 0,
             "ticks": ""
            },
            "type": "mesh3d"
           }
          ],
          "parcoords": [
           {
            "line": {
             "colorbar": {
              "outlinewidth": 0,
              "ticks": ""
             }
            },
            "type": "parcoords"
           }
          ],
          "pie": [
           {
            "automargin": true,
            "type": "pie"
           }
          ],
          "scatter": [
           {
            "fillpattern": {
             "fillmode": "overlay",
             "size": 10,
             "solidity": 0.2
            },
            "type": "scatter"
           }
          ],
          "scatter3d": [
           {
            "line": {
             "colorbar": {
              "outlinewidth": 0,
              "ticks": ""
             }
            },
            "marker": {
             "colorbar": {
              "outlinewidth": 0,
              "ticks": ""
             }
            },
            "type": "scatter3d"
           }
          ],
          "scattercarpet": [
           {
            "marker": {
             "colorbar": {
              "outlinewidth": 0,
              "ticks": ""
             }
            },
            "type": "scattercarpet"
           }
          ],
          "scattergeo": [
           {
            "marker": {
             "colorbar": {
              "outlinewidth": 0,
              "ticks": ""
             }
            },
            "type": "scattergeo"
           }
          ],
          "scattergl": [
           {
            "marker": {
             "colorbar": {
              "outlinewidth": 0,
              "ticks": ""
             }
            },
            "type": "scattergl"
           }
          ],
          "scattermapbox": [
           {
            "marker": {
             "colorbar": {
              "outlinewidth": 0,
              "ticks": ""
             }
            },
            "type": "scattermapbox"
           }
          ],
          "scatterpolar": [
           {
            "marker": {
             "colorbar": {
              "outlinewidth": 0,
              "ticks": ""
             }
            },
            "type": "scatterpolar"
           }
          ],
          "scatterpolargl": [
           {
            "marker": {
             "colorbar": {
              "outlinewidth": 0,
              "ticks": ""
             }
            },
            "type": "scatterpolargl"
           }
          ],
          "scatterternary": [
           {
            "marker": {
             "colorbar": {
              "outlinewidth": 0,
              "ticks": ""
             }
            },
            "type": "scatterternary"
           }
          ],
          "surface": [
           {
            "colorbar": {
             "outlinewidth": 0,
             "ticks": ""
            },
            "colorscale": [
             [
              0,
              "#0d0887"
             ],
             [
              0.1111111111111111,
              "#46039f"
             ],
             [
              0.2222222222222222,
              "#7201a8"
             ],
             [
              0.3333333333333333,
              "#9c179e"
             ],
             [
              0.4444444444444444,
              "#bd3786"
             ],
             [
              0.5555555555555556,
              "#d8576b"
             ],
             [
              0.6666666666666666,
              "#ed7953"
             ],
             [
              0.7777777777777778,
              "#fb9f3a"
             ],
             [
              0.8888888888888888,
              "#fdca26"
             ],
             [
              1,
              "#f0f921"
             ]
            ],
            "type": "surface"
           }
          ],
          "table": [
           {
            "cells": {
             "fill": {
              "color": "#EBF0F8"
             },
             "line": {
              "color": "white"
             }
            },
            "header": {
             "fill": {
              "color": "#C8D4E3"
             },
             "line": {
              "color": "white"
             }
            },
            "type": "table"
           }
          ]
         },
         "layout": {
          "annotationdefaults": {
           "arrowcolor": "#2a3f5f",
           "arrowhead": 0,
           "arrowwidth": 1
          },
          "autotypenumbers": "strict",
          "coloraxis": {
           "colorbar": {
            "outlinewidth": 0,
            "ticks": ""
           }
          },
          "colorscale": {
           "diverging": [
            [
             0,
             "#8e0152"
            ],
            [
             0.1,
             "#c51b7d"
            ],
            [
             0.2,
             "#de77ae"
            ],
            [
             0.3,
             "#f1b6da"
            ],
            [
             0.4,
             "#fde0ef"
            ],
            [
             0.5,
             "#f7f7f7"
            ],
            [
             0.6,
             "#e6f5d0"
            ],
            [
             0.7,
             "#b8e186"
            ],
            [
             0.8,
             "#7fbc41"
            ],
            [
             0.9,
             "#4d9221"
            ],
            [
             1,
             "#276419"
            ]
           ],
           "sequential": [
            [
             0,
             "#0d0887"
            ],
            [
             0.1111111111111111,
             "#46039f"
            ],
            [
             0.2222222222222222,
             "#7201a8"
            ],
            [
             0.3333333333333333,
             "#9c179e"
            ],
            [
             0.4444444444444444,
             "#bd3786"
            ],
            [
             0.5555555555555556,
             "#d8576b"
            ],
            [
             0.6666666666666666,
             "#ed7953"
            ],
            [
             0.7777777777777778,
             "#fb9f3a"
            ],
            [
             0.8888888888888888,
             "#fdca26"
            ],
            [
             1,
             "#f0f921"
            ]
           ],
           "sequentialminus": [
            [
             0,
             "#0d0887"
            ],
            [
             0.1111111111111111,
             "#46039f"
            ],
            [
             0.2222222222222222,
             "#7201a8"
            ],
            [
             0.3333333333333333,
             "#9c179e"
            ],
            [
             0.4444444444444444,
             "#bd3786"
            ],
            [
             0.5555555555555556,
             "#d8576b"
            ],
            [
             0.6666666666666666,
             "#ed7953"
            ],
            [
             0.7777777777777778,
             "#fb9f3a"
            ],
            [
             0.8888888888888888,
             "#fdca26"
            ],
            [
             1,
             "#f0f921"
            ]
           ]
          },
          "colorway": [
           "#636efa",
           "#EF553B",
           "#00cc96",
           "#ab63fa",
           "#FFA15A",
           "#19d3f3",
           "#FF6692",
           "#B6E880",
           "#FF97FF",
           "#FECB52"
          ],
          "font": {
           "color": "#2a3f5f"
          },
          "geo": {
           "bgcolor": "white",
           "lakecolor": "white",
           "landcolor": "white",
           "showlakes": true,
           "showland": true,
           "subunitcolor": "#C8D4E3"
          },
          "hoverlabel": {
           "align": "left"
          },
          "hovermode": "closest",
          "mapbox": {
           "style": "light"
          },
          "paper_bgcolor": "white",
          "plot_bgcolor": "white",
          "polar": {
           "angularaxis": {
            "gridcolor": "#EBF0F8",
            "linecolor": "#EBF0F8",
            "ticks": ""
           },
           "bgcolor": "white",
           "radialaxis": {
            "gridcolor": "#EBF0F8",
            "linecolor": "#EBF0F8",
            "ticks": ""
           }
          },
          "scene": {
           "xaxis": {
            "backgroundcolor": "white",
            "gridcolor": "#DFE8F3",
            "gridwidth": 2,
            "linecolor": "#EBF0F8",
            "showbackground": true,
            "ticks": "",
            "zerolinecolor": "#EBF0F8"
           },
           "yaxis": {
            "backgroundcolor": "white",
            "gridcolor": "#DFE8F3",
            "gridwidth": 2,
            "linecolor": "#EBF0F8",
            "showbackground": true,
            "ticks": "",
            "zerolinecolor": "#EBF0F8"
           },
           "zaxis": {
            "backgroundcolor": "white",
            "gridcolor": "#DFE8F3",
            "gridwidth": 2,
            "linecolor": "#EBF0F8",
            "showbackground": true,
            "ticks": "",
            "zerolinecolor": "#EBF0F8"
           }
          },
          "shapedefaults": {
           "line": {
            "color": "#2a3f5f"
           }
          },
          "ternary": {
           "aaxis": {
            "gridcolor": "#DFE8F3",
            "linecolor": "#A2B1C6",
            "ticks": ""
           },
           "baxis": {
            "gridcolor": "#DFE8F3",
            "linecolor": "#A2B1C6",
            "ticks": ""
           },
           "bgcolor": "white",
           "caxis": {
            "gridcolor": "#DFE8F3",
            "linecolor": "#A2B1C6",
            "ticks": ""
           }
          },
          "title": {
           "x": 0.05
          },
          "xaxis": {
           "automargin": true,
           "gridcolor": "#EBF0F8",
           "linecolor": "#EBF0F8",
           "ticks": "",
           "title": {
            "standoff": 15
           },
           "zerolinecolor": "#EBF0F8",
           "zerolinewidth": 2
          },
          "yaxis": {
           "automargin": true,
           "gridcolor": "#EBF0F8",
           "linecolor": "#EBF0F8",
           "ticks": "",
           "title": {
            "standoff": 15
           },
           "zerolinecolor": "#EBF0F8",
           "zerolinewidth": 2
          }
         }
        },
        "title": {
         "text": "InformativenessRating train"
        },
        "yaxis": {
         "range": [
          0.7,
          1
         ]
        }
       }
      },
      "text/html": [
       "<div>                            <div id=\"75e53223-46f7-4f69-b986-58c05c739b70\" class=\"plotly-graph-div\" style=\"height:525px; width:100%;\"></div>            <script type=\"text/javascript\">                require([\"plotly\"], function(Plotly) {                    window.PLOTLYENV=window.PLOTLYENV || {};                                    if (document.getElementById(\"75e53223-46f7-4f69-b986-58c05c739b70\")) {                    Plotly.newPlot(                        \"75e53223-46f7-4f69-b986-58c05c739b70\",                        [{\"hovertemplate\":\"model=deberta-small<br>percentage=%{x}<br>eval_metric_value=%{y}<extra></extra>\",\"legendgroup\":\"deberta-small\",\"marker\":{\"color\":\"#636efa\",\"symbol\":\"circle\"},\"mode\":\"markers\",\"name\":\"deberta-small\",\"orientation\":\"v\",\"showlegend\":true,\"x\":[0,10,20,30,40,50,60,70,80,90,100],\"xaxis\":\"x\",\"y\":[0.8319444444444444,0.8731481481481482,0.8731481481481481,0.8856481481481482,0.851388888888889,0.8819444444444444,0.8842592592592593,0.8851851851851852,0.8953703703703704,0.874074074074074,0.8763888888888889],\"yaxis\":\"y\",\"type\":\"scatter\"},{\"hovertemplate\":\"model=deberta-base<br>percentage=%{x}<br>eval_metric_value=%{y}<extra></extra>\",\"legendgroup\":\"deberta-base\",\"marker\":{\"color\":\"#EF553B\",\"symbol\":\"diamond\"},\"mode\":\"markers\",\"name\":\"deberta-base\",\"orientation\":\"v\",\"showlegend\":true,\"x\":[0,10,20,30,40,50,60,70,80,90,100],\"xaxis\":\"x\",\"y\":[0.8175925925925926,0.0,0.0,0.0,0.0,0.0,0.0,0.0,0.0,0.0,0.9023148148148148],\"yaxis\":\"y\",\"type\":\"scatter\"},{\"hovertemplate\":\"model=deberta-large<br>percentage=%{x}<br>eval_metric_value=%{y}<extra></extra>\",\"legendgroup\":\"deberta-large\",\"marker\":{\"color\":\"#00cc96\",\"symbol\":\"square\"},\"mode\":\"markers\",\"name\":\"deberta-large\",\"orientation\":\"v\",\"showlegend\":true,\"x\":[0,10,20,30,40,50,60,70,80,90,100],\"xaxis\":\"x\",\"y\":[0.8041666666666667,0.0,0.0,0.0,0.0,0.0,0.0,0.0,0.0,0.0,0.8129629629629629],\"yaxis\":\"y\",\"type\":\"scatter\"},{\"hovertemplate\":\"model=reward-deberta-base<br>percentage=%{x}<br>eval_metric_value=%{y}<extra></extra>\",\"legendgroup\":\"reward-deberta-base\",\"marker\":{\"color\":\"#ab63fa\",\"symbol\":\"x\"},\"mode\":\"markers\",\"name\":\"reward-deberta-base\",\"orientation\":\"v\",\"showlegend\":true,\"x\":[0,10,20,30,40,50,60,70,80,90,100],\"xaxis\":\"x\",\"y\":[0.8351851851851851,0.0,0.0,0.0,0.0,0.0,0.0,0.0,0.0,0.0,0.8773148148148149],\"yaxis\":\"y\",\"type\":\"scatter\"},{\"hovertemplate\":\"model=reward-deberta-large<br>percentage=%{x}<br>eval_metric_value=%{y}<extra></extra>\",\"legendgroup\":\"reward-deberta-large\",\"marker\":{\"color\":\"#FFA15A\",\"symbol\":\"cross\"},\"mode\":\"markers\",\"name\":\"reward-deberta-large\",\"orientation\":\"v\",\"showlegend\":true,\"x\":[0,10,20,30,40,50,60,70,80,90,100],\"xaxis\":\"x\",\"y\":[0.8064814814814815,0.0,0.0,0.0,0.0,0.0,0.0,0.0,0.0,0.0,0.811574074074074],\"yaxis\":\"y\",\"type\":\"scatter\"}],                        {\"template\":{\"data\":{\"histogram2dcontour\":[{\"type\":\"histogram2dcontour\",\"colorbar\":{\"outlinewidth\":0,\"ticks\":\"\"},\"colorscale\":[[0.0,\"#0d0887\"],[0.1111111111111111,\"#46039f\"],[0.2222222222222222,\"#7201a8\"],[0.3333333333333333,\"#9c179e\"],[0.4444444444444444,\"#bd3786\"],[0.5555555555555556,\"#d8576b\"],[0.6666666666666666,\"#ed7953\"],[0.7777777777777778,\"#fb9f3a\"],[0.8888888888888888,\"#fdca26\"],[1.0,\"#f0f921\"]]}],\"choropleth\":[{\"type\":\"choropleth\",\"colorbar\":{\"outlinewidth\":0,\"ticks\":\"\"}}],\"histogram2d\":[{\"type\":\"histogram2d\",\"colorbar\":{\"outlinewidth\":0,\"ticks\":\"\"},\"colorscale\":[[0.0,\"#0d0887\"],[0.1111111111111111,\"#46039f\"],[0.2222222222222222,\"#7201a8\"],[0.3333333333333333,\"#9c179e\"],[0.4444444444444444,\"#bd3786\"],[0.5555555555555556,\"#d8576b\"],[0.6666666666666666,\"#ed7953\"],[0.7777777777777778,\"#fb9f3a\"],[0.8888888888888888,\"#fdca26\"],[1.0,\"#f0f921\"]]}],\"heatmap\":[{\"type\":\"heatmap\",\"colorbar\":{\"outlinewidth\":0,\"ticks\":\"\"},\"colorscale\":[[0.0,\"#0d0887\"],[0.1111111111111111,\"#46039f\"],[0.2222222222222222,\"#7201a8\"],[0.3333333333333333,\"#9c179e\"],[0.4444444444444444,\"#bd3786\"],[0.5555555555555556,\"#d8576b\"],[0.6666666666666666,\"#ed7953\"],[0.7777777777777778,\"#fb9f3a\"],[0.8888888888888888,\"#fdca26\"],[1.0,\"#f0f921\"]]}],\"heatmapgl\":[{\"type\":\"heatmapgl\",\"colorbar\":{\"outlinewidth\":0,\"ticks\":\"\"},\"colorscale\":[[0.0,\"#0d0887\"],[0.1111111111111111,\"#46039f\"],[0.2222222222222222,\"#7201a8\"],[0.3333333333333333,\"#9c179e\"],[0.4444444444444444,\"#bd3786\"],[0.5555555555555556,\"#d8576b\"],[0.6666666666666666,\"#ed7953\"],[0.7777777777777778,\"#fb9f3a\"],[0.8888888888888888,\"#fdca26\"],[1.0,\"#f0f921\"]]}],\"contourcarpet\":[{\"type\":\"contourcarpet\",\"colorbar\":{\"outlinewidth\":0,\"ticks\":\"\"}}],\"contour\":[{\"type\":\"contour\",\"colorbar\":{\"outlinewidth\":0,\"ticks\":\"\"},\"colorscale\":[[0.0,\"#0d0887\"],[0.1111111111111111,\"#46039f\"],[0.2222222222222222,\"#7201a8\"],[0.3333333333333333,\"#9c179e\"],[0.4444444444444444,\"#bd3786\"],[0.5555555555555556,\"#d8576b\"],[0.6666666666666666,\"#ed7953\"],[0.7777777777777778,\"#fb9f3a\"],[0.8888888888888888,\"#fdca26\"],[1.0,\"#f0f921\"]]}],\"surface\":[{\"type\":\"surface\",\"colorbar\":{\"outlinewidth\":0,\"ticks\":\"\"},\"colorscale\":[[0.0,\"#0d0887\"],[0.1111111111111111,\"#46039f\"],[0.2222222222222222,\"#7201a8\"],[0.3333333333333333,\"#9c179e\"],[0.4444444444444444,\"#bd3786\"],[0.5555555555555556,\"#d8576b\"],[0.6666666666666666,\"#ed7953\"],[0.7777777777777778,\"#fb9f3a\"],[0.8888888888888888,\"#fdca26\"],[1.0,\"#f0f921\"]]}],\"mesh3d\":[{\"type\":\"mesh3d\",\"colorbar\":{\"outlinewidth\":0,\"ticks\":\"\"}}],\"scatter\":[{\"fillpattern\":{\"fillmode\":\"overlay\",\"size\":10,\"solidity\":0.2},\"type\":\"scatter\"}],\"parcoords\":[{\"type\":\"parcoords\",\"line\":{\"colorbar\":{\"outlinewidth\":0,\"ticks\":\"\"}}}],\"scatterpolargl\":[{\"type\":\"scatterpolargl\",\"marker\":{\"colorbar\":{\"outlinewidth\":0,\"ticks\":\"\"}}}],\"bar\":[{\"error_x\":{\"color\":\"#2a3f5f\"},\"error_y\":{\"color\":\"#2a3f5f\"},\"marker\":{\"line\":{\"color\":\"white\",\"width\":0.5},\"pattern\":{\"fillmode\":\"overlay\",\"size\":10,\"solidity\":0.2}},\"type\":\"bar\"}],\"scattergeo\":[{\"type\":\"scattergeo\",\"marker\":{\"colorbar\":{\"outlinewidth\":0,\"ticks\":\"\"}}}],\"scatterpolar\":[{\"type\":\"scatterpolar\",\"marker\":{\"colorbar\":{\"outlinewidth\":0,\"ticks\":\"\"}}}],\"histogram\":[{\"marker\":{\"pattern\":{\"fillmode\":\"overlay\",\"size\":10,\"solidity\":0.2}},\"type\":\"histogram\"}],\"scattergl\":[{\"type\":\"scattergl\",\"marker\":{\"colorbar\":{\"outlinewidth\":0,\"ticks\":\"\"}}}],\"scatter3d\":[{\"type\":\"scatter3d\",\"line\":{\"colorbar\":{\"outlinewidth\":0,\"ticks\":\"\"}},\"marker\":{\"colorbar\":{\"outlinewidth\":0,\"ticks\":\"\"}}}],\"scattermapbox\":[{\"type\":\"scattermapbox\",\"marker\":{\"colorbar\":{\"outlinewidth\":0,\"ticks\":\"\"}}}],\"scatterternary\":[{\"type\":\"scatterternary\",\"marker\":{\"colorbar\":{\"outlinewidth\":0,\"ticks\":\"\"}}}],\"scattercarpet\":[{\"type\":\"scattercarpet\",\"marker\":{\"colorbar\":{\"outlinewidth\":0,\"ticks\":\"\"}}}],\"carpet\":[{\"aaxis\":{\"endlinecolor\":\"#2a3f5f\",\"gridcolor\":\"#C8D4E3\",\"linecolor\":\"#C8D4E3\",\"minorgridcolor\":\"#C8D4E3\",\"startlinecolor\":\"#2a3f5f\"},\"baxis\":{\"endlinecolor\":\"#2a3f5f\",\"gridcolor\":\"#C8D4E3\",\"linecolor\":\"#C8D4E3\",\"minorgridcolor\":\"#C8D4E3\",\"startlinecolor\":\"#2a3f5f\"},\"type\":\"carpet\"}],\"table\":[{\"cells\":{\"fill\":{\"color\":\"#EBF0F8\"},\"line\":{\"color\":\"white\"}},\"header\":{\"fill\":{\"color\":\"#C8D4E3\"},\"line\":{\"color\":\"white\"}},\"type\":\"table\"}],\"barpolar\":[{\"marker\":{\"line\":{\"color\":\"white\",\"width\":0.5},\"pattern\":{\"fillmode\":\"overlay\",\"size\":10,\"solidity\":0.2}},\"type\":\"barpolar\"}],\"pie\":[{\"automargin\":true,\"type\":\"pie\"}]},\"layout\":{\"autotypenumbers\":\"strict\",\"colorway\":[\"#636efa\",\"#EF553B\",\"#00cc96\",\"#ab63fa\",\"#FFA15A\",\"#19d3f3\",\"#FF6692\",\"#B6E880\",\"#FF97FF\",\"#FECB52\"],\"font\":{\"color\":\"#2a3f5f\"},\"hovermode\":\"closest\",\"hoverlabel\":{\"align\":\"left\"},\"paper_bgcolor\":\"white\",\"plot_bgcolor\":\"white\",\"polar\":{\"bgcolor\":\"white\",\"angularaxis\":{\"gridcolor\":\"#EBF0F8\",\"linecolor\":\"#EBF0F8\",\"ticks\":\"\"},\"radialaxis\":{\"gridcolor\":\"#EBF0F8\",\"linecolor\":\"#EBF0F8\",\"ticks\":\"\"}},\"ternary\":{\"bgcolor\":\"white\",\"aaxis\":{\"gridcolor\":\"#DFE8F3\",\"linecolor\":\"#A2B1C6\",\"ticks\":\"\"},\"baxis\":{\"gridcolor\":\"#DFE8F3\",\"linecolor\":\"#A2B1C6\",\"ticks\":\"\"},\"caxis\":{\"gridcolor\":\"#DFE8F3\",\"linecolor\":\"#A2B1C6\",\"ticks\":\"\"}},\"coloraxis\":{\"colorbar\":{\"outlinewidth\":0,\"ticks\":\"\"}},\"colorscale\":{\"sequential\":[[0.0,\"#0d0887\"],[0.1111111111111111,\"#46039f\"],[0.2222222222222222,\"#7201a8\"],[0.3333333333333333,\"#9c179e\"],[0.4444444444444444,\"#bd3786\"],[0.5555555555555556,\"#d8576b\"],[0.6666666666666666,\"#ed7953\"],[0.7777777777777778,\"#fb9f3a\"],[0.8888888888888888,\"#fdca26\"],[1.0,\"#f0f921\"]],\"sequentialminus\":[[0.0,\"#0d0887\"],[0.1111111111111111,\"#46039f\"],[0.2222222222222222,\"#7201a8\"],[0.3333333333333333,\"#9c179e\"],[0.4444444444444444,\"#bd3786\"],[0.5555555555555556,\"#d8576b\"],[0.6666666666666666,\"#ed7953\"],[0.7777777777777778,\"#fb9f3a\"],[0.8888888888888888,\"#fdca26\"],[1.0,\"#f0f921\"]],\"diverging\":[[0,\"#8e0152\"],[0.1,\"#c51b7d\"],[0.2,\"#de77ae\"],[0.3,\"#f1b6da\"],[0.4,\"#fde0ef\"],[0.5,\"#f7f7f7\"],[0.6,\"#e6f5d0\"],[0.7,\"#b8e186\"],[0.8,\"#7fbc41\"],[0.9,\"#4d9221\"],[1,\"#276419\"]]},\"xaxis\":{\"gridcolor\":\"#EBF0F8\",\"linecolor\":\"#EBF0F8\",\"ticks\":\"\",\"title\":{\"standoff\":15},\"zerolinecolor\":\"#EBF0F8\",\"automargin\":true,\"zerolinewidth\":2},\"yaxis\":{\"gridcolor\":\"#EBF0F8\",\"linecolor\":\"#EBF0F8\",\"ticks\":\"\",\"title\":{\"standoff\":15},\"zerolinecolor\":\"#EBF0F8\",\"automargin\":true,\"zerolinewidth\":2},\"scene\":{\"xaxis\":{\"backgroundcolor\":\"white\",\"gridcolor\":\"#DFE8F3\",\"linecolor\":\"#EBF0F8\",\"showbackground\":true,\"ticks\":\"\",\"zerolinecolor\":\"#EBF0F8\",\"gridwidth\":2},\"yaxis\":{\"backgroundcolor\":\"white\",\"gridcolor\":\"#DFE8F3\",\"linecolor\":\"#EBF0F8\",\"showbackground\":true,\"ticks\":\"\",\"zerolinecolor\":\"#EBF0F8\",\"gridwidth\":2},\"zaxis\":{\"backgroundcolor\":\"white\",\"gridcolor\":\"#DFE8F3\",\"linecolor\":\"#EBF0F8\",\"showbackground\":true,\"ticks\":\"\",\"zerolinecolor\":\"#EBF0F8\",\"gridwidth\":2}},\"shapedefaults\":{\"line\":{\"color\":\"#2a3f5f\"}},\"annotationdefaults\":{\"arrowcolor\":\"#2a3f5f\",\"arrowhead\":0,\"arrowwidth\":1},\"geo\":{\"bgcolor\":\"white\",\"landcolor\":\"white\",\"subunitcolor\":\"#C8D4E3\",\"showland\":true,\"showlakes\":true,\"lakecolor\":\"white\"},\"title\":{\"x\":0.05},\"mapbox\":{\"style\":\"light\"}}},\"yaxis\":{\"range\":[0.7,1]},\"title\":{\"text\":\"InformativenessRating train\"}},                        {\"responsive\": true}                    ).then(function(){\n",
       "                            \n",
       "var gd = document.getElementById('75e53223-46f7-4f69-b986-58c05c739b70');\n",
       "var x = new MutationObserver(function (mutations, observer) {{\n",
       "        var display = window.getComputedStyle(gd).display;\n",
       "        if (!display || display === 'none') {{\n",
       "            console.log([gd, 'removed!']);\n",
       "            Plotly.purge(gd);\n",
       "            observer.disconnect();\n",
       "        }}\n",
       "}});\n",
       "\n",
       "// Listen for the removal of the full notebook cells\n",
       "var notebookContainer = gd.closest('#notebook-container');\n",
       "if (notebookContainer) {{\n",
       "    x.observe(notebookContainer, {childList: true});\n",
       "}}\n",
       "\n",
       "// Listen for the clearing of the current output cell\n",
       "var outputEl = gd.closest('.output');\n",
       "if (outputEl) {{\n",
       "    x.observe(outputEl, {childList: true});\n",
       "}}\n",
       "\n",
       "                        })                };                });            </script>        </div>"
      ]
     },
     "metadata": {},
     "output_type": "display_data"
    },
    {
     "name": "stdout",
     "output_type": "stream",
     "text": [
      "('deberta-small', 'deberta-base', 'deberta-large', 'reward-deberta-base', 'reward-deberta-large')\n",
      "0             deberta-small\n",
      "1             deberta-small\n",
      "2             deberta-small\n",
      "3             deberta-small\n",
      "4             deberta-small\n",
      "               ...         \n",
      "105    reward-deberta-large\n",
      "106    reward-deberta-large\n",
      "107    reward-deberta-large\n",
      "108    reward-deberta-large\n",
      "109    reward-deberta-large\n",
      "Name: model, Length: 110, dtype: object\n",
      "Empty DataFrame\n",
      "Columns: [percentage, split, metric, model, eval_metric_value]\n",
      "Index: []\n"
     ]
    },
    {
     "name": "stderr",
     "output_type": "stream",
     "text": [
      "/tmp/ipykernel_2156037/2459406824.py:16: UserWarning:\n",
      "\n",
      "Boolean Series key will be reindexed to match DataFrame index.\n",
      "\n",
      "/tmp/ipykernel_2156037/2459406824.py:35: UserWarning:\n",
      "\n",
      "Boolean Series key will be reindexed to match DataFrame index.\n",
      "\n",
      "/tmp/ipykernel_2156037/2459406824.py:39: UserWarning:\n",
      "\n",
      "Boolean Series key will be reindexed to match DataFrame index.\n",
      "\n"
     ]
    },
    {
     "data": {
      "application/vnd.plotly.v1+json": {
       "config": {
        "plotlyServerURL": "https://plot.ly"
       },
       "data": [
        {
         "hovertemplate": "model=deberta-small<br>percentage=%{x}<br>eval_metric_value=%{y}<extra></extra>",
         "legendgroup": "deberta-small",
         "marker": {
          "color": "#636efa",
          "symbol": "circle"
         },
         "mode": "markers",
         "name": "deberta-small",
         "orientation": "v",
         "showlegend": true,
         "type": "scatter",
         "x": [
          0,
          10,
          20,
          30,
          40,
          50,
          60,
          70,
          80,
          90,
          100
         ],
         "xaxis": "x",
         "y": [
          0.837037037037037,
          0.8625,
          0.8708333333333333,
          0.8606481481481482,
          0.8587962962962963,
          0.8564814814814815,
          0.8587962962962963,
          0.8555555555555556,
          0.8666666666666667,
          0.8648148148148148,
          0.8569444444444445
         ],
         "yaxis": "y"
        },
        {
         "hovertemplate": "model=deberta-base<br>percentage=%{x}<br>eval_metric_value=%{y}<extra></extra>",
         "legendgroup": "deberta-base",
         "marker": {
          "color": "#EF553B",
          "symbol": "diamond"
         },
         "mode": "markers",
         "name": "deberta-base",
         "orientation": "v",
         "showlegend": true,
         "type": "scatter",
         "x": [
          0,
          10,
          20,
          30,
          40,
          50,
          60,
          70,
          80,
          90,
          100
         ],
         "xaxis": "x",
         "y": [
          0.749074074074074,
          0,
          0,
          0,
          0,
          0,
          0,
          0,
          0,
          0,
          0.8777777777777778
         ],
         "yaxis": "y"
        },
        {
         "hovertemplate": "model=deberta-large<br>percentage=%{x}<br>eval_metric_value=%{y}<extra></extra>",
         "legendgroup": "deberta-large",
         "marker": {
          "color": "#00cc96",
          "symbol": "square"
         },
         "mode": "markers",
         "name": "deberta-large",
         "orientation": "v",
         "showlegend": true,
         "type": "scatter",
         "x": [
          0,
          10,
          20,
          30,
          40,
          50,
          60,
          70,
          80,
          90,
          100
         ],
         "xaxis": "x",
         "y": [
          0.7898148148148147,
          0,
          0,
          0,
          0,
          0,
          0,
          0,
          0,
          0,
          0.8208333333333333
         ],
         "yaxis": "y"
        },
        {
         "hovertemplate": "model=reward-deberta-base<br>percentage=%{x}<br>eval_metric_value=%{y}<extra></extra>",
         "legendgroup": "reward-deberta-base",
         "marker": {
          "color": "#ab63fa",
          "symbol": "x"
         },
         "mode": "markers",
         "name": "reward-deberta-base",
         "orientation": "v",
         "showlegend": true,
         "type": "scatter",
         "x": [
          0,
          10,
          20,
          30,
          40,
          50,
          60,
          70,
          80,
          90,
          100
         ],
         "xaxis": "x",
         "y": [
          0.825925925925926,
          0,
          0,
          0,
          0,
          0,
          0,
          0,
          0,
          0,
          0.8759259259259259
         ],
         "yaxis": "y"
        },
        {
         "hovertemplate": "model=reward-deberta-large<br>percentage=%{x}<br>eval_metric_value=%{y}<extra></extra>",
         "legendgroup": "reward-deberta-large",
         "marker": {
          "color": "#FFA15A",
          "symbol": "cross"
         },
         "mode": "markers",
         "name": "reward-deberta-large",
         "orientation": "v",
         "showlegend": true,
         "type": "scatter",
         "x": [
          0,
          10,
          20,
          30,
          40,
          50,
          60,
          70,
          80,
          90,
          100
         ],
         "xaxis": "x",
         "y": [
          0.7907407407407407,
          0,
          0,
          0,
          0,
          0,
          0,
          0,
          0,
          0,
          0.8166666666666667
         ],
         "yaxis": "y"
        }
       ],
       "layout": {
        "template": {
         "data": {
          "bar": [
           {
            "error_x": {
             "color": "#2a3f5f"
            },
            "error_y": {
             "color": "#2a3f5f"
            },
            "marker": {
             "line": {
              "color": "white",
              "width": 0.5
             },
             "pattern": {
              "fillmode": "overlay",
              "size": 10,
              "solidity": 0.2
             }
            },
            "type": "bar"
           }
          ],
          "barpolar": [
           {
            "marker": {
             "line": {
              "color": "white",
              "width": 0.5
             },
             "pattern": {
              "fillmode": "overlay",
              "size": 10,
              "solidity": 0.2
             }
            },
            "type": "barpolar"
           }
          ],
          "carpet": [
           {
            "aaxis": {
             "endlinecolor": "#2a3f5f",
             "gridcolor": "#C8D4E3",
             "linecolor": "#C8D4E3",
             "minorgridcolor": "#C8D4E3",
             "startlinecolor": "#2a3f5f"
            },
            "baxis": {
             "endlinecolor": "#2a3f5f",
             "gridcolor": "#C8D4E3",
             "linecolor": "#C8D4E3",
             "minorgridcolor": "#C8D4E3",
             "startlinecolor": "#2a3f5f"
            },
            "type": "carpet"
           }
          ],
          "choropleth": [
           {
            "colorbar": {
             "outlinewidth": 0,
             "ticks": ""
            },
            "type": "choropleth"
           }
          ],
          "contour": [
           {
            "colorbar": {
             "outlinewidth": 0,
             "ticks": ""
            },
            "colorscale": [
             [
              0,
              "#0d0887"
             ],
             [
              0.1111111111111111,
              "#46039f"
             ],
             [
              0.2222222222222222,
              "#7201a8"
             ],
             [
              0.3333333333333333,
              "#9c179e"
             ],
             [
              0.4444444444444444,
              "#bd3786"
             ],
             [
              0.5555555555555556,
              "#d8576b"
             ],
             [
              0.6666666666666666,
              "#ed7953"
             ],
             [
              0.7777777777777778,
              "#fb9f3a"
             ],
             [
              0.8888888888888888,
              "#fdca26"
             ],
             [
              1,
              "#f0f921"
             ]
            ],
            "type": "contour"
           }
          ],
          "contourcarpet": [
           {
            "colorbar": {
             "outlinewidth": 0,
             "ticks": ""
            },
            "type": "contourcarpet"
           }
          ],
          "heatmap": [
           {
            "colorbar": {
             "outlinewidth": 0,
             "ticks": ""
            },
            "colorscale": [
             [
              0,
              "#0d0887"
             ],
             [
              0.1111111111111111,
              "#46039f"
             ],
             [
              0.2222222222222222,
              "#7201a8"
             ],
             [
              0.3333333333333333,
              "#9c179e"
             ],
             [
              0.4444444444444444,
              "#bd3786"
             ],
             [
              0.5555555555555556,
              "#d8576b"
             ],
             [
              0.6666666666666666,
              "#ed7953"
             ],
             [
              0.7777777777777778,
              "#fb9f3a"
             ],
             [
              0.8888888888888888,
              "#fdca26"
             ],
             [
              1,
              "#f0f921"
             ]
            ],
            "type": "heatmap"
           }
          ],
          "heatmapgl": [
           {
            "colorbar": {
             "outlinewidth": 0,
             "ticks": ""
            },
            "colorscale": [
             [
              0,
              "#0d0887"
             ],
             [
              0.1111111111111111,
              "#46039f"
             ],
             [
              0.2222222222222222,
              "#7201a8"
             ],
             [
              0.3333333333333333,
              "#9c179e"
             ],
             [
              0.4444444444444444,
              "#bd3786"
             ],
             [
              0.5555555555555556,
              "#d8576b"
             ],
             [
              0.6666666666666666,
              "#ed7953"
             ],
             [
              0.7777777777777778,
              "#fb9f3a"
             ],
             [
              0.8888888888888888,
              "#fdca26"
             ],
             [
              1,
              "#f0f921"
             ]
            ],
            "type": "heatmapgl"
           }
          ],
          "histogram": [
           {
            "marker": {
             "pattern": {
              "fillmode": "overlay",
              "size": 10,
              "solidity": 0.2
             }
            },
            "type": "histogram"
           }
          ],
          "histogram2d": [
           {
            "colorbar": {
             "outlinewidth": 0,
             "ticks": ""
            },
            "colorscale": [
             [
              0,
              "#0d0887"
             ],
             [
              0.1111111111111111,
              "#46039f"
             ],
             [
              0.2222222222222222,
              "#7201a8"
             ],
             [
              0.3333333333333333,
              "#9c179e"
             ],
             [
              0.4444444444444444,
              "#bd3786"
             ],
             [
              0.5555555555555556,
              "#d8576b"
             ],
             [
              0.6666666666666666,
              "#ed7953"
             ],
             [
              0.7777777777777778,
              "#fb9f3a"
             ],
             [
              0.8888888888888888,
              "#fdca26"
             ],
             [
              1,
              "#f0f921"
             ]
            ],
            "type": "histogram2d"
           }
          ],
          "histogram2dcontour": [
           {
            "colorbar": {
             "outlinewidth": 0,
             "ticks": ""
            },
            "colorscale": [
             [
              0,
              "#0d0887"
             ],
             [
              0.1111111111111111,
              "#46039f"
             ],
             [
              0.2222222222222222,
              "#7201a8"
             ],
             [
              0.3333333333333333,
              "#9c179e"
             ],
             [
              0.4444444444444444,
              "#bd3786"
             ],
             [
              0.5555555555555556,
              "#d8576b"
             ],
             [
              0.6666666666666666,
              "#ed7953"
             ],
             [
              0.7777777777777778,
              "#fb9f3a"
             ],
             [
              0.8888888888888888,
              "#fdca26"
             ],
             [
              1,
              "#f0f921"
             ]
            ],
            "type": "histogram2dcontour"
           }
          ],
          "mesh3d": [
           {
            "colorbar": {
             "outlinewidth": 0,
             "ticks": ""
            },
            "type": "mesh3d"
           }
          ],
          "parcoords": [
           {
            "line": {
             "colorbar": {
              "outlinewidth": 0,
              "ticks": ""
             }
            },
            "type": "parcoords"
           }
          ],
          "pie": [
           {
            "automargin": true,
            "type": "pie"
           }
          ],
          "scatter": [
           {
            "fillpattern": {
             "fillmode": "overlay",
             "size": 10,
             "solidity": 0.2
            },
            "type": "scatter"
           }
          ],
          "scatter3d": [
           {
            "line": {
             "colorbar": {
              "outlinewidth": 0,
              "ticks": ""
             }
            },
            "marker": {
             "colorbar": {
              "outlinewidth": 0,
              "ticks": ""
             }
            },
            "type": "scatter3d"
           }
          ],
          "scattercarpet": [
           {
            "marker": {
             "colorbar": {
              "outlinewidth": 0,
              "ticks": ""
             }
            },
            "type": "scattercarpet"
           }
          ],
          "scattergeo": [
           {
            "marker": {
             "colorbar": {
              "outlinewidth": 0,
              "ticks": ""
             }
            },
            "type": "scattergeo"
           }
          ],
          "scattergl": [
           {
            "marker": {
             "colorbar": {
              "outlinewidth": 0,
              "ticks": ""
             }
            },
            "type": "scattergl"
           }
          ],
          "scattermapbox": [
           {
            "marker": {
             "colorbar": {
              "outlinewidth": 0,
              "ticks": ""
             }
            },
            "type": "scattermapbox"
           }
          ],
          "scatterpolar": [
           {
            "marker": {
             "colorbar": {
              "outlinewidth": 0,
              "ticks": ""
             }
            },
            "type": "scatterpolar"
           }
          ],
          "scatterpolargl": [
           {
            "marker": {
             "colorbar": {
              "outlinewidth": 0,
              "ticks": ""
             }
            },
            "type": "scatterpolargl"
           }
          ],
          "scatterternary": [
           {
            "marker": {
             "colorbar": {
              "outlinewidth": 0,
              "ticks": ""
             }
            },
            "type": "scatterternary"
           }
          ],
          "surface": [
           {
            "colorbar": {
             "outlinewidth": 0,
             "ticks": ""
            },
            "colorscale": [
             [
              0,
              "#0d0887"
             ],
             [
              0.1111111111111111,
              "#46039f"
             ],
             [
              0.2222222222222222,
              "#7201a8"
             ],
             [
              0.3333333333333333,
              "#9c179e"
             ],
             [
              0.4444444444444444,
              "#bd3786"
             ],
             [
              0.5555555555555556,
              "#d8576b"
             ],
             [
              0.6666666666666666,
              "#ed7953"
             ],
             [
              0.7777777777777778,
              "#fb9f3a"
             ],
             [
              0.8888888888888888,
              "#fdca26"
             ],
             [
              1,
              "#f0f921"
             ]
            ],
            "type": "surface"
           }
          ],
          "table": [
           {
            "cells": {
             "fill": {
              "color": "#EBF0F8"
             },
             "line": {
              "color": "white"
             }
            },
            "header": {
             "fill": {
              "color": "#C8D4E3"
             },
             "line": {
              "color": "white"
             }
            },
            "type": "table"
           }
          ]
         },
         "layout": {
          "annotationdefaults": {
           "arrowcolor": "#2a3f5f",
           "arrowhead": 0,
           "arrowwidth": 1
          },
          "autotypenumbers": "strict",
          "coloraxis": {
           "colorbar": {
            "outlinewidth": 0,
            "ticks": ""
           }
          },
          "colorscale": {
           "diverging": [
            [
             0,
             "#8e0152"
            ],
            [
             0.1,
             "#c51b7d"
            ],
            [
             0.2,
             "#de77ae"
            ],
            [
             0.3,
             "#f1b6da"
            ],
            [
             0.4,
             "#fde0ef"
            ],
            [
             0.5,
             "#f7f7f7"
            ],
            [
             0.6,
             "#e6f5d0"
            ],
            [
             0.7,
             "#b8e186"
            ],
            [
             0.8,
             "#7fbc41"
            ],
            [
             0.9,
             "#4d9221"
            ],
            [
             1,
             "#276419"
            ]
           ],
           "sequential": [
            [
             0,
             "#0d0887"
            ],
            [
             0.1111111111111111,
             "#46039f"
            ],
            [
             0.2222222222222222,
             "#7201a8"
            ],
            [
             0.3333333333333333,
             "#9c179e"
            ],
            [
             0.4444444444444444,
             "#bd3786"
            ],
            [
             0.5555555555555556,
             "#d8576b"
            ],
            [
             0.6666666666666666,
             "#ed7953"
            ],
            [
             0.7777777777777778,
             "#fb9f3a"
            ],
            [
             0.8888888888888888,
             "#fdca26"
            ],
            [
             1,
             "#f0f921"
            ]
           ],
           "sequentialminus": [
            [
             0,
             "#0d0887"
            ],
            [
             0.1111111111111111,
             "#46039f"
            ],
            [
             0.2222222222222222,
             "#7201a8"
            ],
            [
             0.3333333333333333,
             "#9c179e"
            ],
            [
             0.4444444444444444,
             "#bd3786"
            ],
            [
             0.5555555555555556,
             "#d8576b"
            ],
            [
             0.6666666666666666,
             "#ed7953"
            ],
            [
             0.7777777777777778,
             "#fb9f3a"
            ],
            [
             0.8888888888888888,
             "#fdca26"
            ],
            [
             1,
             "#f0f921"
            ]
           ]
          },
          "colorway": [
           "#636efa",
           "#EF553B",
           "#00cc96",
           "#ab63fa",
           "#FFA15A",
           "#19d3f3",
           "#FF6692",
           "#B6E880",
           "#FF97FF",
           "#FECB52"
          ],
          "font": {
           "color": "#2a3f5f"
          },
          "geo": {
           "bgcolor": "white",
           "lakecolor": "white",
           "landcolor": "white",
           "showlakes": true,
           "showland": true,
           "subunitcolor": "#C8D4E3"
          },
          "hoverlabel": {
           "align": "left"
          },
          "hovermode": "closest",
          "mapbox": {
           "style": "light"
          },
          "paper_bgcolor": "white",
          "plot_bgcolor": "white",
          "polar": {
           "angularaxis": {
            "gridcolor": "#EBF0F8",
            "linecolor": "#EBF0F8",
            "ticks": ""
           },
           "bgcolor": "white",
           "radialaxis": {
            "gridcolor": "#EBF0F8",
            "linecolor": "#EBF0F8",
            "ticks": ""
           }
          },
          "scene": {
           "xaxis": {
            "backgroundcolor": "white",
            "gridcolor": "#DFE8F3",
            "gridwidth": 2,
            "linecolor": "#EBF0F8",
            "showbackground": true,
            "ticks": "",
            "zerolinecolor": "#EBF0F8"
           },
           "yaxis": {
            "backgroundcolor": "white",
            "gridcolor": "#DFE8F3",
            "gridwidth": 2,
            "linecolor": "#EBF0F8",
            "showbackground": true,
            "ticks": "",
            "zerolinecolor": "#EBF0F8"
           },
           "zaxis": {
            "backgroundcolor": "white",
            "gridcolor": "#DFE8F3",
            "gridwidth": 2,
            "linecolor": "#EBF0F8",
            "showbackground": true,
            "ticks": "",
            "zerolinecolor": "#EBF0F8"
           }
          },
          "shapedefaults": {
           "line": {
            "color": "#2a3f5f"
           }
          },
          "ternary": {
           "aaxis": {
            "gridcolor": "#DFE8F3",
            "linecolor": "#A2B1C6",
            "ticks": ""
           },
           "baxis": {
            "gridcolor": "#DFE8F3",
            "linecolor": "#A2B1C6",
            "ticks": ""
           },
           "bgcolor": "white",
           "caxis": {
            "gridcolor": "#DFE8F3",
            "linecolor": "#A2B1C6",
            "ticks": ""
           }
          },
          "title": {
           "x": 0.05
          },
          "xaxis": {
           "automargin": true,
           "gridcolor": "#EBF0F8",
           "linecolor": "#EBF0F8",
           "ticks": "",
           "title": {
            "standoff": 15
           },
           "zerolinecolor": "#EBF0F8",
           "zerolinewidth": 2
          },
          "yaxis": {
           "automargin": true,
           "gridcolor": "#EBF0F8",
           "linecolor": "#EBF0F8",
           "ticks": "",
           "title": {
            "standoff": 15
           },
           "zerolinecolor": "#EBF0F8",
           "zerolinewidth": 2
          }
         }
        },
        "title": {
         "text": "InformativenessRating valid"
        },
        "yaxis": {
         "range": [
          0.7,
          1
         ]
        }
       }
      },
      "text/html": [
       "<div>                            <div id=\"9d0a1011-0680-484c-a9a9-dcef7d9f7dac\" class=\"plotly-graph-div\" style=\"height:525px; width:100%;\"></div>            <script type=\"text/javascript\">                require([\"plotly\"], function(Plotly) {                    window.PLOTLYENV=window.PLOTLYENV || {};                                    if (document.getElementById(\"9d0a1011-0680-484c-a9a9-dcef7d9f7dac\")) {                    Plotly.newPlot(                        \"9d0a1011-0680-484c-a9a9-dcef7d9f7dac\",                        [{\"hovertemplate\":\"model=deberta-small<br>percentage=%{x}<br>eval_metric_value=%{y}<extra></extra>\",\"legendgroup\":\"deberta-small\",\"marker\":{\"color\":\"#636efa\",\"symbol\":\"circle\"},\"mode\":\"markers\",\"name\":\"deberta-small\",\"orientation\":\"v\",\"showlegend\":true,\"x\":[0,10,20,30,40,50,60,70,80,90,100],\"xaxis\":\"x\",\"y\":[0.837037037037037,0.8625,0.8708333333333333,0.8606481481481482,0.8587962962962963,0.8564814814814815,0.8587962962962963,0.8555555555555556,0.8666666666666667,0.8648148148148148,0.8569444444444445],\"yaxis\":\"y\",\"type\":\"scatter\"},{\"hovertemplate\":\"model=deberta-base<br>percentage=%{x}<br>eval_metric_value=%{y}<extra></extra>\",\"legendgroup\":\"deberta-base\",\"marker\":{\"color\":\"#EF553B\",\"symbol\":\"diamond\"},\"mode\":\"markers\",\"name\":\"deberta-base\",\"orientation\":\"v\",\"showlegend\":true,\"x\":[0,10,20,30,40,50,60,70,80,90,100],\"xaxis\":\"x\",\"y\":[0.749074074074074,0.0,0.0,0.0,0.0,0.0,0.0,0.0,0.0,0.0,0.8777777777777778],\"yaxis\":\"y\",\"type\":\"scatter\"},{\"hovertemplate\":\"model=deberta-large<br>percentage=%{x}<br>eval_metric_value=%{y}<extra></extra>\",\"legendgroup\":\"deberta-large\",\"marker\":{\"color\":\"#00cc96\",\"symbol\":\"square\"},\"mode\":\"markers\",\"name\":\"deberta-large\",\"orientation\":\"v\",\"showlegend\":true,\"x\":[0,10,20,30,40,50,60,70,80,90,100],\"xaxis\":\"x\",\"y\":[0.7898148148148147,0.0,0.0,0.0,0.0,0.0,0.0,0.0,0.0,0.0,0.8208333333333333],\"yaxis\":\"y\",\"type\":\"scatter\"},{\"hovertemplate\":\"model=reward-deberta-base<br>percentage=%{x}<br>eval_metric_value=%{y}<extra></extra>\",\"legendgroup\":\"reward-deberta-base\",\"marker\":{\"color\":\"#ab63fa\",\"symbol\":\"x\"},\"mode\":\"markers\",\"name\":\"reward-deberta-base\",\"orientation\":\"v\",\"showlegend\":true,\"x\":[0,10,20,30,40,50,60,70,80,90,100],\"xaxis\":\"x\",\"y\":[0.825925925925926,0.0,0.0,0.0,0.0,0.0,0.0,0.0,0.0,0.0,0.8759259259259259],\"yaxis\":\"y\",\"type\":\"scatter\"},{\"hovertemplate\":\"model=reward-deberta-large<br>percentage=%{x}<br>eval_metric_value=%{y}<extra></extra>\",\"legendgroup\":\"reward-deberta-large\",\"marker\":{\"color\":\"#FFA15A\",\"symbol\":\"cross\"},\"mode\":\"markers\",\"name\":\"reward-deberta-large\",\"orientation\":\"v\",\"showlegend\":true,\"x\":[0,10,20,30,40,50,60,70,80,90,100],\"xaxis\":\"x\",\"y\":[0.7907407407407407,0.0,0.0,0.0,0.0,0.0,0.0,0.0,0.0,0.0,0.8166666666666667],\"yaxis\":\"y\",\"type\":\"scatter\"}],                        {\"template\":{\"data\":{\"histogram2dcontour\":[{\"type\":\"histogram2dcontour\",\"colorbar\":{\"outlinewidth\":0,\"ticks\":\"\"},\"colorscale\":[[0.0,\"#0d0887\"],[0.1111111111111111,\"#46039f\"],[0.2222222222222222,\"#7201a8\"],[0.3333333333333333,\"#9c179e\"],[0.4444444444444444,\"#bd3786\"],[0.5555555555555556,\"#d8576b\"],[0.6666666666666666,\"#ed7953\"],[0.7777777777777778,\"#fb9f3a\"],[0.8888888888888888,\"#fdca26\"],[1.0,\"#f0f921\"]]}],\"choropleth\":[{\"type\":\"choropleth\",\"colorbar\":{\"outlinewidth\":0,\"ticks\":\"\"}}],\"histogram2d\":[{\"type\":\"histogram2d\",\"colorbar\":{\"outlinewidth\":0,\"ticks\":\"\"},\"colorscale\":[[0.0,\"#0d0887\"],[0.1111111111111111,\"#46039f\"],[0.2222222222222222,\"#7201a8\"],[0.3333333333333333,\"#9c179e\"],[0.4444444444444444,\"#bd3786\"],[0.5555555555555556,\"#d8576b\"],[0.6666666666666666,\"#ed7953\"],[0.7777777777777778,\"#fb9f3a\"],[0.8888888888888888,\"#fdca26\"],[1.0,\"#f0f921\"]]}],\"heatmap\":[{\"type\":\"heatmap\",\"colorbar\":{\"outlinewidth\":0,\"ticks\":\"\"},\"colorscale\":[[0.0,\"#0d0887\"],[0.1111111111111111,\"#46039f\"],[0.2222222222222222,\"#7201a8\"],[0.3333333333333333,\"#9c179e\"],[0.4444444444444444,\"#bd3786\"],[0.5555555555555556,\"#d8576b\"],[0.6666666666666666,\"#ed7953\"],[0.7777777777777778,\"#fb9f3a\"],[0.8888888888888888,\"#fdca26\"],[1.0,\"#f0f921\"]]}],\"heatmapgl\":[{\"type\":\"heatmapgl\",\"colorbar\":{\"outlinewidth\":0,\"ticks\":\"\"},\"colorscale\":[[0.0,\"#0d0887\"],[0.1111111111111111,\"#46039f\"],[0.2222222222222222,\"#7201a8\"],[0.3333333333333333,\"#9c179e\"],[0.4444444444444444,\"#bd3786\"],[0.5555555555555556,\"#d8576b\"],[0.6666666666666666,\"#ed7953\"],[0.7777777777777778,\"#fb9f3a\"],[0.8888888888888888,\"#fdca26\"],[1.0,\"#f0f921\"]]}],\"contourcarpet\":[{\"type\":\"contourcarpet\",\"colorbar\":{\"outlinewidth\":0,\"ticks\":\"\"}}],\"contour\":[{\"type\":\"contour\",\"colorbar\":{\"outlinewidth\":0,\"ticks\":\"\"},\"colorscale\":[[0.0,\"#0d0887\"],[0.1111111111111111,\"#46039f\"],[0.2222222222222222,\"#7201a8\"],[0.3333333333333333,\"#9c179e\"],[0.4444444444444444,\"#bd3786\"],[0.5555555555555556,\"#d8576b\"],[0.6666666666666666,\"#ed7953\"],[0.7777777777777778,\"#fb9f3a\"],[0.8888888888888888,\"#fdca26\"],[1.0,\"#f0f921\"]]}],\"surface\":[{\"type\":\"surface\",\"colorbar\":{\"outlinewidth\":0,\"ticks\":\"\"},\"colorscale\":[[0.0,\"#0d0887\"],[0.1111111111111111,\"#46039f\"],[0.2222222222222222,\"#7201a8\"],[0.3333333333333333,\"#9c179e\"],[0.4444444444444444,\"#bd3786\"],[0.5555555555555556,\"#d8576b\"],[0.6666666666666666,\"#ed7953\"],[0.7777777777777778,\"#fb9f3a\"],[0.8888888888888888,\"#fdca26\"],[1.0,\"#f0f921\"]]}],\"mesh3d\":[{\"type\":\"mesh3d\",\"colorbar\":{\"outlinewidth\":0,\"ticks\":\"\"}}],\"scatter\":[{\"fillpattern\":{\"fillmode\":\"overlay\",\"size\":10,\"solidity\":0.2},\"type\":\"scatter\"}],\"parcoords\":[{\"type\":\"parcoords\",\"line\":{\"colorbar\":{\"outlinewidth\":0,\"ticks\":\"\"}}}],\"scatterpolargl\":[{\"type\":\"scatterpolargl\",\"marker\":{\"colorbar\":{\"outlinewidth\":0,\"ticks\":\"\"}}}],\"bar\":[{\"error_x\":{\"color\":\"#2a3f5f\"},\"error_y\":{\"color\":\"#2a3f5f\"},\"marker\":{\"line\":{\"color\":\"white\",\"width\":0.5},\"pattern\":{\"fillmode\":\"overlay\",\"size\":10,\"solidity\":0.2}},\"type\":\"bar\"}],\"scattergeo\":[{\"type\":\"scattergeo\",\"marker\":{\"colorbar\":{\"outlinewidth\":0,\"ticks\":\"\"}}}],\"scatterpolar\":[{\"type\":\"scatterpolar\",\"marker\":{\"colorbar\":{\"outlinewidth\":0,\"ticks\":\"\"}}}],\"histogram\":[{\"marker\":{\"pattern\":{\"fillmode\":\"overlay\",\"size\":10,\"solidity\":0.2}},\"type\":\"histogram\"}],\"scattergl\":[{\"type\":\"scattergl\",\"marker\":{\"colorbar\":{\"outlinewidth\":0,\"ticks\":\"\"}}}],\"scatter3d\":[{\"type\":\"scatter3d\",\"line\":{\"colorbar\":{\"outlinewidth\":0,\"ticks\":\"\"}},\"marker\":{\"colorbar\":{\"outlinewidth\":0,\"ticks\":\"\"}}}],\"scattermapbox\":[{\"type\":\"scattermapbox\",\"marker\":{\"colorbar\":{\"outlinewidth\":0,\"ticks\":\"\"}}}],\"scatterternary\":[{\"type\":\"scatterternary\",\"marker\":{\"colorbar\":{\"outlinewidth\":0,\"ticks\":\"\"}}}],\"scattercarpet\":[{\"type\":\"scattercarpet\",\"marker\":{\"colorbar\":{\"outlinewidth\":0,\"ticks\":\"\"}}}],\"carpet\":[{\"aaxis\":{\"endlinecolor\":\"#2a3f5f\",\"gridcolor\":\"#C8D4E3\",\"linecolor\":\"#C8D4E3\",\"minorgridcolor\":\"#C8D4E3\",\"startlinecolor\":\"#2a3f5f\"},\"baxis\":{\"endlinecolor\":\"#2a3f5f\",\"gridcolor\":\"#C8D4E3\",\"linecolor\":\"#C8D4E3\",\"minorgridcolor\":\"#C8D4E3\",\"startlinecolor\":\"#2a3f5f\"},\"type\":\"carpet\"}],\"table\":[{\"cells\":{\"fill\":{\"color\":\"#EBF0F8\"},\"line\":{\"color\":\"white\"}},\"header\":{\"fill\":{\"color\":\"#C8D4E3\"},\"line\":{\"color\":\"white\"}},\"type\":\"table\"}],\"barpolar\":[{\"marker\":{\"line\":{\"color\":\"white\",\"width\":0.5},\"pattern\":{\"fillmode\":\"overlay\",\"size\":10,\"solidity\":0.2}},\"type\":\"barpolar\"}],\"pie\":[{\"automargin\":true,\"type\":\"pie\"}]},\"layout\":{\"autotypenumbers\":\"strict\",\"colorway\":[\"#636efa\",\"#EF553B\",\"#00cc96\",\"#ab63fa\",\"#FFA15A\",\"#19d3f3\",\"#FF6692\",\"#B6E880\",\"#FF97FF\",\"#FECB52\"],\"font\":{\"color\":\"#2a3f5f\"},\"hovermode\":\"closest\",\"hoverlabel\":{\"align\":\"left\"},\"paper_bgcolor\":\"white\",\"plot_bgcolor\":\"white\",\"polar\":{\"bgcolor\":\"white\",\"angularaxis\":{\"gridcolor\":\"#EBF0F8\",\"linecolor\":\"#EBF0F8\",\"ticks\":\"\"},\"radialaxis\":{\"gridcolor\":\"#EBF0F8\",\"linecolor\":\"#EBF0F8\",\"ticks\":\"\"}},\"ternary\":{\"bgcolor\":\"white\",\"aaxis\":{\"gridcolor\":\"#DFE8F3\",\"linecolor\":\"#A2B1C6\",\"ticks\":\"\"},\"baxis\":{\"gridcolor\":\"#DFE8F3\",\"linecolor\":\"#A2B1C6\",\"ticks\":\"\"},\"caxis\":{\"gridcolor\":\"#DFE8F3\",\"linecolor\":\"#A2B1C6\",\"ticks\":\"\"}},\"coloraxis\":{\"colorbar\":{\"outlinewidth\":0,\"ticks\":\"\"}},\"colorscale\":{\"sequential\":[[0.0,\"#0d0887\"],[0.1111111111111111,\"#46039f\"],[0.2222222222222222,\"#7201a8\"],[0.3333333333333333,\"#9c179e\"],[0.4444444444444444,\"#bd3786\"],[0.5555555555555556,\"#d8576b\"],[0.6666666666666666,\"#ed7953\"],[0.7777777777777778,\"#fb9f3a\"],[0.8888888888888888,\"#fdca26\"],[1.0,\"#f0f921\"]],\"sequentialminus\":[[0.0,\"#0d0887\"],[0.1111111111111111,\"#46039f\"],[0.2222222222222222,\"#7201a8\"],[0.3333333333333333,\"#9c179e\"],[0.4444444444444444,\"#bd3786\"],[0.5555555555555556,\"#d8576b\"],[0.6666666666666666,\"#ed7953\"],[0.7777777777777778,\"#fb9f3a\"],[0.8888888888888888,\"#fdca26\"],[1.0,\"#f0f921\"]],\"diverging\":[[0,\"#8e0152\"],[0.1,\"#c51b7d\"],[0.2,\"#de77ae\"],[0.3,\"#f1b6da\"],[0.4,\"#fde0ef\"],[0.5,\"#f7f7f7\"],[0.6,\"#e6f5d0\"],[0.7,\"#b8e186\"],[0.8,\"#7fbc41\"],[0.9,\"#4d9221\"],[1,\"#276419\"]]},\"xaxis\":{\"gridcolor\":\"#EBF0F8\",\"linecolor\":\"#EBF0F8\",\"ticks\":\"\",\"title\":{\"standoff\":15},\"zerolinecolor\":\"#EBF0F8\",\"automargin\":true,\"zerolinewidth\":2},\"yaxis\":{\"gridcolor\":\"#EBF0F8\",\"linecolor\":\"#EBF0F8\",\"ticks\":\"\",\"title\":{\"standoff\":15},\"zerolinecolor\":\"#EBF0F8\",\"automargin\":true,\"zerolinewidth\":2},\"scene\":{\"xaxis\":{\"backgroundcolor\":\"white\",\"gridcolor\":\"#DFE8F3\",\"linecolor\":\"#EBF0F8\",\"showbackground\":true,\"ticks\":\"\",\"zerolinecolor\":\"#EBF0F8\",\"gridwidth\":2},\"yaxis\":{\"backgroundcolor\":\"white\",\"gridcolor\":\"#DFE8F3\",\"linecolor\":\"#EBF0F8\",\"showbackground\":true,\"ticks\":\"\",\"zerolinecolor\":\"#EBF0F8\",\"gridwidth\":2},\"zaxis\":{\"backgroundcolor\":\"white\",\"gridcolor\":\"#DFE8F3\",\"linecolor\":\"#EBF0F8\",\"showbackground\":true,\"ticks\":\"\",\"zerolinecolor\":\"#EBF0F8\",\"gridwidth\":2}},\"shapedefaults\":{\"line\":{\"color\":\"#2a3f5f\"}},\"annotationdefaults\":{\"arrowcolor\":\"#2a3f5f\",\"arrowhead\":0,\"arrowwidth\":1},\"geo\":{\"bgcolor\":\"white\",\"landcolor\":\"white\",\"subunitcolor\":\"#C8D4E3\",\"showland\":true,\"showlakes\":true,\"lakecolor\":\"white\"},\"title\":{\"x\":0.05},\"mapbox\":{\"style\":\"light\"}}},\"yaxis\":{\"range\":[0.7,1]},\"title\":{\"text\":\"InformativenessRating valid\"}},                        {\"responsive\": true}                    ).then(function(){\n",
       "                            \n",
       "var gd = document.getElementById('9d0a1011-0680-484c-a9a9-dcef7d9f7dac');\n",
       "var x = new MutationObserver(function (mutations, observer) {{\n",
       "        var display = window.getComputedStyle(gd).display;\n",
       "        if (!display || display === 'none') {{\n",
       "            console.log([gd, 'removed!']);\n",
       "            Plotly.purge(gd);\n",
       "            observer.disconnect();\n",
       "        }}\n",
       "}});\n",
       "\n",
       "// Listen for the removal of the full notebook cells\n",
       "var notebookContainer = gd.closest('#notebook-container');\n",
       "if (notebookContainer) {{\n",
       "    x.observe(notebookContainer, {childList: true});\n",
       "}}\n",
       "\n",
       "// Listen for the clearing of the current output cell\n",
       "var outputEl = gd.closest('.output');\n",
       "if (outputEl) {{\n",
       "    x.observe(outputEl, {childList: true});\n",
       "}}\n",
       "\n",
       "                        })                };                });            </script>        </div>"
      ]
     },
     "metadata": {},
     "output_type": "display_data"
    }
   ],
   "source": [
    "for metric in METRICS:\n",
    "    for split in get_args(Split):\n",
    "        plot_scores(df_total_melt, metric, split)"
   ]
  },
  {
   "cell_type": "code",
   "execution_count": null,
   "metadata": {},
   "outputs": [],
   "source": []
  }
 ],
 "metadata": {
  "kernelspec": {
   "display_name": ".env",
   "language": "python",
   "name": "python3"
  },
  "language_info": {
   "codemirror_mode": {
    "name": "ipython",
    "version": 3
   },
   "file_extension": ".py",
   "mimetype": "text/x-python",
   "name": "python",
   "nbconvert_exporter": "python",
   "pygments_lexer": "ipython3",
   "version": "3.8.10"
  },
  "orig_nbformat": 4
 },
 "nbformat": 4,
 "nbformat_minor": 2
}
